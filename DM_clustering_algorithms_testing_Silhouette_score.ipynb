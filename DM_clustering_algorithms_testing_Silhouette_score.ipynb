{
 "cells": [
  {
   "cell_type": "code",
   "execution_count": 4,
   "id": "8ad457fa",
   "metadata": {},
   "outputs": [],
   "source": [
    "import pandas as pd\n",
    "import numpy as np\n",
    "import matplotlib.pyplot as plt\n",
    "from scipy import spatial\n",
    "import sys\n",
    "import warnings\n",
    "if not sys.warnoptions:\n",
    "    warnings.simplefilter(\"ignore\")\n",
    "\n",
    "\n",
    "from scipy.cluster.hierarchy import ward, complete, fcluster\n",
    "from scipy.spatial.distance import pdist,cosine,cdist\n",
    "from sklearn.cluster import KMeans\n",
    "from sklearn import metrics"
   ]
  },
  {
   "cell_type": "code",
   "execution_count": 5,
   "id": "39dcbed4",
   "metadata": {},
   "outputs": [],
   "source": [
    "def ward_clustering(X,vectorColumns,threshold):\n",
    "    '''Ward clustering'''\n",
    "    m,n = X.shape\n",
    "    if m>2:\n",
    "        pairwise_distance = pdist(X[vectorColumns], metric='euclidean')\n",
    "\n",
    "        labels = fcluster(ward(pairwise_distance), t=threshold, criterion='distance')\n",
    "        num_clusters = labels.max()\n",
    "        return labels\n",
    "    else: \n",
    "        return X.index.values\n",
    "    \n",
    "def complete_clustering(X,vectorColumns,threshold):\n",
    "    '''Complete-link clustering'''\n",
    "    m,n = X.shape\n",
    "    if m>2:\n",
    "        pairwise_distance = pdist(X[vectorColumns], metric='euclidean')\n",
    "\n",
    "        labels = fcluster(complete(pairwise_distance), t=threshold, criterion='distance')\n",
    "        num_clusters = labels.max()\n",
    "        return labels\n",
    "    else: \n",
    "        return X.index.values\n",
    "\n",
    "def kmeans_clustering(X,vectorColumns, n_clusters, random_state=42):\n",
    "    '''KMeans clustering'''\n",
    "    m,n = X.shape\n",
    "    if m>2:\n",
    "        model = KMeans(n_clusters=n_clusters, random_state=random_state)\n",
    "        model.fit(X[vectorColumns])\n",
    "        return model.labels_\n",
    "    else:\n",
    "        return X.index.values\n",
    "    \n",
    "      \n",
    "def f_silhouette_score(df, labels, scores):\n",
    "    '''Calculating average Silhouette score over all users clusterings''' \n",
    "    if labels.nunique() < 2 or labels.nunique() == len(df):\n",
    "        scores.append(9999)\n",
    "    else:\n",
    "        score = metrics.silhouette_score(df[vectorColumns], labels, metric = 'euclidean')\n",
    "        scores.append(score)"
   ]
  },
  {
   "cell_type": "code",
   "execution_count": 19,
   "id": "df567dc8",
   "metadata": {},
   "outputs": [],
   "source": [
    "# it takes about 1 hour to run this\n",
    "\n",
    "\n",
    "threshold_w = 3\n",
    "threshold_c = 1\n",
    "\n",
    "# lists to aggregate scores over users' clusterings\n",
    "ward_matrix_score = []\n",
    "kmeans_ward_matrix_score = []\n",
    "kmeans_k_matrix_score = []\n",
    "complete_matrix_score = []\n",
    "\n",
    "history = 'generate/user_history_19.csv'\n",
    "df = pd.read_csv(history)\n",
    "\n",
    "df_news_embedding = pd.read_csv('generate/news_embedding.csv')\n",
    "df_news_meta = pd.read_csv('generate/news_cleaned.csv')\n",
    "\n",
    "df = df.merge(df_news_embedding,on='NID')\n",
    "df = df.merge(df_news_meta,on='NID')\n",
    "\n",
    "vectorColumns = [c for c in df.columns if c.startswith('V')]\n",
    "\n",
    "# list of unique users\n",
    "users = df['UID'].unique().tolist()[1:]\n",
    "# print(len(users))\n",
    "\n",
    "# create clustering for each user\n",
    "for user in users:\n",
    "    df_user = df[df['UID'] == user]\n",
    "    \n",
    "    if len(df_user)<100:\n",
    "        continue\n",
    "\n",
    "\n",
    "    # WARD clustering\n",
    "    df_user.loc[df_user['UID'] == user, 'labels_ward'] = ward_clustering(df_user,vectorColumns,threshold_w)\n",
    "    \n",
    "    # COMPLETE LINK clustering\n",
    "    df_user.loc[df_user['UID'] == user, 'labels_complete'] = complete_clustering(df_user,vectorColumns,threshold_c)\n",
    "    \n",
    "    # KMEANS clustering based on Ward\n",
    "    n = df_user['labels_ward'].nunique()\n",
    "    df_user.loc[df_user['UID'] == user, 'labels_kmeans_ward'] = kmeans_clustering(df_user,vectorColumns,n)\n",
    "    \n",
    "    # KMEANS clustering with k = 5\n",
    "    n = 10\n",
    "#     if len(df_user)<5:\n",
    "#         n = len(df_user) - 1\n",
    "    df_user.loc[df_user['UID'] == user, 'labels_kmeans_k'] = kmeans_clustering(df_user,vectorColumns,n)\n",
    "\n",
    "    \n",
    "    # WARD silhouette_score\n",
    "    f_silhouette_score(df_user, df_user['labels_ward'], ward_matrix_score)\n",
    "\n",
    "    # COMPLETE silhouette_score\n",
    "    f_silhouette_score(df_user, df_user['labels_complete'], complete_matrix_score)\n",
    "    \n",
    "    # KMEANS based on Ward silhouette_score\n",
    "    f_silhouette_score(df_user, df_user['labels_kmeans_ward'], kmeans_ward_matrix_score)\n",
    "    \n",
    "    # KMEANS k = 5 silhouette_score\n",
    "    f_silhouette_score(df_user, df_user['labels_kmeans_k'], kmeans_k_matrix_score)"
   ]
  },
  {
   "cell_type": "code",
   "execution_count": 20,
   "id": "bfcf0938",
   "metadata": {},
   "outputs": [
    {
     "name": "stdout",
     "output_type": "stream",
     "text": [
      "Silhouette score for Ward algorithm: 0.217\n",
      "Silhouette score for Complete-link algorithm: 0.221\n",
      "Silhouette score for KMeans based on Ward algorithm: 0.231\n",
      "Silhouette score for KMeans with k=5 algorithm: 0.124\n"
     ]
    }
   ],
   "source": [
    "# when clustering procedure ended with one cluster for all samples or with one cluster for each sample\n",
    "# it is impossible to calculate Silhouette score\n",
    "# these cases were excluded\n",
    "\n",
    "def delete_9999(lst):\n",
    "    lst = [i for i in lst if i != 9999]\n",
    "    return lst\n",
    "\n",
    "ward_matrix_score = delete_9999(ward_matrix_score)\n",
    "complete_matrix_score = delete_9999(complete_matrix_score)\n",
    "kmeans_ward_matrix_score = delete_9999(kmeans_ward_matrix_score)\n",
    "kmeans_k_matrix_score = delete_9999(kmeans_k_matrix_score)\n",
    "\n",
    "print('Silhouette score for Ward algorithm:', round(np.mean(ward_matrix_score), 3))\n",
    "print('Silhouette score for Complete-link algorithm:', round(np.mean(complete_matrix_score), 3))\n",
    "print('Silhouette score for KMeans based on Ward algorithm:', round(np.mean(kmeans_ward_matrix_score), 3))\n",
    "print('Silhouette score for KMeans with k=5 algorithm:', round(np.mean(kmeans_k_matrix_score), 3))"
   ]
  },
  {
   "cell_type": "code",
   "execution_count": 21,
   "id": "12a67a18",
   "metadata": {},
   "outputs": [
    {
     "data": {
      "text/plain": [
       "108"
      ]
     },
     "execution_count": 21,
     "metadata": {},
     "output_type": "execute_result"
    }
   ],
   "source": [
    "len(ward_matrix_score)"
   ]
  },
  {
   "cell_type": "code",
   "execution_count": 13,
   "id": "711bda26",
   "metadata": {},
   "outputs": [
    {
     "data": {
      "text/plain": [
       "0"
      ]
     },
     "execution_count": 13,
     "metadata": {},
     "output_type": "execute_result"
    }
   ],
   "source": [
    "len(complete_matrix_score)"
   ]
  },
  {
   "cell_type": "code",
   "execution_count": null,
   "id": "06bba531",
   "metadata": {},
   "outputs": [],
   "source": []
  }
 ],
 "metadata": {
  "kernelspec": {
   "display_name": "Python 3",
   "language": "python",
   "name": "python3"
  },
  "language_info": {
   "codemirror_mode": {
    "name": "ipython",
    "version": 3
   },
   "file_extension": ".py",
   "mimetype": "text/x-python",
   "name": "python",
   "nbconvert_exporter": "python",
   "pygments_lexer": "ipython3",
   "version": "3.7.10"
  }
 },
 "nbformat": 4,
 "nbformat_minor": 5
}
