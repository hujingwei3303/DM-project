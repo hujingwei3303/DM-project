{
 "cells": [
  {
   "cell_type": "markdown",
   "id": "a98078bd",
   "metadata": {},
   "source": [
    "### Run onece, to check environment"
   ]
  },
  {
   "cell_type": "code",
   "execution_count": 1,
   "id": "f7ac3704",
   "metadata": {},
   "outputs": [],
   "source": [
    "#!pip3 install -r requirements.txt"
   ]
  },
  {
   "cell_type": "markdown",
   "id": "94de3c03",
   "metadata": {},
   "source": [
    "### Load Libraries"
   ]
  },
  {
   "cell_type": "code",
   "execution_count": 1,
   "id": "e1f58e75",
   "metadata": {},
   "outputs": [],
   "source": [
    "import pandas as pd\n",
    "import numpy as np\n",
    "import matplotlib.pyplot as plt\n",
    "from scipy import spatial\n",
    "import sys\n",
    "import warnings\n",
    "\n",
    "if not sys.warnoptions:\n",
    "    warnings.simplefilter(\"ignore\")"
   ]
  },
  {
   "cell_type": "code",
   "execution_count": 2,
   "id": "b7a20e12",
   "metadata": {},
   "outputs": [],
   "source": [
    "behaviors = 'MINDlarge_train/behaviors.tsv'\n",
    "news = 'MINDlarge_train/news.tsv'\n",
    "entityEmbedding = 'MINDlarge_train/entity_embedding.vec'"
   ]
  },
  {
   "cell_type": "code",
   "execution_count": 3,
   "id": "15a660a9",
   "metadata": {},
   "outputs": [],
   "source": [
    "from scipy.cluster.hierarchy import ward, fcluster\n",
    "from scipy.spatial.distance import pdist,cosine,cdist,squareform\n",
    "import numpy.ma as ma\n",
    "\n",
    "def clustering(X,vectorColumns,threshold,lam,withCentroid=False):\n",
    "    ''' X \n",
    "            [dataframe] group of user history\n",
    "        vectorColumns \n",
    "            [array like] embedding columns V1,V2....V300\n",
    "        threshold\n",
    "            [number] threshold for ward clustering\n",
    "        lam \n",
    "            [number] paramter for importance sampling\n",
    "       '''\n",
    "    m,n = X.shape\n",
    "    #print(X)\n",
    "    if m>1:\n",
    "        pairwise_distance = pdist(X[vectorColumns], metric='cosine')\n",
    "        \n",
    "        labels = fcluster(ward(pairwise_distance), t=threshold, criterion='distance')\n",
    "        #print(labels)\n",
    "        num_clusters = labels.max()\n",
    "        \n",
    "        scores = {}\n",
    "        for i in range(num_clusters):\n",
    "            c = i+1 #choose cluster\n",
    "            #if we use sum, both consider number of item and time importance\n",
    "            importance_score = X.loc[labels==c].importance.sum()\n",
    "            scores[c] = importance_score\n",
    "        \n",
    "        if num_clusters>3:\n",
    "            p = np.array(list(scores.values()))\n",
    "            sum_score = p.sum()\n",
    "            p /= sum_score\n",
    "            chosed = np.random.choice(list(scores.keys()),p=p,size=3,replace=False)\n",
    "        else:\n",
    "            chosed = np.array(list(scores.keys()))\n",
    "            \n",
    "        \n",
    "        medoids = []\n",
    "        distance_upper_bound = []\n",
    "        \n",
    "        pairwise = squareform(pairwise_distance) \n",
    "        \n",
    "        if withCentroid:\n",
    "            centroids = []\n",
    "           \n",
    "            \n",
    "        for c in chosed:\n",
    "            idx = np.argwhere(labels==c).flatten()\n",
    "            len_idx = len(idx)\n",
    "        \n",
    "            \n",
    "            mask = np.ones(pairwise.shape,dtype=int)\n",
    "            \n",
    "            for j in idx:\n",
    "                mask[j,idx]=0\n",
    "            masked_pairwise = ma.array(pairwise, mask = mask)\n",
    "            \n",
    "            if withCentroid:\n",
    "                mean_vector = X.loc[X.index[idx]][vectorColumns].mean().values\n",
    "            \n",
    "            if len_idx<3:\n",
    "                distance_upper_bound.append(0.5)   \n",
    "                medoids.append(X.loc[X.index[idx[0]]][vectorColumns].values)\n",
    "                if withCentroid:\n",
    "                    centroids.append(mean_vector) \n",
    "                continue\n",
    "            min_distance_i = masked_pairwise.sum(axis=1).argmin()\n",
    "            distances_i = masked_pairwise.compressed().reshape((len_idx,len_idx))[0]\n",
    "            distances_i = distances_i[~(distances_i==0)]\n",
    "            \n",
    "            #68%-95%-99.8% for 1,2,3 std\n",
    "            #!!!!!however\n",
    "            #according to the result, larger cluster has lower std.\n",
    "            \n",
    "            distance_upper_bound.append(distances_i.mean()+2*distances_i.std())   \n",
    "            medoids.append(X.loc[X.index[min_distance_i]][vectorColumns].values)\n",
    "            \n",
    "            if withCentroid:\n",
    "                centroids.append(mean_vector)\n",
    "            \n",
    "        if withCentroid:\n",
    "            return medoids,centroids,distance_upper_bound\n",
    "        else:\n",
    "            return medoids,distance_upper_bound\n",
    "    else:\n",
    "        if withCentroid:\n",
    "            return X[vectorColumns].values,X[vectorColumns].values,0.5*np.ones(X.shape[0])\n",
    "        else:\n",
    "            return X[vectorColumns].values,0.5*np.ones(X.shape[0])\n",
    "\n",
    "def randomSelection(X, vectorColumns):\n",
    "    return X.sample()[vectorColumns].values, 0.5\n",
    "\n",
    "def lastArticleSelection(X, vectorColumns):\n",
    "    return [X.loc[X.index[len(X)-1]][vectorColumns].values], 0.5\n",
    "\n",
    "def baselineTest(df_history, method=\"random\"):\n",
    "    df_news_embedding = pd.read_csv('generate/news_embedding.csv')\n",
    "    df_news_meta = pd.read_csv('generate/news_cleaned.csv')\n",
    "\n",
    "    df_history = df_history.merge(df_news_embedding,on='NID')\n",
    "    df_history = df_history.merge(df_news_meta,on='NID')\n",
    "\n",
    "    vectorColumns = [c for c in df_history.columns if c.startswith('V')]\n",
    "\n",
    "    records_medoid = []\n",
    "    for UID,g in df_history.groupby('UID'):\n",
    "        \n",
    "        if method==\"random\":\n",
    "            medoid,radius = randomSelection(g, vectorColumns)\n",
    "        elif method==\"last\":\n",
    "            medoid,radius = lastArticleSelection(g, vectorColumns)\n",
    "        \n",
    "        record = []\n",
    "        record.append(UID)\n",
    "        record+=medoid[0].tolist()\n",
    "        record.append(0.5)\n",
    "        records_medoid.append(record)\n",
    "\n",
    "    df_medoid = pd.DataFrame.from_records(records_medoid,columns=['UID']+vectorColumns+['radius'])\n",
    "    return df_medoid\n",
    "    \n",
    "def clusteringBatch(df_history,t0,threshold=0.7,lam=0.01,withCentroid=False,method=\"ward\",constantRadius=0.0):\n",
    "    df_news_embedding = pd.read_csv('generate/news_embedding.csv')\n",
    "    df_news_meta = pd.read_csv('generate/news_cleaned.csv')\n",
    "    \n",
    "    #df_history = df_history[df_history.UID=='U1']\n",
    " \n",
    "    df_history = df_history.merge(df_news_embedding,on='NID')\n",
    "    df_history = df_history.merge(df_news_meta,on='NID')\n",
    "\n",
    "\n",
    "    df_history['importance'] = np.exp(-lam*(t0-df_history.publishDate)/100000)\n",
    "\n",
    "    vectorColumns = [c for c in df_history.columns if c.startswith('V')]\n",
    "\n",
    "    if withCentroid:\n",
    "        records_medoid = []\n",
    "        records_centroid = []\n",
    "        \n",
    "        for UID,g in df_history.groupby('UID'):\n",
    "            medoid,centroid,radius = clustering(g,vectorColumns,threshold,lam,withCentroid)\n",
    "        \n",
    "            len_centroid = len(centroid)\n",
    "        \n",
    "            for c in range(len_centroid):\n",
    "                record = []\n",
    "                record.append(UID)\n",
    "                record+=centroid[c].tolist()\n",
    "                if constantRadius != 0.0:\n",
    "                    record.append(constantRadius)\n",
    "                else:                    \n",
    "                    record.append(radius[c])\n",
    "                records_centroid.append(record)\n",
    "\n",
    "                record = []\n",
    "                record.append(UID)\n",
    "                record+=medoid[c].tolist()\n",
    "                if constantRadius != 0.0:\n",
    "                    record.append(constantRadius)\n",
    "                else:                    \n",
    "                    record.append(radius[c])\n",
    "                records_medoid.append(record)\n",
    "        \n",
    "        df_centroid = pd.DataFrame.from_records(records_centroid,columns=['UID']+vectorColumns+['radius'])\n",
    "        df_medoid = pd.DataFrame.from_records(records_medoid,columns=['UID']+vectorColumns+['radius'])\n",
    "        return df_medoid,df_centroid\n",
    "    else:\n",
    "        medoid,radius = clustering(g,vectorColumns,threshold,lam,withCentroid)\n",
    "        \n",
    "        len_medoid = len(medoid)\n",
    "        \n",
    "        for c in range(len_centroid):\n",
    "            record = []\n",
    "            record.append(UID)\n",
    "            record+=centroid[c].tolist()\n",
    "            record.append(radius[c])\n",
    "            records_medoid.append(record)\n",
    "                \n",
    "        \n",
    "        df_medoid = pd.DataFrame.from_records(records_medoid,columns=['UID']+vectorColumns+['radius'])\n",
    "        return df_medoid"
   ]
  },
  {
   "cell_type": "markdown",
   "id": "cb130346",
   "metadata": {},
   "source": [
    "### what if use centroid of clustering as user representation"
   ]
  },
  {
   "cell_type": "code",
   "execution_count": 4,
   "id": "a9c32948",
   "metadata": {},
   "outputs": [],
   "source": [
    "def measurement(df_impression,df_user_representation):\n",
    "    df_impression = df_impression[df_impression.attitude==1]\n",
    "    \n",
    "    #df_impression = df_impression[df_impression.UID=='U1']\n",
    "    \n",
    "    df_news_embedding = pd.read_csv('generate/news_embedding.csv')\n",
    "    df_impression = df_impression.merge(df_news_embedding,on='NID')\n",
    "    \n",
    "    vectorColumns = [c for c in df_impression.columns if c.startswith('V')]\n",
    "        \n",
    "    measure = []\n",
    "    for UID,g in df_impression.groupby('UID'):\n",
    "        \n",
    "        user = df_user_representation[df_user_representation.UID==UID]\n",
    "        \n",
    "        if len(user)==0:\n",
    "            continue\n",
    "        \n",
    "        user_radius = user.radius.values\n",
    "        user = user[vectorColumns].values\n",
    "        \n",
    "        positive = g[vectorColumns]\n",
    "        \n",
    "        d = cdist(positive,user, metric='cosine')\n",
    "       \n",
    "        #at least one distance in radius\n",
    "        hits = (d<user_radius).sum(axis=1)>0\n",
    "        recall = hits.mean()\n",
    "        \n",
    "        hits_d = d[hits]\n",
    "        where_clusters = hits_d.argmin(axis=1)\n",
    "        \n",
    "        hit = 1 - len(np.unique(where_clusters))/len(user)\n",
    "       \n",
    "        measure.append((UID,recall,hit))\n",
    "        \n",
    "    return pd.DataFrame.from_records(measure,columns=['UID','recall','percent_empty'])"
   ]
  },
  {
   "cell_type": "code",
   "execution_count": 5,
   "id": "9f2bbc18",
   "metadata": {},
   "outputs": [],
   "source": [
    "def getResults(history,impression,t0,threshold,lam):\n",
    "    res = []\n",
    "    print(\"Clustering...\")\n",
    "    medoids,centroids = clusteringBatch(history,t0,threshold=threshold,lam=lam,withCentroid=True,constantRadius=0.5)\n",
    "    print(\"Evaluating...\")\n",
    "    m_c = measurement(impression,centroids)\n",
    "    m_m = measurement(impression,medoids)\n",
    "    print(m_m)\n",
    "    res.append(threshold)\n",
    "    res.append(lam)\n",
    "    res.append(m_m.recall.mean()) \n",
    "    res.append(m_m.percent_empty.mean())\n",
    "    res.append(medoids.radius.mean())\n",
    "    res.append(medoids.groupby(\"UID\").size().mean())\n",
    "    res.append(m_c.recall.mean()) \n",
    "    res.append(m_c.percent_empty.mean())\n",
    "    res.append(centroids.radius.mean())\n",
    "    res.append(centroids.groupby(\"UID\").size().mean())\n",
    "    return res\n",
    "\n",
    "def evaluate(subsetNr, size=-1):\n",
    "    history = 'generate/user_history_'+subsetNr+'.csv'\n",
    "    impression = 'generate/user_impressions_'+subsetNr+'.csv'\n",
    "    df_impression = pd.read_csv(impression)\n",
    "    df_history = pd.read_csv(history)\n",
    "    if size != -1:\n",
    "        df_impression = df_impression[0:size]\n",
    "    t0 = 1575586800+1000\n",
    "    result = []\n",
    "    lam = [0.01]\n",
    "    threshold = [0.5, 0.75, 1.0, 1.25, 1.50, 2.0, 3.0, 4.0, 5.0]\n",
    "    for t in threshold:\n",
    "        for l in lam:\n",
    "            print(\"Running with threshold\", t, \"and lambda\", l)\n",
    "            r = getResults(df_history, df_impression, t0, t, l)\n",
    "            print(r)\n",
    "            result.append(r)\n",
    "    return pd.DataFrame(result, columns=['Threshold','Lambda','Medoid Recall','Empty medoids','Medoid radius','Medoids per user','Centroid Recall','Empty centroids','Centroid radius','Centroids per user'])\n"
   ]
  },
  {
   "cell_type": "code",
   "execution_count": null,
   "id": "8ec8f927",
   "metadata": {},
   "outputs": [],
   "source": [
    "df = evaluate(\"12\",-1)"
   ]
  },
  {
   "cell_type": "code",
   "execution_count": 205,
   "id": "d41d692f",
   "metadata": {},
   "outputs": [],
   "source": [
    "#df.to_csv(\"threshold_tuning.csv\")"
   ]
  },
  {
   "cell_type": "code",
   "execution_count": 204,
   "id": "4dd6955c",
   "metadata": {},
   "outputs": [
    {
     "data": {
      "text/html": [
       "<div>\n",
       "<style scoped>\n",
       "    .dataframe tbody tr th:only-of-type {\n",
       "        vertical-align: middle;\n",
       "    }\n",
       "\n",
       "    .dataframe tbody tr th {\n",
       "        vertical-align: top;\n",
       "    }\n",
       "\n",
       "    .dataframe thead th {\n",
       "        text-align: right;\n",
       "    }\n",
       "</style>\n",
       "<table border=\"1\" class=\"dataframe\">\n",
       "  <thead>\n",
       "    <tr style=\"text-align: right;\">\n",
       "      <th></th>\n",
       "      <th>Threshold</th>\n",
       "      <th>Lambda</th>\n",
       "      <th>Medoid Recall</th>\n",
       "      <th>Empty medoids</th>\n",
       "      <th>Medoid radius</th>\n",
       "      <th>Medoids per user</th>\n",
       "      <th>Centroid Recall</th>\n",
       "      <th>Empty centroids</th>\n",
       "      <th>Centroid radius</th>\n",
       "      <th>Centroids per user</th>\n",
       "    </tr>\n",
       "  </thead>\n",
       "  <tbody>\n",
       "    <tr>\n",
       "      <th>0</th>\n",
       "      <td>0.50</td>\n",
       "      <td>0.01</td>\n",
       "      <td>0.425352</td>\n",
       "      <td>0.674440</td>\n",
       "      <td>0.5</td>\n",
       "      <td>2.825333</td>\n",
       "      <td>0.443205</td>\n",
       "      <td>0.663246</td>\n",
       "      <td>0.5</td>\n",
       "      <td>2.825333</td>\n",
       "    </tr>\n",
       "    <tr>\n",
       "      <th>1</th>\n",
       "      <td>0.75</td>\n",
       "      <td>0.01</td>\n",
       "      <td>0.436129</td>\n",
       "      <td>0.666356</td>\n",
       "      <td>0.5</td>\n",
       "      <td>2.708751</td>\n",
       "      <td>0.463239</td>\n",
       "      <td>0.651430</td>\n",
       "      <td>0.5</td>\n",
       "      <td>2.708751</td>\n",
       "    </tr>\n",
       "    <tr>\n",
       "      <th>2</th>\n",
       "      <td>1.00</td>\n",
       "      <td>0.01</td>\n",
       "      <td>0.425496</td>\n",
       "      <td>0.647388</td>\n",
       "      <td>0.5</td>\n",
       "      <td>2.497350</td>\n",
       "      <td>0.480403</td>\n",
       "      <td>0.605721</td>\n",
       "      <td>0.5</td>\n",
       "      <td>2.497350</td>\n",
       "    </tr>\n",
       "    <tr>\n",
       "      <th>3</th>\n",
       "      <td>1.25</td>\n",
       "      <td>0.01</td>\n",
       "      <td>0.417024</td>\n",
       "      <td>0.621580</td>\n",
       "      <td>0.5</td>\n",
       "      <td>2.263415</td>\n",
       "      <td>0.486767</td>\n",
       "      <td>0.558769</td>\n",
       "      <td>0.5</td>\n",
       "      <td>2.263415</td>\n",
       "    </tr>\n",
       "    <tr>\n",
       "      <th>4</th>\n",
       "      <td>1.50</td>\n",
       "      <td>0.01</td>\n",
       "      <td>0.422485</td>\n",
       "      <td>0.586443</td>\n",
       "      <td>0.5</td>\n",
       "      <td>2.061326</td>\n",
       "      <td>0.505200</td>\n",
       "      <td>0.509950</td>\n",
       "      <td>0.5</td>\n",
       "      <td>2.061326</td>\n",
       "    </tr>\n",
       "    <tr>\n",
       "      <th>5</th>\n",
       "      <td>2.00</td>\n",
       "      <td>0.01</td>\n",
       "      <td>0.397349</td>\n",
       "      <td>0.542910</td>\n",
       "      <td>0.5</td>\n",
       "      <td>1.765653</td>\n",
       "      <td>0.502706</td>\n",
       "      <td>0.443719</td>\n",
       "      <td>0.5</td>\n",
       "      <td>1.765653</td>\n",
       "    </tr>\n",
       "    <tr>\n",
       "      <th>6</th>\n",
       "      <td>3.00</td>\n",
       "      <td>0.01</td>\n",
       "      <td>0.369840</td>\n",
       "      <td>0.492226</td>\n",
       "      <td>0.5</td>\n",
       "      <td>1.435098</td>\n",
       "      <td>0.480855</td>\n",
       "      <td>0.376866</td>\n",
       "      <td>0.5</td>\n",
       "      <td>1.435098</td>\n",
       "    </tr>\n",
       "    <tr>\n",
       "      <th>7</th>\n",
       "      <td>4.00</td>\n",
       "      <td>0.01</td>\n",
       "      <td>0.356772</td>\n",
       "      <td>0.453980</td>\n",
       "      <td>0.5</td>\n",
       "      <td>1.266656</td>\n",
       "      <td>0.472508</td>\n",
       "      <td>0.328980</td>\n",
       "      <td>0.5</td>\n",
       "      <td>1.266656</td>\n",
       "    </tr>\n",
       "    <tr>\n",
       "      <th>8</th>\n",
       "      <td>5.00</td>\n",
       "      <td>0.01</td>\n",
       "      <td>0.350630</td>\n",
       "      <td>0.433458</td>\n",
       "      <td>0.5</td>\n",
       "      <td>1.175233</td>\n",
       "      <td>0.469527</td>\n",
       "      <td>0.311878</td>\n",
       "      <td>0.5</td>\n",
       "      <td>1.175233</td>\n",
       "    </tr>\n",
       "  </tbody>\n",
       "</table>\n",
       "</div>"
      ],
      "text/plain": [
       "   Threshold  Lambda  Medoid Recall  Empty medoids  Medoid radius  \\\n",
       "0       0.50    0.01       0.425352       0.674440            0.5   \n",
       "1       0.75    0.01       0.436129       0.666356            0.5   \n",
       "2       1.00    0.01       0.425496       0.647388            0.5   \n",
       "3       1.25    0.01       0.417024       0.621580            0.5   \n",
       "4       1.50    0.01       0.422485       0.586443            0.5   \n",
       "5       2.00    0.01       0.397349       0.542910            0.5   \n",
       "6       3.00    0.01       0.369840       0.492226            0.5   \n",
       "7       4.00    0.01       0.356772       0.453980            0.5   \n",
       "8       5.00    0.01       0.350630       0.433458            0.5   \n",
       "\n",
       "   Medoids per user  Centroid Recall  Empty centroids  Centroid radius  \\\n",
       "0          2.825333         0.443205         0.663246              0.5   \n",
       "1          2.708751         0.463239         0.651430              0.5   \n",
       "2          2.497350         0.480403         0.605721              0.5   \n",
       "3          2.263415         0.486767         0.558769              0.5   \n",
       "4          2.061326         0.505200         0.509950              0.5   \n",
       "5          1.765653         0.502706         0.443719              0.5   \n",
       "6          1.435098         0.480855         0.376866              0.5   \n",
       "7          1.266656         0.472508         0.328980              0.5   \n",
       "8          1.175233         0.469527         0.311878              0.5   \n",
       "\n",
       "   Centroids per user  \n",
       "0            2.825333  \n",
       "1            2.708751  \n",
       "2            2.497350  \n",
       "3            2.263415  \n",
       "4            2.061326  \n",
       "5            1.765653  \n",
       "6            1.435098  \n",
       "7            1.266656  \n",
       "8            1.175233  "
      ]
     },
     "execution_count": 204,
     "metadata": {},
     "output_type": "execute_result"
    }
   ],
   "source": [
    "df"
   ]
  },
  {
   "cell_type": "markdown",
   "id": "349386a5",
   "metadata": {},
   "source": [
    "### Medoid vs. Centroid"
   ]
  },
  {
   "cell_type": "code",
   "execution_count": null,
   "id": "b177313d",
   "metadata": {},
   "outputs": [],
   "source": [
    "t0 = 1575586800+1000\n",
    "lam = 10.0\n",
    "threshold = 2.0\n",
    "\n",
    "df_history = pd.read_csv('generate/user_history_15.csv')\n",
    "df_impression = pd.read_csv('generate/user_impressions_15.csv')\n",
    "\n",
    "df_user_representation_medoid,df_user_representation_centroid = clusteringBatch(df_history,t0,threshold=threshold,lam=lam,withCentroid=True,constantRadius=0.5)"
   ]
  },
  {
   "cell_type": "code",
   "execution_count": 144,
   "id": "ae833f9e",
   "metadata": {},
   "outputs": [],
   "source": [
    "df_measure_centroid = measurement(df_impression,df_user_representation_centroid)"
   ]
  },
  {
   "cell_type": "code",
   "execution_count": 145,
   "id": "d2df00e5",
   "metadata": {},
   "outputs": [
    {
     "name": "stdout",
     "output_type": "stream",
     "text": [
      "0.5500713974872775\n",
      "0.4142661179698219\n"
     ]
    }
   ],
   "source": [
    "print(df_measure_centroid.recall.mean())\n",
    "print(df_measure_centroid.percent_empty.mean())"
   ]
  },
  {
   "cell_type": "code",
   "execution_count": 118,
   "id": "3ab36883",
   "metadata": {},
   "outputs": [],
   "source": [
    "df_measure_medoid = measurement(df_impression,df_user_representation_medoid)"
   ]
  },
  {
   "cell_type": "code",
   "execution_count": 119,
   "id": "2f6af4a4",
   "metadata": {},
   "outputs": [
    {
     "name": "stdout",
     "output_type": "stream",
     "text": [
      "0.39647701646198247\n",
      "0.4348422496570646\n"
     ]
    }
   ],
   "source": [
    "print(df_measure_medoid.recall.mean())\n",
    "print(df_measure_medoid.percent_empty.mean())"
   ]
  },
  {
   "cell_type": "code",
   "execution_count": 142,
   "id": "08c5ef74",
   "metadata": {},
   "outputs": [
    {
     "data": {
      "text/plain": [
       "1.783522057693293"
      ]
     },
     "execution_count": 142,
     "metadata": {},
     "output_type": "execute_result"
    }
   ],
   "source": [
    "df_user_representation_medoid.groupby(\"UID\").size().mean()"
   ]
  },
  {
   "cell_type": "markdown",
   "id": "c428b64d",
   "metadata": {},
   "source": [
    "### Random medoid test"
   ]
  },
  {
   "cell_type": "code",
   "execution_count": 6,
   "id": "2c56aab3",
   "metadata": {},
   "outputs": [],
   "source": [
    "df_history = pd.read_csv('generate/user_history_15.csv')\n",
    "df_impression = pd.read_csv('generate/user_impressions_15.csv')\n",
    "\n",
    "df_user_representation_random = baselineTest(df_history,method=\"random\")"
   ]
  },
  {
   "cell_type": "code",
   "execution_count": 7,
   "id": "c9e88f78",
   "metadata": {},
   "outputs": [
    {
     "data": {
      "text/plain": [
       "0.25026765207411555"
      ]
     },
     "execution_count": 7,
     "metadata": {},
     "output_type": "execute_result"
    }
   ],
   "source": [
    "df_measure_random = measurement(df_impression,df_user_representation_random)\n",
    "df_measure_random.recall.mean()"
   ]
  },
  {
   "cell_type": "code",
   "execution_count": 8,
   "id": "18bf85b5",
   "metadata": {},
   "outputs": [
    {
     "data": {
      "text/plain": [
       "0.5370370370370371"
      ]
     },
     "execution_count": 8,
     "metadata": {},
     "output_type": "execute_result"
    }
   ],
   "source": [
    "df_measure_random.percent_empty.mean()"
   ]
  },
  {
   "cell_type": "markdown",
   "id": "53992403",
   "metadata": {},
   "source": [
    "### Last article medoid test"
   ]
  },
  {
   "cell_type": "code",
   "execution_count": 10,
   "id": "ce1fee3b",
   "metadata": {},
   "outputs": [],
   "source": [
    "df_history = pd.read_csv('generate/user_history_0.csv')\n",
    "df_impression = pd.read_csv('generate/user_impressions_0.csv')\n",
    "\n",
    "df_user_representation_lastarticle = baselineTest(df_history,method=\"last\")"
   ]
  },
  {
   "cell_type": "code",
   "execution_count": 11,
   "id": "f9ef270c",
   "metadata": {},
   "outputs": [
    {
     "data": {
      "text/plain": [
       "0.23833824299169687"
      ]
     },
     "execution_count": 11,
     "metadata": {},
     "output_type": "execute_result"
    }
   ],
   "source": [
    "df_measure_lastarticle = measurement(df_impression,df_user_representation_lastarticle)\n",
    "df_measure_lastarticle.recall.mean()"
   ]
  },
  {
   "cell_type": "code",
   "execution_count": 12,
   "id": "116ec77a",
   "metadata": {},
   "outputs": [
    {
     "data": {
      "text/plain": [
       "0.5779467680608364"
      ]
     },
     "execution_count": 12,
     "metadata": {},
     "output_type": "execute_result"
    }
   ],
   "source": [
    "df_measure_lastarticle.percent_empty.mean()"
   ]
  },
  {
   "cell_type": "code",
   "execution_count": 371,
   "id": "8309fac9",
   "metadata": {},
   "outputs": [
    {
     "data": {
      "text/plain": [
       "<AxesSubplot:>"
      ]
     },
     "execution_count": 371,
     "metadata": {},
     "output_type": "execute_result"
    },
    {
     "data": {
      "image/png": "[encoded data removed]",
      "text/plain": [
       "<Figure size 432x288 with 1 Axes>"
      ]
     },
     "metadata": {
      "needs_background": "light"
     },
     "output_type": "display_data"
    }
   ],
   "source": [
    "df_user_representation[~(df_user_representation.radius==0.5)].radius.hist(bins=40)"
   ]
  },
  {
   "cell_type": "code",
   "execution_count": null,
   "id": "1143cfc6",
   "metadata": {},
   "outputs": [],
   "source": []
  }
 ],
 "metadata": {
  "kernelspec": {
   "display_name": "Python 3",
   "language": "python",
   "name": "python3"
  },
  "language_info": {
   "codemirror_mode": {
    "name": "ipython",
    "version": 3
   },
   "file_extension": ".py",
   "mimetype": "text/x-python",
   "name": "python",
   "nbconvert_exporter": "python",
   "pygments_lexer": "ipython3",
   "version": "3.8.8"
  }
 },
 "nbformat": 4,
 "nbformat_minor": 5
}
