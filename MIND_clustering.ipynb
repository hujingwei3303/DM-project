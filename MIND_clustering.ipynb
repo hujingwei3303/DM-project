{
 "cells": [
  {
   "cell_type": "code",
   "execution_count": 355,
   "id": "3d3122b8",
   "metadata": {},
   "outputs": [
    {
     "name": "stdout",
     "output_type": "stream",
     "text": [
      "(151, 2)\n"
     ]
    },
    {
     "data": {
      "image/png": "[encoded data removed]",
      "text/plain": [
       "<Figure size 432x288 with 1 Axes>"
      ]
     },
     "metadata": {
      "needs_background": "light"
     },
     "output_type": "display_data"
    }
   ],
   "source": [
    "# Clustering\n",
    "import pandas as pd\n",
    "import numpy as np\n",
    "from sklearn.cluster import AgglomerativeClustering\n",
    "from scipy.cluster.hierarchy import dendrogram, linkage\n",
    "from scipy.cluster.hierarchy import fcluster\n",
    "from scipy.spatial import distance, distance_matrix\n",
    "from matplotlib import pyplot as plt\n",
    "import time"
   ]
  },
  {
   "cell_type": "code",
   "execution_count": 389,
   "id": "db334977",
   "metadata": {},
   "outputs": [],
   "source": [
    "h = pd.read_csv(\"generate/user_history_0.csv\")\n",
    "e = pd.read_csv(\"generate/news_embedding.csv\")\n",
    "n = pd.read_csv(\"MINDlarge_train/news.tsv\", sep=\"\\t\", header=None)  # For printing title when testing\n",
    "i = pd.read_csv(\"generate/user_impressions_0.csv\")\n",
    "a = pd.read_csv(\"generate/news_cleaned.csv\") # For publish dates\n",
    "\n",
    "def readEmbeddings(history):\n",
    "    \n",
    "    # Create a dictionary with one item for each user\n",
    "    # The dictionary item will contain a list where each item is a tuple (article info, a list of vectors)\n",
    "    # The list of vectors has one item for each article present in the user's history\n",
    "    \n",
    "    uDict = {}\n",
    "    for item in history.iterrows():\n",
    "        uid = item[1][0]\n",
    "        nid = item[1][1]\n",
    "        dfRow = e[e[\"NID\"]==nid]\n",
    "        if not dfRow.empty:\n",
    "            art = n[n[0]==nid]\n",
    "            descr = str(art[1].values) + str(art[2].values) + str(art[3].values)\n",
    "            embedding = (nid, descr, np.array(dfRow.iloc[0][1:].values))\n",
    "            if uid in uDict:\n",
    "                uDict[uid].append(embedding)\n",
    "            else:\n",
    "                uDict[uid] = [embedding]\n",
    "        else:\n",
    "            print(nid, end=\" \")\n",
    "    return uDict\n",
    "                \n",
    "def wardClustering(X):\n",
    "    return linkage(X, \"ward\")\n",
    "\n",
    "def getMedoidForCluster(members):\n",
    "    D = distance_matrix(members, members)\n",
    "    return np.argmin(D.sum(axis=0))\n",
    "\n",
    "def getClusterScore(memberNumbers, articleItems):\n",
    "    lam = 1E-8\n",
    "    score = 0.0\n",
    "    for c in memberNumbers:\n",
    "        dfRow = a[a[\"NID\"]==articleItems[c][0]]\n",
    "        if not dfRow.empty:\n",
    "            timestamp = dfRow[\"publishDate\"].values[0]\n",
    "            now = time.time()\n",
    "            score += np.exp(-lam * (now - timestamp))\n",
    "    return score\n",
    "\n",
    "def getClosestArticle(medoid):\n",
    "    minDist = 1e100\n",
    "    for row in e.iterrows():\n",
    "        v = np.array(np.array(row[1][1:]))\n",
    "        d = distance.cosine(v, medoid)\n",
    "        if d < minDist:\n",
    "            minDist = d\n",
    "            nid = row[1][0]\n",
    "    return nid\n",
    "\n",
    "def findRecommendationsForUser(uid, uDict, maxDistance):\n",
    "\n",
    "    medoids = []\n",
    "    scores = []\n",
    "    \n",
    "    # Extract embedding data for each read article and create one dataset for clustering\n",
    "    items = uDict[uid]\n",
    "    X = np.zeros((len(items), len(items[0][2])))\n",
    "    for i, item in enumerate(items):\n",
    "        X[i] = item[2]  # the third part of the tuple contains the vector (first part is article id and second the description)\n",
    "    \n",
    "    # Do the clustering\n",
    "    linkage = wardClustering(X)\n",
    "    clusterAssignment = fcluster(linkage, maxDistance, criterion='distance')\n",
    "    print(clusterAssignment)\n",
    "    print()\n",
    "    \n",
    "    # Process each cluster\n",
    "    for c in range(1, max(clusterAssignment) + 1):\n",
    "        \n",
    "        clusterMembers = []\n",
    "        memberNumbers = []\n",
    "        \n",
    "        # Extract the resulting embedding vectors for the cluster\n",
    "        for i in range(len(items)):\n",
    "            if clusterAssignment[i] == c:\n",
    "                clusterMembers.append(X[i])\n",
    "                memberNumbers.append(i)\n",
    "                print(i, items[i][0], items[i][1])\n",
    "        \n",
    "        # Find the cluster medoid\n",
    "        medoid = getMedoidForCluster(clusterMembers)\n",
    "        index = memberNumbers[medoid]\n",
    "        medoids.append(index)\n",
    "        print(\"Medoid NID:\",items[index][0], \", medoid index in list:\", index)\n",
    "        \n",
    "        # Calculate the importance score of the cluster\n",
    "        score = getClusterScore(memberNumbers, items)\n",
    "        scores.append(score)\n",
    "        print(\"Cluster score:\",score)\n",
    "        \n",
    "        #TBD: use score to select clusters\n",
    "        \n",
    "        # Find the closest articles in the embedding space \n",
    "        nid = getClosestArticle(clusterMembers[medoid])\n",
    "        print(\"Recommendation based on this cluster:\", nid)\n",
    "        art = n[n[0]==nid]\n",
    "        print(art[1].values, art[2].values, art[3].values)\n",
    "        print(\"====================================================\")\n",
    "\n",
    "        print()\n",
    "    \n",
    "    return linkage"
   ]
  },
  {
   "cell_type": "code",
   "execution_count": 390,
   "id": "83f10616",
   "metadata": {
    "scrolled": true
   },
   "outputs": [
    {
     "name": "stdout",
     "output_type": "stream",
     "text": [
      "N87236 N90686 N71166 N86208 N45698 N57459 N28668 N30865 N92279 N53611 N67998 N22090 N72271 N113547 N84362 N105813 N33543 N67397 N85659 N94639 N8308 N118038 N110630 N7149 N44584 N28385 N87731 N87654 [3 2 3 1 3 2 3 3 2 1 2 1 2 2]\n",
      "\n",
      "3 N9740 ['news']['newscrime']['A Texas mom is going to prison after putting her son through unnecessary medical procedures']\n",
      "9 N81970 ['lifestyle']['lifestyledidyouknow']['The oldest town in every state']\n",
      "11 N98574 ['news']['newsworld']['Six deaths in one family over 14 years. Police say they have found their killer: The daughter-in-law.']\n",
      "Medoid NID: N9740 , medoid index in list: 3\n",
      "Cluster score: 1.6110607700029271\n",
      "Recommendation based on this cluster: N31761\n",
      "['travel'] ['traveltripideas'] ['This Dallas Garden Features 90,000 Pumpkins Each Fall']\n",
      "====================================================\n",
      "\n",
      "1 N29136 ['lifestyle']['lifestylebuzz'][\"The First Full Look at Hailey Baldwin's Vera Wang Wedding Reception Dress Is Here\"]\n",
      "5 N52911 ['lifestyle']['lifestylebuzz'][\"Here's Jennifer Lopez Wearing the Most Extra Bejeweled Wedding Dress\"]\n",
      "8 N4104 ['movies']['movies-celebrity']['Kevin Hart Spotted for the First Time Since Serious Car Accident: Pics']\n",
      "10 N44660 ['tv']['tv-celebrity'][\"Lori Loughlin Is 'Absolutely Terrified' After Being Hit With New Charge\"]\n",
      "12 N87788 ['tv']['tv-celebrity'][\"Ian Ziering's Wife Erin Ludwig Files for Divorce Days After Split Announcement\"]\n",
      "13 N87788 ['tv']['tv-celebrity'][\"Ian Ziering's Wife Erin Ludwig Files for Divorce Days After Split Announcement\"]\n",
      "Medoid NID: N87788 , medoid index in list: 12\n",
      "Cluster score: 3.239293450984143\n",
      "Recommendation based on this cluster: N25140\n",
      "['tv'] ['tv-celebrity'] ['Ian Ziering and Wife Erin Split After 9 Years of Marriage']\n",
      "====================================================\n",
      "\n",
      "0 N8668 ['tv']['tv-celebrity'][\"Milania Giudice Says She'll See Dad Joe 'Soon' After He Leaves ICE Custody\"]\n",
      "2 N128643 ['tv']['tv-celebrity'][\"Miguel Cervantes' Wife Reveals Daughter, 3, 'Died in My Arms' After Entering Hospice Care\"]\n",
      "4 N9375 ['tv']['tv-celebrity'][\"Woman, suspect dead at 'Tarzan' actor Ron Ely's California residence\"]\n",
      "6 N120908 ['autos']['autosenthusiasts']['2020 Airstream Caravel Is a Miniature Hotel Room on Wheels']\n",
      "7 N127225 ['lifestyle']['lifestyleroyals'][\"Here's Why Harry and Meghan's Latest Interview Could Be the Final Straw for the Royal Family\"]\n",
      "Medoid NID: N9375 , medoid index in list: 4\n",
      "Cluster score: 2.6781527696780176\n",
      "Recommendation based on this cluster: N9375\n",
      "['tv'] ['tv-celebrity'] [\"Woman, suspect dead at 'Tarzan' actor Ron Ely's California residence\"]\n",
      "====================================================\n",
      "\n"
     ]
    },
    {
     "data": {
      "image/png": "[encoded data removed]",
      "text/plain": [
       "<Figure size 432x288 with 1 Axes>"
      ]
     },
     "metadata": {
      "needs_background": "light"
     },
     "output_type": "display_data"
    }
   ],
   "source": [
    "uDict = readEmbeddings(h[0:100])\n",
    "uid = \"U521853\"\n",
    "Z = findRecommendationsForUser(uid, uDict, 0.85)\n",
    "plt.title(\"Dendrogram\")\n",
    "plt.xlabel(\"Cluster index\")\n",
    "plt.ylabel(\"Distance\")\n",
    "dendrogram(\n",
    "    Z,\n",
    "    truncate_mode='lastp',  # show only the last p merged clusters\n",
    "    p=100,    # show only the last p merged clusters\n",
    "    show_leaf_counts=False,\n",
    "    leaf_rotation=90.,\n",
    "    leaf_font_size=10.,\n",
    "    show_contracted=True,  # to get a distribution impression in truncated branches\n",
    ")\n",
    "plt.show()"
   ]
  },
  {
   "cell_type": "code",
   "execution_count": 224,
   "id": "125198e4",
   "metadata": {},
   "outputs": [
    {
     "data": {
      "text/plain": [
       "'many-to-many'"
      ]
     },
     "execution_count": 224,
     "metadata": {},
     "output_type": "execute_result"
    }
   ],
   "source": []
  },
  {
   "cell_type": "code",
   "execution_count": null,
   "id": "d97cbdc2",
   "metadata": {},
   "outputs": [],
   "source": []
  }
 ],
 "metadata": {
  "kernelspec": {
   "display_name": "Python 3",
   "language": "python",
   "name": "python3"
  },
  "language_info": {
   "codemirror_mode": {
    "name": "ipython",
    "version": 3
   },
   "file_extension": ".py",
   "mimetype": "text/x-python",
   "name": "python",
   "nbconvert_exporter": "python",
   "pygments_lexer": "ipython3",
   "version": "3.8.8"
  }
 },
 "nbformat": 4,
 "nbformat_minor": 5
}
