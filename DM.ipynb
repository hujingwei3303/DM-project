{
 "cells": [
  {
   "cell_type": "markdown",
   "id": "34556c0c-be5a-4cbe-adf4-96c4b218651e",
   "metadata": {},
   "source": [
    "### Run once, to check environment"
   ]
  },
  {
   "cell_type": "code",
   "execution_count": 1,
   "id": "c56031dc-8641-47f6-a8a3-42104dc13613",
   "metadata": {},
   "outputs": [],
   "source": [
    "#!pip3 install -r requirements.txt"
   ]
  },
  {
   "cell_type": "markdown",
   "id": "ea8ede86-a368-4169-ade3-dfb91ff4e59c",
   "metadata": {},
   "source": [
    "### Download Data, put under root directory DM-project/\n",
    "\n",
    "https://msnews.github.io/behaviors"
   ]
  },
  {
   "cell_type": "markdown",
   "id": "b9a31064-6559-4603-b0bb-aca4a31c4c4a",
   "metadata": {},
   "source": [
    "### Scraper part, no need to run, just in case, can be adapted to other datasource\n",
    "   * Scraping publish time of news\n",
    "   * To run it, put 'MINDlarge_train' in the top level directory of the project, which is 'DM-project'\n",
    "   * don't submit MINDlarge_train, add it to gitignore\n",
    "   * Output filepath is 'DM-project/generate/newstimes.csv\n",
    "   * Don't forget to go back to the top level directory\n",
    "   "
   ]
  },
  {
   "cell_type": "code",
   "execution_count": 1,
   "id": "706d421a-3291-4d66-a77f-f8dc43c8fb7f",
   "metadata": {},
   "outputs": [],
   "source": [
    "#%cd scraper"
   ]
  },
  {
   "cell_type": "code",
   "execution_count": 2,
   "id": "d8d9bb16-c782-403f-954e-3185443d94d7",
   "metadata": {},
   "outputs": [],
   "source": [
    "#!scrapy crawl news"
   ]
  },
  {
   "cell_type": "code",
   "execution_count": 3,
   "id": "21ba47c4-a40e-44b9-8772-3d573f5572bb",
   "metadata": {},
   "outputs": [],
   "source": [
    "#%cd .."
   ]
  },
  {
   "cell_type": "code",
   "execution_count": 4,
   "id": "1b37462b-b9b1-4fdf-8fdc-f592c851c0a2",
   "metadata": {},
   "outputs": [],
   "source": [
    "#newsTimes = 'generate/newstimes.csv'"
   ]
  },
  {
   "cell_type": "markdown",
   "id": "1c49b89a-7e90-4275-bc65-fdb31916b79e",
   "metadata": {},
   "source": [
    "### Load Libraries"
   ]
  },
  {
   "cell_type": "code",
   "execution_count": 1,
   "id": "1bd98e02-dbeb-4a72-828a-b303d9e402fb",
   "metadata": {},
   "outputs": [],
   "source": [
    "import pandas as pd\n",
    "import numpy as np\n",
    "import matplotlib.pyplot as plt\n",
    "import sys\n",
    "import warnings\n",
    "\n",
    "if not sys.warnoptions:\n",
    "    warnings.simplefilter(\"ignore\")"
   ]
  },
  {
   "cell_type": "markdown",
   "id": "a81d754e-325f-4080-965f-69673fd1538f",
   "metadata": {},
   "source": [
    "### Preprocssing, run once"
   ]
  },
  {
   "cell_type": "code",
   "execution_count": 2,
   "id": "f6d722eb-e57b-4c47-9b51-a1e571c4a9cf",
   "metadata": {},
   "outputs": [],
   "source": [
    "#from preprocessing.preprocessing import createNews,createUsers,splitFiles,createCategoriyEmbeddingNLP"
   ]
  },
  {
   "cell_type": "code",
   "execution_count": 3,
   "id": "b23110a1-3801-4e02-a734-bbad91c6a26e",
   "metadata": {},
   "outputs": [],
   "source": [
    "#behaviors = 'MINDlarge_train/behaviors.tsv'\n",
    "news = 'MINDlarge_train/news.tsv'\n",
    "#entityEmbedding = 'MINDlarge_train/entity_embedding.vec'\n",
    "##generate news_embedding.csv, news_cleaned.csv\n",
    "#createNews(news,newsTimes,entityEmbedding)\n",
    "##generate user_history.csv, user_impression.csv\n",
    "#createUsers(behaviors)\n",
    "##split big files\n",
    "#splitFiles('generate/user_history.csv')\n",
    "#splitFiles('generate/user_impressions.csv')"
   ]
  },
  {
   "cell_type": "markdown",
   "id": "41e8e3e5-7db8-4dc8-9648-9f47bb8ce384",
   "metadata": {},
   "source": [
    "### No need to run, already generated, but in case you want to play around.\n",
    "  * generate/news_subcat_embedding_nlp.csv"
   ]
  },
  {
   "cell_type": "code",
   "execution_count": 4,
   "id": "5d1b8260-7326-41ce-ba52-191736ea920a",
   "metadata": {},
   "outputs": [],
   "source": [
    "#!pip3 install spacy"
   ]
  },
  {
   "cell_type": "code",
   "execution_count": 5,
   "id": "50bb92c7-0bec-45c0-8d90-6704f750f4eb",
   "metadata": {},
   "outputs": [],
   "source": [
    "#!python3 -m spacy download en_core_web_lg"
   ]
  },
  {
   "cell_type": "code",
   "execution_count": 6,
   "id": "af0ccbcc-e533-4a8f-8a84-14e356452779",
   "metadata": {},
   "outputs": [],
   "source": [
    "#subcategories = \"generate/news_subcategories.csv\"\n",
    "#createCategoriyEmbeddingNLP(subcategories)\""
   ]
  },
  {
   "cell_type": "code",
   "execution_count": 7,
   "id": "16a4fcae-cbae-46ef-b29b-48ea65946c5a",
   "metadata": {},
   "outputs": [],
   "source": [
    "from analysis.measurement import measurement,baselineTest,baselineTestAvg,tuningParameters\n",
    "from analysis.clustering import clusteringBatch\n",
    "from analysis.recommendation import searchKNearestNeighbors"
   ]
  },
  {
   "cell_type": "code",
   "execution_count": 8,
   "id": "bc80264f-f1a7-412b-969e-41fb50a62a75",
   "metadata": {},
   "outputs": [],
   "source": [
    "t0 = 1575586800+1000\n",
    "lam = 0.01\n",
    "threshold = 1\n",
    "\n",
    "history = 'generate/user_history_1.csv'\n",
    "impression = 'generate/user_impressions_1.csv'"
   ]
  },
  {
   "cell_type": "markdown",
   "id": "c8cb1cc1-cccb-4258-a393-88fec756dfe4",
   "metadata": {},
   "source": [
    "### User representation\n",
    "* clusteringBatch \n",
    "     -  group user by UID\n",
    "     -  perform ward clustering on each user's reading history\n",
    "     -  sample 3 cluster according to the Importance Scores\n",
    "     -  calculate the medoid/centroid as one of representation of user's interest\n",
    "     -  calculate accepted boundary(radius) for each cluster"
   ]
  },
  {
   "cell_type": "code",
   "execution_count": 9,
   "id": "ffe45564-3a87-40b1-9ace-5d3c6a5e682e",
   "metadata": {},
   "outputs": [],
   "source": [
    "df_user_representation_medoid,df_user_representation_centroid = clusteringBatch(t0,history=history,threshold=threshold,lam=lam,with_centroid=True)"
   ]
  },
  {
   "cell_type": "markdown",
   "id": "46a3ce3c-1af1-42b0-8fbf-9b6e2e211aea",
   "metadata": {},
   "source": [
    "### Evaluation Method in the paper"
   ]
  },
  {
   "cell_type": "code",
   "execution_count": 24,
   "id": "e5237807-5b56-4189-86c2-522fe4a4a66d",
   "metadata": {},
   "outputs": [],
   "source": [
    "#evaluation relevance in paper\n",
    "#they draw in total 400 nearest sample among billons of pins, we draw k=50, in total 3*50 samples\n",
    "df_recommendation = searchKNearestNeighbors(df_user_representation_centroid,k=50) \n",
    "df_news_embeddings = pd.read_csv('generate/news_embedding.csv') \n",
    "df_recommendation = df_recommendation.merge(df_news_embeddings,on='NID')\n",
    "\n",
    "#they use 0.2 as similarity distance threshold, I use 0.3\n",
    "df_measure_recommendation = measurement(df_recommendation,impression=impression,similarity_threshold = 0.3)"
   ]
  },
  {
   "cell_type": "code",
   "execution_count": 25,
   "id": "275f75fb-1e78-4066-8866-85ca3496eee6",
   "metadata": {},
   "outputs": [
    {
     "name": "stdout",
     "output_type": "stream",
     "text": [
      "If use centroids as user representation, get recall 0.49\n"
     ]
    }
   ],
   "source": [
    "mean_recall = df_measure_recommendation.recall.mean()\n",
    "print(\"If use centroids as user representation, get recall %.2f\"%mean_recall)"
   ]
  },
  {
   "cell_type": "code",
   "execution_count": 21,
   "id": "bef76a96-ea6c-4913-b3e8-81b12376e53d",
   "metadata": {},
   "outputs": [],
   "source": [
    "df_recommendation = searchKNearestNeighbors(df_user_representation_medoid,k=50)\n",
    "df_news_embeddings = pd.read_csv('generate/news_embedding.csv') \n",
    "df_recommendation = df_recommendation.merge(df_news_embeddings,on='NID')\n",
    "df_measure_recommendation = measurement(df_recommendation,impression=impression,similarity_threshold = 0.3)"
   ]
  },
  {
   "cell_type": "code",
   "execution_count": 23,
   "id": "346b19ea-a48f-4445-876c-d9408163dbb0",
   "metadata": {},
   "outputs": [
    {
     "name": "stdout",
     "output_type": "stream",
     "text": [
      "If use centroids as user representation, get recall 0.44\n"
     ]
    }
   ],
   "source": [
    "mean_recall = df_measure_recommendation.recall.mean()\n",
    "print(\"If use centroids as user representation, get recall %.2f\"%mean_recall)"
   ]
  },
  {
   "cell_type": "markdown",
   "id": "ece30011-3b3d-4872-8eee-4726df6d5562",
   "metadata": {},
   "source": [
    "* measurement\n",
    "  - compare user representation(n by 100) with user impression(m by 100) \n",
    "  - get n by m distance matrix\n",
    "  - mask distance matrix with accepted boundary\n",
    "  - count recall for each positive impression, divide by length of impressions\n",
    "  - count hits for each representation, consider empty hits percentage.\""
   ]
  },
  {
   "cell_type": "code",
   "execution_count": null,
   "id": "995a95aa-5899-41da-aa63-975c5f220e20",
   "metadata": {},
   "outputs": [],
   "source": [
    "df_measure_centroid = measurement(df_user_representation_centroid,impression=impression,similarity_threshold = 0.3)"
   ]
  },
  {
   "cell_type": "code",
   "execution_count": 12,
   "id": "27bd4142-07e5-4668-b98e-258c162ad463",
   "metadata": {},
   "outputs": [
    {
     "name": "stdout",
     "output_type": "stream",
     "text": [
      "If use centroids as user representation, get recall 0.37, the percentage of empty recommendation is 0.29\n"
     ]
    }
   ],
   "source": [
    "mean_recall = df_measure_centroid.recall.mean()\n",
    "empty_percent = df_measure_centroid.percent_empty.mean()\n",
    "print(\"If use centroids as user representation, get recall %.2f, the percentage of empty recommendation is %.2f\"%(mean_recall,empty_percent))"
   ]
  },
  {
   "cell_type": "code",
   "execution_count": 26,
   "id": "c0740245-944d-4415-bb97-dce858ae7a15",
   "metadata": {},
   "outputs": [],
   "source": [
    "df_measure_medoid = measurement(df_user_representation_medoid,impression=impression,similarity_threshold=0.3)"
   ]
  },
  {
   "cell_type": "code",
   "execution_count": 27,
   "id": "ca73894c-5ed9-4b4a-9c13-cdaef666e9c9",
   "metadata": {},
   "outputs": [
    {
     "name": "stdout",
     "output_type": "stream",
     "text": [
      "If use medoids as user representation, get recall 0.28, the percentage of empty recommendation is 0.42\n"
     ]
    }
   ],
   "source": [
    "mean_recall = df_measure_medoid.recall.mean()\n",
    "empty_percent = df_measure_medoid.percent_empty.mean()\n",
    "print(\"If use medoids as user representation, get recall %.2f, the percentage of empty recommendation is %.2f\"%(mean_recall,empty_percent))"
   ]
  },
  {
   "cell_type": "markdown",
   "id": "55f3b9de-1b31-49ce-88e4-59dfca656ad2",
   "metadata": {},
   "source": [
    "### Baseline Test\n",
    "   * randomly draw 3 news from history\n",
    "   * pick the latest 3 news from history"
   ]
  },
  {
   "cell_type": "code",
   "execution_count": 28,
   "id": "48d6af6a-66e1-42d2-ad14-171c5b24fb96",
   "metadata": {},
   "outputs": [],
   "source": [
    "df_user_representation_random,df_user_representation_latest = baselineTest(history)"
   ]
  },
  {
   "cell_type": "code",
   "execution_count": 30,
   "id": "fa57986e-ffc1-47b8-b777-c9ac930bbdba",
   "metadata": {},
   "outputs": [],
   "source": [
    "df_measure_random = measurement(df_user_representation_random,impression=impression,similarity_threshold=0.3)"
   ]
  },
  {
   "cell_type": "code",
   "execution_count": 31,
   "id": "bfeac21f-60dd-4e47-b7e8-51942744e545",
   "metadata": {},
   "outputs": [
    {
     "name": "stdout",
     "output_type": "stream",
     "text": [
      "If randomly draw 3 samples, get recall 0.19, the percentage of empty recommendation is 0.53\n"
     ]
    }
   ],
   "source": [
    "mean_recall = df_measure_random.recall.mean()\n",
    "empty_percent = df_measure_random.percent_empty.mean()\n",
    "print(\"If randomly draw 3 samples, get recall %.2f, the percentage of empty recommendation is %.2f\"%(mean_recall,empty_percent))"
   ]
  },
  {
   "cell_type": "code",
   "execution_count": 32,
   "id": "ab959bb4-2e99-4e70-b9ec-acf23084aa0e",
   "metadata": {},
   "outputs": [],
   "source": [
    "df_measure_lastest = measurement(df_user_representation_latest,impression=impression,similarity_threshold=0.3)"
   ]
  },
  {
   "cell_type": "code",
   "execution_count": 33,
   "id": "6b437b1b-acc7-472c-a066-8ed889624e4b",
   "metadata": {},
   "outputs": [
    {
     "name": "stdout",
     "output_type": "stream",
     "text": [
      "If draw 3 latests samples, get recall 0.22, the percentage of empty recommendation is 0.51\n"
     ]
    }
   ],
   "source": [
    "mean_recall = df_measure_lastest.recall.mean()\n",
    "empty_percent = df_measure_lastest.percent_empty.mean()\n",
    "print(\"If draw 3 latests samples, get recall %.2f, the percentage of empty recommendation is %.2f\"%(mean_recall,empty_percent))"
   ]
  },
  {
   "cell_type": "code",
   "execution_count": 34,
   "id": "ee41a34e-1a8d-4b53-a0dc-4ed6aaa062a2",
   "metadata": {},
   "outputs": [],
   "source": [
    "df_user_represent_avg = baselineTestAvg(history)"
   ]
  },
  {
   "cell_type": "code",
   "execution_count": 35,
   "id": "16cf9e4f-2f08-4f8f-94b2-2636033167d8",
   "metadata": {},
   "outputs": [],
   "source": [
    "df_measure_avg = measurement(df_user_represent_avg,impression=impression,similarity_threshold=0.3)"
   ]
  },
  {
   "cell_type": "code",
   "execution_count": 36,
   "id": "e9c2addb-1550-4158-bdc7-5efa1b2bbb4c",
   "metadata": {},
   "outputs": [
    {
     "name": "stdout",
     "output_type": "stream",
     "text": [
      "If use mean of user history as representation, get recall 0.29, the percentage of empty recommendation is 0.04\n"
     ]
    }
   ],
   "source": [
    "mean_recall = df_measure_avg.recall.mean()\n",
    "empty_percent = df_measure_avg.percent_empty.mean()\n",
    "print(\"If use mean of user history as representation, get recall %.2f, the percentage of empty recommendation is %.2f\"%(mean_recall,empty_percent))"
   ]
  },
  {
   "cell_type": "markdown",
   "id": "05863415-578c-4f47-ab38-23ad3c84dbdf",
   "metadata": {},
   "source": [
    "### Parameter tuning\n",
    "* $\\lambda$ for importance score\n",
    "* threshold for ward clustering\n",
    "* measureed by recall and hits"
   ]
  },
  {
   "cell_type": "code",
   "execution_count": null,
   "id": "e91debb5-2079-4dcd-b6d6-cf0b8c6cfcdf",
   "metadata": {},
   "outputs": [],
   "source": [
    "lams = [0.01]\n",
    "thresholds = [0.5, 0.75, 1.0, 1.25, 1.50, 2.0, 3.0, 4.0, 5.0]\n",
    "df_tuning_result = tuningParameters(\"12\",lam=lams,threshold=thresholds)"
   ]
  },
  {
   "cell_type": "code",
   "execution_count": null,
   "id": "69a83154-5e05-48e7-8925-d41ff077ce5c",
   "metadata": {},
   "outputs": [],
   "source": [
    "df_tuning_result.head()"
   ]
  },
  {
   "cell_type": "code",
   "execution_count": null,
   "id": "1bf34045-dc57-4fd3-8df3-72476638b2c0",
   "metadata": {},
   "outputs": [],
   "source": [
    "df_tuning_result.to_csv(\"generate/threshold_tuning.csv\")"
   ]
  },
  {
   "cell_type": "markdown",
   "id": "5a5ce164-608a-4fa0-9d99-626f471d2616",
   "metadata": {},
   "source": [
    "### Recommendation System--Hierarchical Navigable Small World\n",
    "* 89222 elements in space, with 100 dimensions.\n",
    "* Search 4 nearest neighbor for each item of user representation"
   ]
  },
  {
   "cell_type": "code",
   "execution_count": 21,
   "id": "1988067a-708a-4ed1-a342-19c05c3cd2de",
   "metadata": {},
   "outputs": [
    {
     "name": "stdout",
     "output_type": "stream",
     "text": [
      "Time cost 23.508871365000005 s\n"
     ]
    }
   ],
   "source": [
    "import time\n",
    "\n",
    "t_before = time.perf_counter()\n",
    "df_recommendation = searchKNearestNeighbors(df_user_representation_centroid,k=50)\n",
    "print(f'Time cost {time.perf_counter()-t_before} s')"
   ]
  },
  {
   "cell_type": "code",
   "execution_count": 22,
   "id": "97449e70-1dae-4500-91da-41815042859f",
   "metadata": {},
   "outputs": [],
   "source": [
    "df_news_meta = pd.read_csv(news,sep='\\t',header=None)\n",
    "df_news_meta.rename(columns={0:'NID',1:'category',2:'subcategory',3:'title',4:'abstract',6:'title_entities',7:'abstract_entities'},inplace=True)\n",
    "df_news_meta = df_news_meta[['NID','category','subcategory','title','abstract','title_entities','abstract_entities']]\n",
    "  "
   ]
  },
  {
   "cell_type": "code",
   "execution_count": 23,
   "id": "6ec3738b-356a-49f1-b87a-39070b8707a2",
   "metadata": {},
   "outputs": [
    {
     "data": {
      "text/html": [
       "<div>\n",
       "<style scoped>\n",
       "    .dataframe tbody tr th:only-of-type {\n",
       "        vertical-align: middle;\n",
       "    }\n",
       "\n",
       "    .dataframe tbody tr th {\n",
       "        vertical-align: top;\n",
       "    }\n",
       "\n",
       "    .dataframe thead th {\n",
       "        text-align: right;\n",
       "    }\n",
       "</style>\n",
       "<table border=\"1\" class=\"dataframe\">\n",
       "  <thead>\n",
       "    <tr style=\"text-align: right;\">\n",
       "      <th></th>\n",
       "      <th>UID</th>\n",
       "      <th>NID</th>\n",
       "      <th>category</th>\n",
       "      <th>subcategory</th>\n",
       "      <th>title</th>\n",
       "      <th>abstract</th>\n",
       "      <th>title_entities</th>\n",
       "      <th>abstract_entities</th>\n",
       "    </tr>\n",
       "  </thead>\n",
       "  <tbody>\n",
       "    <tr>\n",
       "      <th>0</th>\n",
       "      <td>U100873</td>\n",
       "      <td>N6982</td>\n",
       "      <td>news</td>\n",
       "      <td>newscrime</td>\n",
       "      <td>California cops respond to 2 homeless men shot...</td>\n",
       "      <td>Two homeless men living at an encampment near ...</td>\n",
       "      <td>[{\"Label\": \"California\", \"Type\": \"G\", \"Wikidat...</td>\n",
       "      <td>[{\"Label\": \"San Francisco\", \"Type\": \"G\", \"Wiki...</td>\n",
       "    </tr>\n",
       "    <tr>\n",
       "      <th>1</th>\n",
       "      <td>U100873</td>\n",
       "      <td>N44069</td>\n",
       "      <td>finance</td>\n",
       "      <td>finance-career-education</td>\n",
       "      <td>Will Increasing Budget Fix CA Schools? (Opinion)</td>\n",
       "      <td>COMMENTARY: Report by former San Francisco leg...</td>\n",
       "      <td>[{\"Label\": \"California\", \"Type\": \"G\", \"Wikidat...</td>\n",
       "      <td>[{\"Label\": \"California\", \"Type\": \"G\", \"Wikidat...</td>\n",
       "    </tr>\n",
       "    <tr>\n",
       "      <th>2</th>\n",
       "      <td>U100873</td>\n",
       "      <td>N108645</td>\n",
       "      <td>news</td>\n",
       "      <td>newsus</td>\n",
       "      <td>No more fire in the kitchen: Cities are bannin...</td>\n",
       "      <td>Thirteen cities and one county in California h...</td>\n",
       "      <td>[]</td>\n",
       "      <td>[{\"Label\": \"California\", \"Type\": \"G\", \"Wikidat...</td>\n",
       "    </tr>\n",
       "    <tr>\n",
       "      <th>3</th>\n",
       "      <td>U100873</td>\n",
       "      <td>N4730</td>\n",
       "      <td>weather</td>\n",
       "      <td>weathertopstories</td>\n",
       "      <td>The Latest: Evacuations, historic winds in Cal...</td>\n",
       "      <td>SAN FRANCISCO (AP)   Evacuation orders have ex...</td>\n",
       "      <td>[{\"Label\": \"California\", \"Type\": \"G\", \"Wikidat...</td>\n",
       "      <td>[{\"Label\": \"Santa Rosa, California\", \"Type\": \"...</td>\n",
       "    </tr>\n",
       "    <tr>\n",
       "      <th>4</th>\n",
       "      <td>U100873</td>\n",
       "      <td>N102039</td>\n",
       "      <td>tv</td>\n",
       "      <td>tv-gallery</td>\n",
       "      <td>17 Hallmark Movies That Are Totally Worth Watc...</td>\n",
       "      <td>From festive flicks to cheesy romantic comedie...</td>\n",
       "      <td>[]</td>\n",
       "      <td>[{\"Label\": \"Hallmark Channel\", \"Type\": \"M\", \"W...</td>\n",
       "    </tr>\n",
       "    <tr>\n",
       "      <th>5</th>\n",
       "      <td>U100873</td>\n",
       "      <td>N128327</td>\n",
       "      <td>entertainment</td>\n",
       "      <td>entertainment-books</td>\n",
       "      <td>12 Books to Read If You Love Romantic Comedies</td>\n",
       "      <td>Because reading about romance is just as fun a...</td>\n",
       "      <td>[{\"Label\": \"Romantic comedy\", \"Type\": \"C\", \"Wi...</td>\n",
       "      <td>[]</td>\n",
       "    </tr>\n",
       "    <tr>\n",
       "      <th>6</th>\n",
       "      <td>U100873</td>\n",
       "      <td>N9526</td>\n",
       "      <td>tv</td>\n",
       "      <td>tv-gallery</td>\n",
       "      <td>20 Teen Movies on Netflix Your Kids Will Love ...</td>\n",
       "      <td>How many of these movies have you watched?</td>\n",
       "      <td>[{\"Label\": \"Netflix\", \"Type\": \"O\", \"WikidataId...</td>\n",
       "      <td>[]</td>\n",
       "    </tr>\n",
       "    <tr>\n",
       "      <th>7</th>\n",
       "      <td>U100873</td>\n",
       "      <td>N61510</td>\n",
       "      <td>health</td>\n",
       "      <td>wellness</td>\n",
       "      <td>7 Things That Happen to Your Body When You Wat...</td>\n",
       "      <td>Discover what the \"boo!\" factor can do to your...</td>\n",
       "      <td>[{\"Label\": \"Horror film\", \"Type\": \"C\", \"Wikida...</td>\n",
       "      <td>[{\"Label\": \"Discover (magazine)\", \"Type\": \"M\",...</td>\n",
       "    </tr>\n",
       "    <tr>\n",
       "      <th>8</th>\n",
       "      <td>U100873</td>\n",
       "      <td>N5138</td>\n",
       "      <td>news</td>\n",
       "      <td>newspolitics</td>\n",
       "      <td>After impeachment vote, a defiant Trump</td>\n",
       "      <td>A day after the House voted for the impeachmen...</td>\n",
       "      <td>[]</td>\n",
       "      <td>[{\"Label\": \"Mississippi\", \"Type\": \"G\", \"Wikida...</td>\n",
       "    </tr>\n",
       "    <tr>\n",
       "      <th>9</th>\n",
       "      <td>U100873</td>\n",
       "      <td>N23264</td>\n",
       "      <td>news</td>\n",
       "      <td>newsus</td>\n",
       "      <td>Mississippi woman found after being missing fo...</td>\n",
       "      <td>S.O.S spelled out with rocks saved a woman mis...</td>\n",
       "      <td>[{\"Label\": \"Mississippi\", \"Type\": \"G\", \"Wikida...</td>\n",
       "      <td>[]</td>\n",
       "    </tr>\n",
       "    <tr>\n",
       "      <th>10</th>\n",
       "      <td>U100873</td>\n",
       "      <td>N53152</td>\n",
       "      <td>news</td>\n",
       "      <td>newscrime</td>\n",
       "      <td>Mississippi police investigating murder of 20-...</td>\n",
       "      <td>According to Chief Undra Todd, it happened aro...</td>\n",
       "      <td>[{\"Label\": \"Mississippi\", \"Type\": \"G\", \"Wikida...</td>\n",
       "      <td>[]</td>\n",
       "    </tr>\n",
       "    <tr>\n",
       "      <th>11</th>\n",
       "      <td>U100873</td>\n",
       "      <td>N96449</td>\n",
       "      <td>news</td>\n",
       "      <td>newscrime</td>\n",
       "      <td>Court upholds conviction of Mississippi man co...</td>\n",
       "      <td>MS Court of Appeals rules against Charles Dalt...</td>\n",
       "      <td>[{\"Label\": \"Mississippi\", \"Type\": \"G\", \"Wikida...</td>\n",
       "      <td>[]</td>\n",
       "    </tr>\n",
       "  </tbody>\n",
       "</table>\n",
       "</div>"
      ],
      "text/plain": [
       "        UID      NID       category               subcategory  \\\n",
       "0   U100873    N6982           news                 newscrime   \n",
       "1   U100873   N44069        finance  finance-career-education   \n",
       "2   U100873  N108645           news                    newsus   \n",
       "3   U100873    N4730        weather         weathertopstories   \n",
       "4   U100873  N102039             tv                tv-gallery   \n",
       "5   U100873  N128327  entertainment       entertainment-books   \n",
       "6   U100873    N9526             tv                tv-gallery   \n",
       "7   U100873   N61510         health                  wellness   \n",
       "8   U100873    N5138           news              newspolitics   \n",
       "9   U100873   N23264           news                    newsus   \n",
       "10  U100873   N53152           news                 newscrime   \n",
       "11  U100873   N96449           news                 newscrime   \n",
       "\n",
       "                                                title  \\\n",
       "0   California cops respond to 2 homeless men shot...   \n",
       "1    Will Increasing Budget Fix CA Schools? (Opinion)   \n",
       "2   No more fire in the kitchen: Cities are bannin...   \n",
       "3   The Latest: Evacuations, historic winds in Cal...   \n",
       "4   17 Hallmark Movies That Are Totally Worth Watc...   \n",
       "5      12 Books to Read If You Love Romantic Comedies   \n",
       "6   20 Teen Movies on Netflix Your Kids Will Love ...   \n",
       "7   7 Things That Happen to Your Body When You Wat...   \n",
       "8             After impeachment vote, a defiant Trump   \n",
       "9   Mississippi woman found after being missing fo...   \n",
       "10  Mississippi police investigating murder of 20-...   \n",
       "11  Court upholds conviction of Mississippi man co...   \n",
       "\n",
       "                                             abstract  \\\n",
       "0   Two homeless men living at an encampment near ...   \n",
       "1   COMMENTARY: Report by former San Francisco leg...   \n",
       "2   Thirteen cities and one county in California h...   \n",
       "3   SAN FRANCISCO (AP)   Evacuation orders have ex...   \n",
       "4   From festive flicks to cheesy romantic comedie...   \n",
       "5   Because reading about romance is just as fun a...   \n",
       "6          How many of these movies have you watched?   \n",
       "7   Discover what the \"boo!\" factor can do to your...   \n",
       "8   A day after the House voted for the impeachmen...   \n",
       "9   S.O.S spelled out with rocks saved a woman mis...   \n",
       "10  According to Chief Undra Todd, it happened aro...   \n",
       "11  MS Court of Appeals rules against Charles Dalt...   \n",
       "\n",
       "                                       title_entities  \\\n",
       "0   [{\"Label\": \"California\", \"Type\": \"G\", \"Wikidat...   \n",
       "1   [{\"Label\": \"California\", \"Type\": \"G\", \"Wikidat...   \n",
       "2                                                  []   \n",
       "3   [{\"Label\": \"California\", \"Type\": \"G\", \"Wikidat...   \n",
       "4                                                  []   \n",
       "5   [{\"Label\": \"Romantic comedy\", \"Type\": \"C\", \"Wi...   \n",
       "6   [{\"Label\": \"Netflix\", \"Type\": \"O\", \"WikidataId...   \n",
       "7   [{\"Label\": \"Horror film\", \"Type\": \"C\", \"Wikida...   \n",
       "8                                                  []   \n",
       "9   [{\"Label\": \"Mississippi\", \"Type\": \"G\", \"Wikida...   \n",
       "10  [{\"Label\": \"Mississippi\", \"Type\": \"G\", \"Wikida...   \n",
       "11  [{\"Label\": \"Mississippi\", \"Type\": \"G\", \"Wikida...   \n",
       "\n",
       "                                    abstract_entities  \n",
       "0   [{\"Label\": \"San Francisco\", \"Type\": \"G\", \"Wiki...  \n",
       "1   [{\"Label\": \"California\", \"Type\": \"G\", \"Wikidat...  \n",
       "2   [{\"Label\": \"California\", \"Type\": \"G\", \"Wikidat...  \n",
       "3   [{\"Label\": \"Santa Rosa, California\", \"Type\": \"...  \n",
       "4   [{\"Label\": \"Hallmark Channel\", \"Type\": \"M\", \"W...  \n",
       "5                                                  []  \n",
       "6                                                  []  \n",
       "7   [{\"Label\": \"Discover (magazine)\", \"Type\": \"M\",...  \n",
       "8   [{\"Label\": \"Mississippi\", \"Type\": \"G\", \"Wikida...  \n",
       "9                                                  []  \n",
       "10                                                 []  \n",
       "11                                                 []  "
      ]
     },
     "execution_count": 23,
     "metadata": {},
     "output_type": "execute_result"
    }
   ],
   "source": [
    "UID = df_recommendation.sample().UID.values[0]\n",
    "\n",
    "df_recommendation[df_recommendation.UID==UID].merge(df_news_meta,on='NID')"
   ]
  },
  {
   "cell_type": "code",
   "execution_count": 24,
   "id": "f229db12-a03d-4a67-a0bc-263f3914a311",
   "metadata": {},
   "outputs": [
    {
     "data": {
      "text/html": [
       "<div>\n",
       "<style scoped>\n",
       "    .dataframe tbody tr th:only-of-type {\n",
       "        vertical-align: middle;\n",
       "    }\n",
       "\n",
       "    .dataframe tbody tr th {\n",
       "        vertical-align: top;\n",
       "    }\n",
       "\n",
       "    .dataframe thead th {\n",
       "        text-align: right;\n",
       "    }\n",
       "</style>\n",
       "<table border=\"1\" class=\"dataframe\">\n",
       "  <thead>\n",
       "    <tr style=\"text-align: right;\">\n",
       "      <th></th>\n",
       "      <th>UID</th>\n",
       "      <th>NID</th>\n",
       "      <th>category</th>\n",
       "      <th>subcategory</th>\n",
       "      <th>title</th>\n",
       "      <th>abstract</th>\n",
       "      <th>title_entities</th>\n",
       "      <th>abstract_entities</th>\n",
       "    </tr>\n",
       "  </thead>\n",
       "  <tbody>\n",
       "    <tr>\n",
       "      <th>0</th>\n",
       "      <td>U100873</td>\n",
       "      <td>N59893</td>\n",
       "      <td>news</td>\n",
       "      <td>newsus</td>\n",
       "      <td>Two Columbus statues vandalized on Columbus Day</td>\n",
       "      <td>The statue in San Francisco was doused in red ...</td>\n",
       "      <td>[]</td>\n",
       "      <td>[{\"Label\": \"San Francisco\", \"Type\": \"G\", \"Wiki...</td>\n",
       "    </tr>\n",
       "    <tr>\n",
       "      <th>1</th>\n",
       "      <td>U100873</td>\n",
       "      <td>N65823</td>\n",
       "      <td>news</td>\n",
       "      <td>newscrime</td>\n",
       "      <td>'Time was of the essence': Politicians add to ...</td>\n",
       "      <td>Kamille \"Cupcake\" McKinney was playing at a bi...</td>\n",
       "      <td>[]</td>\n",
       "      <td>[]</td>\n",
       "    </tr>\n",
       "    <tr>\n",
       "      <th>2</th>\n",
       "      <td>U100873</td>\n",
       "      <td>N128503</td>\n",
       "      <td>health</td>\n",
       "      <td>health-news</td>\n",
       "      <td>He dropped an amazing 475 pounds, then ran Det...</td>\n",
       "      <td>Once one of Michigan's most obese people, this...</td>\n",
       "      <td>[{\"Label\": \"Detroit\", \"Type\": \"G\", \"WikidataId...</td>\n",
       "      <td>[{\"Label\": \"Detroit Free Press Marathon\", \"Typ...</td>\n",
       "    </tr>\n",
       "    <tr>\n",
       "      <th>3</th>\n",
       "      <td>U100873</td>\n",
       "      <td>N27352</td>\n",
       "      <td>movies</td>\n",
       "      <td>movies-celebrity</td>\n",
       "      <td>Emily Ratajkowski Is Being Sued for $150,000 O...</td>\n",
       "      <td>What's more? The photographer is also asking f...</td>\n",
       "      <td>[{\"Label\": \"Emily Ratajkowski\", \"Type\": \"P\", \"...</td>\n",
       "      <td>[]</td>\n",
       "    </tr>\n",
       "    <tr>\n",
       "      <th>4</th>\n",
       "      <td>U100873</td>\n",
       "      <td>N44524</td>\n",
       "      <td>news</td>\n",
       "      <td>newscrime</td>\n",
       "      <td>Dad Lied About 4-Year-Old's Role In Double Sho...</td>\n",
       "      <td>Authorities say a Milwaukee man blamed a doubl...</td>\n",
       "      <td>[]</td>\n",
       "      <td>[{\"Label\": \"Milwaukee\", \"Type\": \"G\", \"Wikidata...</td>\n",
       "    </tr>\n",
       "    <tr>\n",
       "      <th>5</th>\n",
       "      <td>U100873</td>\n",
       "      <td>N71665</td>\n",
       "      <td>video</td>\n",
       "      <td>viral</td>\n",
       "      <td>Cummings' widow responds to Trump's attacks, g...</td>\n",
       "      <td>Dr. Maya Rockeymoore Cummings, the widow of th...</td>\n",
       "      <td>[{\"Label\": \"Maya Rockeymoore Cummings\", \"Type\"...</td>\n",
       "      <td>[{\"Label\": \"Maya Rockeymoore Cummings\", \"Type\"...</td>\n",
       "    </tr>\n",
       "    <tr>\n",
       "      <th>6</th>\n",
       "      <td>U100873</td>\n",
       "      <td>N23264</td>\n",
       "      <td>news</td>\n",
       "      <td>newsus</td>\n",
       "      <td>Mississippi woman found after being missing fo...</td>\n",
       "      <td>S.O.S spelled out with rocks saved a woman mis...</td>\n",
       "      <td>[{\"Label\": \"Mississippi\", \"Type\": \"G\", \"Wikida...</td>\n",
       "      <td>[]</td>\n",
       "    </tr>\n",
       "    <tr>\n",
       "      <th>7</th>\n",
       "      <td>U100873</td>\n",
       "      <td>N53933</td>\n",
       "      <td>news</td>\n",
       "      <td>newsus</td>\n",
       "      <td>Multiple Houses on Fire After Plane Crashes in NJ</td>\n",
       "      <td>At least two houses are on fire in Colonia, Ne...</td>\n",
       "      <td>[]</td>\n",
       "      <td>[{\"Label\": \"Federal Aviation Administration\", ...</td>\n",
       "    </tr>\n",
       "    <tr>\n",
       "      <th>8</th>\n",
       "      <td>U100873</td>\n",
       "      <td>N8243</td>\n",
       "      <td>lifestyle</td>\n",
       "      <td>lifestyleroyals</td>\n",
       "      <td>Meghan Markle Personally Calls British Politic...</td>\n",
       "      <td>The Duchess of Sussex thanked the British fema...</td>\n",
       "      <td>[{\"Label\": \"Meghan, Duchess of Sussex\", \"Type\"...</td>\n",
       "      <td>[{\"Label\": \"Meghan, Duchess of Sussex\", \"Type\"...</td>\n",
       "    </tr>\n",
       "    <tr>\n",
       "      <th>9</th>\n",
       "      <td>U100873</td>\n",
       "      <td>N102039</td>\n",
       "      <td>tv</td>\n",
       "      <td>tv-gallery</td>\n",
       "      <td>17 Hallmark Movies That Are Totally Worth Watc...</td>\n",
       "      <td>From festive flicks to cheesy romantic comedie...</td>\n",
       "      <td>[]</td>\n",
       "      <td>[{\"Label\": \"Hallmark Channel\", \"Type\": \"M\", \"W...</td>\n",
       "    </tr>\n",
       "    <tr>\n",
       "      <th>10</th>\n",
       "      <td>U100873</td>\n",
       "      <td>N21239</td>\n",
       "      <td>news</td>\n",
       "      <td>newsus</td>\n",
       "      <td>Obama calls out call-out culture: \"That's not ...</td>\n",
       "      <td>At the annual Obama Foundation summit, the for...</td>\n",
       "      <td>[{\"Label\": \"Barack Obama\", \"Type\": \"P\", \"Wikid...</td>\n",
       "      <td>[{\"Label\": \"Obama Foundation\", \"Type\": \"U\", \"W...</td>\n",
       "    </tr>\n",
       "    <tr>\n",
       "      <th>11</th>\n",
       "      <td>U100873</td>\n",
       "      <td>N71753</td>\n",
       "      <td>news</td>\n",
       "      <td>newscrime</td>\n",
       "      <td>2 murder suspects escape from jail, still on t...</td>\n",
       "      <td>Santos Fonseca and Jonathan Salazar were being...</td>\n",
       "      <td>[]</td>\n",
       "      <td>[{\"Label\": \"Monterey, California\", \"Type\": \"G\"...</td>\n",
       "    </tr>\n",
       "    <tr>\n",
       "      <th>12</th>\n",
       "      <td>U100873</td>\n",
       "      <td>N20749</td>\n",
       "      <td>news</td>\n",
       "      <td>newsworld</td>\n",
       "      <td>Scores injured, one critical in chaotic weeken...</td>\n",
       "      <td>NaN</td>\n",
       "      <td>[]</td>\n",
       "      <td>[]</td>\n",
       "    </tr>\n",
       "    <tr>\n",
       "      <th>13</th>\n",
       "      <td>U100873</td>\n",
       "      <td>N58200</td>\n",
       "      <td>tv</td>\n",
       "      <td>tv-celebrity</td>\n",
       "      <td>Pamela Anderson gets backlash after wearing a ...</td>\n",
       "      <td>Pamela Anderson is under fire after posting ri...</td>\n",
       "      <td>[{\"Label\": \"Pamela Anderson\", \"Type\": \"P\", \"Wi...</td>\n",
       "      <td>[{\"Label\": \"Pamela Anderson\", \"Type\": \"P\", \"Wi...</td>\n",
       "    </tr>\n",
       "    <tr>\n",
       "      <th>14</th>\n",
       "      <td>U100873</td>\n",
       "      <td>N90966</td>\n",
       "      <td>news</td>\n",
       "      <td>newscrime</td>\n",
       "      <td>Man dies after stabbing in Maryland Popeyes; f...</td>\n",
       "      <td>A man was fatally stabbed Monday evening while...</td>\n",
       "      <td>[]</td>\n",
       "      <td>[{\"Label\": \"Fox News\", \"Type\": \"M\", \"WikidataI...</td>\n",
       "    </tr>\n",
       "    <tr>\n",
       "      <th>15</th>\n",
       "      <td>U100873</td>\n",
       "      <td>N18904</td>\n",
       "      <td>news</td>\n",
       "      <td>newscrime</td>\n",
       "      <td>Maryland man, 46, gets probation after he kill...</td>\n",
       "      <td>Alvin Hubbard III, 46, of Cambridge, Maryland,...</td>\n",
       "      <td>[{\"Label\": \"Sport utility vehicle\", \"Type\": \"C...</td>\n",
       "      <td>[{\"Label\": \"Sport utility vehicle\", \"Type\": \"C...</td>\n",
       "    </tr>\n",
       "    <tr>\n",
       "      <th>16</th>\n",
       "      <td>U100873</td>\n",
       "      <td>N1960</td>\n",
       "      <td>news</td>\n",
       "      <td>newscrime</td>\n",
       "      <td>Before his execution, a death row inmate told ...</td>\n",
       "      <td>Charles Rhines, who was convicted of murder in...</td>\n",
       "      <td>[]</td>\n",
       "      <td>[{\"Label\": \"South Dakota\", \"Type\": \"G\", \"Wikid...</td>\n",
       "    </tr>\n",
       "    <tr>\n",
       "      <th>17</th>\n",
       "      <td>U100873</td>\n",
       "      <td>N59936</td>\n",
       "      <td>lifestyle</td>\n",
       "      <td>lifestylebuzz</td>\n",
       "      <td>Man Goes To Adoption Event And Finds His Long-...</td>\n",
       "      <td>Shannon McCann and Nick Pizio hadn't planned o...</td>\n",
       "      <td>[{\"Label\": \"Mango (group)\", \"Type\": \"O\", \"Wiki...</td>\n",
       "      <td>[]</td>\n",
       "    </tr>\n",
       "    <tr>\n",
       "      <th>18</th>\n",
       "      <td>U100873</td>\n",
       "      <td>N48501</td>\n",
       "      <td>tv</td>\n",
       "      <td>tv-celebrity</td>\n",
       "      <td>Chrissy Teigen Apologizes for Her 'Tone Deaf' ...</td>\n",
       "      <td>I'm sorry and I will do better to not be such ...</td>\n",
       "      <td>[{\"Label\": \"Chrissy Teigen\", \"Type\": \"P\", \"Wik...</td>\n",
       "      <td>[]</td>\n",
       "    </tr>\n",
       "  </tbody>\n",
       "</table>\n",
       "</div>"
      ],
      "text/plain": [
       "        UID      NID   category       subcategory  \\\n",
       "0   U100873   N59893       news            newsus   \n",
       "1   U100873   N65823       news         newscrime   \n",
       "2   U100873  N128503     health       health-news   \n",
       "3   U100873   N27352     movies  movies-celebrity   \n",
       "4   U100873   N44524       news         newscrime   \n",
       "5   U100873   N71665      video             viral   \n",
       "6   U100873   N23264       news            newsus   \n",
       "7   U100873   N53933       news            newsus   \n",
       "8   U100873    N8243  lifestyle   lifestyleroyals   \n",
       "9   U100873  N102039         tv        tv-gallery   \n",
       "10  U100873   N21239       news            newsus   \n",
       "11  U100873   N71753       news         newscrime   \n",
       "12  U100873   N20749       news         newsworld   \n",
       "13  U100873   N58200         tv      tv-celebrity   \n",
       "14  U100873   N90966       news         newscrime   \n",
       "15  U100873   N18904       news         newscrime   \n",
       "16  U100873    N1960       news         newscrime   \n",
       "17  U100873   N59936  lifestyle     lifestylebuzz   \n",
       "18  U100873   N48501         tv      tv-celebrity   \n",
       "\n",
       "                                                title  \\\n",
       "0     Two Columbus statues vandalized on Columbus Day   \n",
       "1   'Time was of the essence': Politicians add to ...   \n",
       "2   He dropped an amazing 475 pounds, then ran Det...   \n",
       "3   Emily Ratajkowski Is Being Sued for $150,000 O...   \n",
       "4   Dad Lied About 4-Year-Old's Role In Double Sho...   \n",
       "5   Cummings' widow responds to Trump's attacks, g...   \n",
       "6   Mississippi woman found after being missing fo...   \n",
       "7   Multiple Houses on Fire After Plane Crashes in NJ   \n",
       "8   Meghan Markle Personally Calls British Politic...   \n",
       "9   17 Hallmark Movies That Are Totally Worth Watc...   \n",
       "10  Obama calls out call-out culture: \"That's not ...   \n",
       "11  2 murder suspects escape from jail, still on t...   \n",
       "12  Scores injured, one critical in chaotic weeken...   \n",
       "13  Pamela Anderson gets backlash after wearing a ...   \n",
       "14  Man dies after stabbing in Maryland Popeyes; f...   \n",
       "15  Maryland man, 46, gets probation after he kill...   \n",
       "16  Before his execution, a death row inmate told ...   \n",
       "17  Man Goes To Adoption Event And Finds His Long-...   \n",
       "18  Chrissy Teigen Apologizes for Her 'Tone Deaf' ...   \n",
       "\n",
       "                                             abstract  \\\n",
       "0   The statue in San Francisco was doused in red ...   \n",
       "1   Kamille \"Cupcake\" McKinney was playing at a bi...   \n",
       "2   Once one of Michigan's most obese people, this...   \n",
       "3   What's more? The photographer is also asking f...   \n",
       "4   Authorities say a Milwaukee man blamed a doubl...   \n",
       "5   Dr. Maya Rockeymoore Cummings, the widow of th...   \n",
       "6   S.O.S spelled out with rocks saved a woman mis...   \n",
       "7   At least two houses are on fire in Colonia, Ne...   \n",
       "8   The Duchess of Sussex thanked the British fema...   \n",
       "9   From festive flicks to cheesy romantic comedie...   \n",
       "10  At the annual Obama Foundation summit, the for...   \n",
       "11  Santos Fonseca and Jonathan Salazar were being...   \n",
       "12                                                NaN   \n",
       "13  Pamela Anderson is under fire after posting ri...   \n",
       "14  A man was fatally stabbed Monday evening while...   \n",
       "15  Alvin Hubbard III, 46, of Cambridge, Maryland,...   \n",
       "16  Charles Rhines, who was convicted of murder in...   \n",
       "17  Shannon McCann and Nick Pizio hadn't planned o...   \n",
       "18  I'm sorry and I will do better to not be such ...   \n",
       "\n",
       "                                       title_entities  \\\n",
       "0                                                  []   \n",
       "1                                                  []   \n",
       "2   [{\"Label\": \"Detroit\", \"Type\": \"G\", \"WikidataId...   \n",
       "3   [{\"Label\": \"Emily Ratajkowski\", \"Type\": \"P\", \"...   \n",
       "4                                                  []   \n",
       "5   [{\"Label\": \"Maya Rockeymoore Cummings\", \"Type\"...   \n",
       "6   [{\"Label\": \"Mississippi\", \"Type\": \"G\", \"Wikida...   \n",
       "7                                                  []   \n",
       "8   [{\"Label\": \"Meghan, Duchess of Sussex\", \"Type\"...   \n",
       "9                                                  []   \n",
       "10  [{\"Label\": \"Barack Obama\", \"Type\": \"P\", \"Wikid...   \n",
       "11                                                 []   \n",
       "12                                                 []   \n",
       "13  [{\"Label\": \"Pamela Anderson\", \"Type\": \"P\", \"Wi...   \n",
       "14                                                 []   \n",
       "15  [{\"Label\": \"Sport utility vehicle\", \"Type\": \"C...   \n",
       "16                                                 []   \n",
       "17  [{\"Label\": \"Mango (group)\", \"Type\": \"O\", \"Wiki...   \n",
       "18  [{\"Label\": \"Chrissy Teigen\", \"Type\": \"P\", \"Wik...   \n",
       "\n",
       "                                    abstract_entities  \n",
       "0   [{\"Label\": \"San Francisco\", \"Type\": \"G\", \"Wiki...  \n",
       "1                                                  []  \n",
       "2   [{\"Label\": \"Detroit Free Press Marathon\", \"Typ...  \n",
       "3                                                  []  \n",
       "4   [{\"Label\": \"Milwaukee\", \"Type\": \"G\", \"Wikidata...  \n",
       "5   [{\"Label\": \"Maya Rockeymoore Cummings\", \"Type\"...  \n",
       "6                                                  []  \n",
       "7   [{\"Label\": \"Federal Aviation Administration\", ...  \n",
       "8   [{\"Label\": \"Meghan, Duchess of Sussex\", \"Type\"...  \n",
       "9   [{\"Label\": \"Hallmark Channel\", \"Type\": \"M\", \"W...  \n",
       "10  [{\"Label\": \"Obama Foundation\", \"Type\": \"U\", \"W...  \n",
       "11  [{\"Label\": \"Monterey, California\", \"Type\": \"G\"...  \n",
       "12                                                 []  \n",
       "13  [{\"Label\": \"Pamela Anderson\", \"Type\": \"P\", \"Wi...  \n",
       "14  [{\"Label\": \"Fox News\", \"Type\": \"M\", \"WikidataI...  \n",
       "15  [{\"Label\": \"Sport utility vehicle\", \"Type\": \"C...  \n",
       "16  [{\"Label\": \"South Dakota\", \"Type\": \"G\", \"Wikid...  \n",
       "17                                                 []  \n",
       "18                                                 []  "
      ]
     },
     "execution_count": 24,
     "metadata": {},
     "output_type": "execute_result"
    }
   ],
   "source": [
    "df_history = pd.read_csv(history)\n",
    "df_history = df_history[df_history.UID==UID].merge(df_news_meta,on='NID')\n",
    "df_history"
   ]
  },
  {
   "cell_type": "code",
   "execution_count": null,
   "id": "2bab4750-486b-4973-929c-88e5d8b2ad94",
   "metadata": {},
   "outputs": [],
   "source": []
  }
 ],
 "metadata": {
  "kernelspec": {
   "display_name": "Python 3 (ipykernel)",
   "language": "python",
   "name": "python3"
  },
  "language_info": {
   "codemirror_mode": {
    "name": "ipython",
    "version": 3
   },
   "file_extension": ".py",
   "mimetype": "text/x-python",
   "name": "python",
   "nbconvert_exporter": "python",
   "pygments_lexer": "ipython3",
   "version": "3.8.1"
  }
 },
 "nbformat": 4,
 "nbformat_minor": 5
}
