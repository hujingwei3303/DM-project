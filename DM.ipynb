{
 "cells": [
  {
   "cell_type": "markdown",
   "id": "ed254487-be56-4850-9322-68b36e3923b6",
   "metadata": {},
   "source": [
    "### Run onece, to check environment"
   ]
  },
  {
   "cell_type": "code",
   "execution_count": 1,
   "id": "49aac7dc-f192-4294-bf52-ffa5efe4576b",
   "metadata": {},
   "outputs": [],
   "source": [
    "#!pip3 install -r requirements.txt"
   ]
  },
  {
   "cell_type": "markdown",
   "id": "f542f5f9-5cf1-4ecb-b125-f278aec541f3",
   "metadata": {},
   "source": [
    "### Scraper part, no need to run, just in case, can be adapted to other datasource\n",
    "* Fit Erik's code into Scrapy(20 minutes now). Scraping publish time of news.\n",
    "\n",
    "* To run it, put 'MINDlarge_train' in the top level directory of the project, which is 'DM-project'\n",
    "  * don't submit MINDlarge_train, add it to gitignore\n",
    "\n",
    "* Output filepath is 'DM-project/generate/newstimes.csv'\n",
    "\n",
    "* Don't forget to go back to the top level directory"
   ]
  },
  {
   "cell_type": "code",
   "execution_count": 2,
   "id": "8d89a97a-7cc1-41e7-8621-7d754dfb4d2c",
   "metadata": {},
   "outputs": [],
   "source": [
    "#%cd scraper"
   ]
  },
  {
   "cell_type": "code",
   "execution_count": 3,
   "id": "aa8c778f-7b8c-43f0-9d95-ba50159c4e44",
   "metadata": {},
   "outputs": [],
   "source": [
    "#!scrapy crawl news"
   ]
  },
  {
   "cell_type": "code",
   "execution_count": 4,
   "id": "3a5a131b-4311-4a19-9208-570d3d52939e",
   "metadata": {},
   "outputs": [],
   "source": [
    "#%cd .."
   ]
  },
  {
   "cell_type": "code",
   "execution_count": null,
   "id": "5d6a6f8c-93cb-4f4a-98e3-82a2e43e1ab3",
   "metadata": {},
   "outputs": [],
   "source": [
    "#newsTimes = 'generate/newstimes.csv'"
   ]
  },
  {
   "cell_type": "markdown",
   "id": "46bdda46-f5f0-44a9-98ce-933003153080",
   "metadata": {},
   "source": [
    "### Load Libraries"
   ]
  },
  {
   "cell_type": "code",
   "execution_count": 3,
   "id": "e53ad5d6-c82a-4d47-821e-288019030040",
   "metadata": {},
   "outputs": [],
   "source": [
    "import pandas as pd\n",
    "import numpy as np\n",
    "import matplotlib.pyplot as plt\n",
    "from scipy import spatial\n",
    "import sys\n",
    "import warnings\n",
    "\n",
    "if not sys.warnoptions:\n",
    "    warnings.simplefilter(\"ignore\")"
   ]
  },
  {
   "cell_type": "code",
   "execution_count": 4,
   "id": "42e70e77-a5c4-4bac-a3fa-9145cd1d4650",
   "metadata": {},
   "outputs": [],
   "source": [
    "behaviors = 'MINDlarge_train/behaviors.tsv'\n",
    "news = 'MINDlarge_train/news.tsv'\n",
    "entityEmbedding = 'MINDlarge_train/entity_embedding.vec'"
   ]
  },
  {
   "cell_type": "markdown",
   "id": "692732a6-7c5e-413a-ab05-2a0075b73e3f",
   "metadata": {},
   "source": [
    "### Preprocssing, run once"
   ]
  },
  {
   "cell_type": "code",
   "execution_count": 8,
   "id": "22dcb5a2-fea3-4d9e-a2ef-bddfdeaa91ad",
   "metadata": {},
   "outputs": [],
   "source": [
    "#import preprocessing.preprocessing as pre"
   ]
  },
  {
   "cell_type": "code",
   "execution_count": 9,
   "id": "acf4f14e-f599-472a-9fd8-ab51453d12fa",
   "metadata": {},
   "outputs": [],
   "source": [
    "#generate news_embedding.csv, news_cleaned.csv\n",
    "#pre.createNews(news,newsTimes,entityEmbedding)\n",
    "\n",
    "#generate user_history.csv, user_impression.csv\n",
    "#pre.createUsers(behaviors)\n",
    "\n",
    "#split big files\n",
    "#pre.splitFiles('generate/user_history.csv')\n",
    "#pre.splitFiles('generate/user_impressions.csv')"
   ]
  },
  {
   "cell_type": "markdown",
   "id": "dffa1cb0-b406-42bb-9b4d-54cdbd50aa36",
   "metadata": {},
   "source": [
    "### Categorical Embedding capture trending"
   ]
  },
  {
   "cell_type": "code",
   "execution_count": null,
   "id": "964758d6-f7d6-4e31-b0ed-3b113cdfe464",
   "metadata": {},
   "outputs": [],
   "source": [
    "df_news = pd.read_csv('generate/news_cleaned.csv')\n",
    "df_embeddings = pd.read_csv('generate/news_embedding.csv')"
   ]
  },
  {
   "cell_type": "markdown",
   "id": "622152df-3f82-4747-af15-86c5aa34e8e6",
   "metadata": {},
   "source": [
    "### Category embedding - solution 2\n",
    "\n",
    "Use nlp embedding, tokenize subcategories\n",
    "* i.e \n",
    "  * lifestylecelebrity-->lifestyle celebrity\n",
    "  * finance-investing-->finance investing\n",
    "  * football_fifa_wwc-->football fifa wwc\n",
    "* I made it by hand,because only 284 of them. In real world messy data, we can applying hidden markov model to maximize likelihood of possibility chain.(idea from Chinese NLP segmentation)\n",
    "\n",
    "* Pros:\n",
    "  * Capture relations in context that is the relation across categories while one-hot encoding doesn't.\n",
    "  * PinSage did so. They joint two embeddings ,vision embedding(picture) from CNN, context embedding(description, labels) from word2vec.\n",
    "\n",
    "* Cons: \n",
    "  * Still 300 dimensions in a embedding vector. (spacy, here), if we do one-hot, 284 only.\n",
    "       * PCA！ "
   ]
  },
  {
   "cell_type": "markdown",
   "id": "3355fed9-1bd5-40ce-a15b-372a92b0114e",
   "metadata": {},
   "source": [
    "### No need to run, already generated, but in case you want to play around.\n",
    "* generate/news_subcat_embedding_nlp.csv"
   ]
  },
  {
   "cell_type": "code",
   "execution_count": 22,
   "id": "6583c937-e974-41ba-8bd9-183126d74961",
   "metadata": {},
   "outputs": [],
   "source": [
    "#!pip3 install spacy"
   ]
  },
  {
   "cell_type": "code",
   "execution_count": 28,
   "id": "361ab8af-fe5a-4b92-b84c-132ca57fdf89",
   "metadata": {},
   "outputs": [],
   "source": [
    "#!python3 -m spacy download en_core_web_lg"
   ]
  },
  {
   "cell_type": "code",
   "execution_count": 207,
   "id": "84c7c34b-052c-49fc-bdbd-ed953b5d05d3",
   "metadata": {},
   "outputs": [],
   "source": [
    "#subcategories = \"generate/news_subcategories.csv\"\n",
    "#pre.createCategoriyEmbeddingNLP(subcategories)"
   ]
  },
  {
   "cell_type": "markdown",
   "id": "451d8c9b-df5f-443c-b3e3-fa4a9bc302c1",
   "metadata": {},
   "source": [
    "fcluster### Clustering!"
   ]
  },
  {
   "cell_type": "code",
   "execution_count": 367,
   "id": "ae91b7f3-3c5f-4ea4-bdea-2e9d4e3bd039",
   "metadata": {},
   "outputs": [],
   "source": [
    "from scipy.cluster.hierarchy import ward, fcluster\n",
    "from scipy.spatial.distance import pdist,cosine,cdist\n",
    "\n",
    "def clustering(X,vectorColumns,threshold,lam):\n",
    "    m,n = X.shape\n",
    "    #print(X)\n",
    "    if m>1:\n",
    "        pairwise_distance = pdist(X[vectorColumns], metric='cosine')\n",
    "        \n",
    "        labels = fcluster(ward(pairwise_distance), t=threshold, criterion='distance')\n",
    "        #print(labels)\n",
    "        num_clusters = labels.max()\n",
    "        \n",
    "        scores = {}\n",
    "        for i in range(num_clusters):\n",
    "            c = i+1 #choose cluster\n",
    "            #if we use sum, both consider number of item and time importance\n",
    "            importance_score = X.loc[labels==c].importance.sum()\n",
    "            scores[c] = importance_score\n",
    "        \n",
    "        if num_clusters>3:\n",
    "            p = np.array(list(scores.values()))\n",
    "            sum_score = p.sum()\n",
    "            p /= sum_score\n",
    "            chosed = np.random.choice(list(scores.keys()),p=p,size=3,replace=False)\n",
    "        else:\n",
    "            chosed = np.array(list(scores.keys()))\n",
    "            \n",
    "        medoids = []\n",
    "        distance_upper_bound = []\n",
    "        for c in chosed:\n",
    "            idx = np.argwhere(labels==c).flatten()\n",
    "            \n",
    "            if len(idx)<3:\n",
    "                distance_upper_bound.append(0.5)   \n",
    "                medoids.append(X.index[idx[0]])\n",
    "                continue\n",
    "                \n",
    "            min_distance = 9999999\n",
    "            min_distance_i = -1\n",
    "            min_distances = []\n",
    "            \n",
    "            \n",
    "            for i in idx:\n",
    "                distance_i = 0\n",
    "                distances = []\n",
    "                for j in idx:\n",
    "                    if i==j:\n",
    "                        continue\n",
    "                        \n",
    "                    d_ij = m * i + j - ((i + 2) * (i + 1)) // 2.\n",
    "                    distance_i_j =  pairwise_distance[int(d_ij)]\n",
    "                    distance_i += distance_i_j\n",
    "                    distances.append(distance_i_j)\n",
    "                    \n",
    "                    if distance_i>min_distance:\n",
    "                        break\n",
    "                        \n",
    "                if distance_i<min_distance:\n",
    "                    min_distance = distance_i\n",
    "                    min_distance_i = i\n",
    "                    min_distances = distances\n",
    "            \n",
    "\n",
    "                  \n",
    "            std = np.array(min_distances).std()\n",
    "            mu = np.array(min_distances).mean()\n",
    "            #68%-95%-99.8% for 1,2,3 std\n",
    "            #!!!!!however\n",
    "            #according to the result, larger cluster has lower std.\n",
    "            distance_upper_bound.append(mu+2*std)   \n",
    "            medoids.append(X.index[min_distance_i])\n",
    "            \n",
    "        return medoids,distance_upper_bound\n",
    "    else:\n",
    "        return X.index.values,0.5*np.ones(X.shape[0])\n",
    "    \n",
    "def clusteringBatch(history,t0,threshold=0.7,lam=0.01):\n",
    "    df_news_embedding = pd.read_csv('generate/news_embedding.csv')\n",
    "    df_news_meta = pd.read_csv('generate/news_cleaned.csv')\n",
    "    \n",
    "    df_history = pd.read_csv(history)\n",
    "    \n",
    "    \n",
    "   # df_history = df_history[df_history.UID=='U169741']\n",
    " \n",
    "    df_history = df_history.merge(df_news_embedding,on='NID')\n",
    "    df_history = df_history.merge(df_news_meta,on='NID')\n",
    "\n",
    "\n",
    "    df_history['importance'] = np.exp(-lam*(t0-df_history.publishDate)/100000)\n",
    "\n",
    "    vectorColumns = [c for c in df_history.columns if c.startswith('V')]\n",
    "\n",
    "    medoid_collection = []\n",
    "    radius_collection = []\n",
    "    for UID,g in df_history.groupby('UID'):\n",
    "        medoids,radius = clustering(g,vectorColumns,threshold,lam)\n",
    "        \n",
    "        medoid_collection.append(medoids)\n",
    "        radius_collection.append(radius)\n",
    "        \n",
    "    df_result = df_history.loc[np.hstack(medoid_collection)][['UID','NID']].copy()\n",
    "    df_result['radius'] = np.hstack(radius_collection)\n",
    "    return df_result"
   ]
  },
  {
   "cell_type": "code",
   "execution_count": 368,
   "id": "5b202b70-a322-4c9f-8c6a-fed2ca7d3143",
   "metadata": {},
   "outputs": [],
   "source": [
    "def measurement(impression,df_user_representation):\n",
    "    df_impression = pd.read_csv(impression)\n",
    "    df_impression = df_impression[df_impression.attitude==1]\n",
    "    \n",
    "   # df_impression = df_impression[df_impression.UID=='U169741']\n",
    "    \n",
    "    df_news_embedding = pd.read_csv('generate/news_embedding.csv')\n",
    "    df_impression = df_impression.merge(df_news_embedding,on='NID')\n",
    "    df_user_representation = df_user_representation.merge(df_news_embedding,on='NID')\n",
    "    \n",
    "    vectorColumns = [c for c in df_impression.columns if c.startswith('V')]\n",
    "    \n",
    "    measure = []\n",
    "    for UID,g in df_impression.groupby('UID'):\n",
    "        #print(df_user_representation[df_user_representation.UID==UID])\n",
    "        positive = g[vectorColumns]\n",
    "        user = df_user_representation[df_user_representation.UID==UID][vectorColumns]\n",
    "        user_radius = df_user_representation[df_user_representation.UID==UID].radius.values\n",
    "        \n",
    "        if len(user)==0:\n",
    "            continue\n",
    "        \n",
    "        d = cdist(positive,user, metric='cosine')\n",
    "       \n",
    "        where_clusters = d.argmin(axis=1)\n",
    "        user_radius = user_radius[where_clusters]\n",
    "       \n",
    "        \n",
    "        mask = d==(d.min(keepdims=1,axis=1))\n",
    "        \n",
    "        #print(UID,mask,user)\n",
    "        \n",
    "        hits = d[mask] < user_radius\n",
    "       \n",
    "        recall = hits.mean()\n",
    "       \n",
    "        hit = 1 - len(np.unique(where_clusters[hits]))/len(user)\n",
    "       \n",
    "        measure.append((UID,recall,hit))\n",
    "        \n",
    "    return pd.DataFrame.from_records(measure,columns=['UID','recall','percent_empty'])"
   ]
  },
  {
   "cell_type": "markdown",
   "id": "a01c306a-0022-450a-9182-429d3fd0ddca",
   "metadata": {},
   "source": [
    "### do ward clustering"
   ]
  },
  {
   "cell_type": "code",
   "execution_count": 369,
   "id": "b3c730c7-1225-4f9e-a2e6-186e2c6da22f",
   "metadata": {},
   "outputs": [],
   "source": [
    "t0 = 1575586800+1000\n",
    "lam = 0.01\n",
    "threshold = 0.85\n",
    "\n",
    "history = 'generate/user_history_1.csv'\n",
    "df_user_representation = clusteringBatch(history,t0,threshold=threshold,lam=lam)"
   ]
  },
  {
   "cell_type": "code",
   "execution_count": 370,
   "id": "c5e321a1-4430-4b6e-a1be-cd8e53e99700",
   "metadata": {},
   "outputs": [
    {
     "data": {
      "text/html": [
       "<div>\n",
       "<style scoped>\n",
       "    .dataframe tbody tr th:only-of-type {\n",
       "        vertical-align: middle;\n",
       "    }\n",
       "\n",
       "    .dataframe tbody tr th {\n",
       "        vertical-align: top;\n",
       "    }\n",
       "\n",
       "    .dataframe thead th {\n",
       "        text-align: right;\n",
       "    }\n",
       "</style>\n",
       "<table border=\"1\" class=\"dataframe\">\n",
       "  <thead>\n",
       "    <tr style=\"text-align: right;\">\n",
       "      <th></th>\n",
       "      <th>UID</th>\n",
       "      <th>NID</th>\n",
       "      <th>radius</th>\n",
       "    </tr>\n",
       "  </thead>\n",
       "  <tbody>\n",
       "    <tr>\n",
       "      <th>281845</th>\n",
       "      <td>U1</td>\n",
       "      <td>N129422</td>\n",
       "      <td>0.906985</td>\n",
       "    </tr>\n",
       "    <tr>\n",
       "      <th>181346</th>\n",
       "      <td>U1</td>\n",
       "      <td>N116144</td>\n",
       "      <td>0.680698</td>\n",
       "    </tr>\n",
       "    <tr>\n",
       "      <th>102419</th>\n",
       "      <td>U1</td>\n",
       "      <td>N27258</td>\n",
       "      <td>0.309544</td>\n",
       "    </tr>\n",
       "    <tr>\n",
       "      <th>220210</th>\n",
       "      <td>U100009</td>\n",
       "      <td>N72493</td>\n",
       "      <td>0.802330</td>\n",
       "    </tr>\n",
       "    <tr>\n",
       "      <th>203617</th>\n",
       "      <td>U100045</td>\n",
       "      <td>N76810</td>\n",
       "      <td>0.500000</td>\n",
       "    </tr>\n",
       "    <tr>\n",
       "      <th>...</th>\n",
       "      <td>...</td>\n",
       "      <td>...</td>\n",
       "      <td>...</td>\n",
       "    </tr>\n",
       "    <tr>\n",
       "      <th>34830</th>\n",
       "      <td>U99937</td>\n",
       "      <td>N102417</td>\n",
       "      <td>0.500000</td>\n",
       "    </tr>\n",
       "    <tr>\n",
       "      <th>97318</th>\n",
       "      <td>U99937</td>\n",
       "      <td>N104760</td>\n",
       "      <td>0.500000</td>\n",
       "    </tr>\n",
       "    <tr>\n",
       "      <th>60006</th>\n",
       "      <td>U99973</td>\n",
       "      <td>N42703</td>\n",
       "      <td>0.500000</td>\n",
       "    </tr>\n",
       "    <tr>\n",
       "      <th>33458</th>\n",
       "      <td>U99973</td>\n",
       "      <td>N9375</td>\n",
       "      <td>0.874542</td>\n",
       "    </tr>\n",
       "    <tr>\n",
       "      <th>13508</th>\n",
       "      <td>U99973</td>\n",
       "      <td>N128643</td>\n",
       "      <td>0.500000</td>\n",
       "    </tr>\n",
       "  </tbody>\n",
       "</table>\n",
       "<p>48233 rows × 3 columns</p>\n",
       "</div>"
      ],
      "text/plain": [
       "            UID      NID    radius\n",
       "281845       U1  N129422  0.906985\n",
       "181346       U1  N116144  0.680698\n",
       "102419       U1   N27258  0.309544\n",
       "220210  U100009   N72493  0.802330\n",
       "203617  U100045   N76810  0.500000\n",
       "...         ...      ...       ...\n",
       "34830    U99937  N102417  0.500000\n",
       "97318    U99937  N104760  0.500000\n",
       "60006    U99973   N42703  0.500000\n",
       "33458    U99973    N9375  0.874542\n",
       "13508    U99973  N128643  0.500000\n",
       "\n",
       "[48233 rows x 3 columns]"
      ]
     },
     "execution_count": 370,
     "metadata": {},
     "output_type": "execute_result"
    }
   ],
   "source": [
    "df_user_representation"
   ]
  },
  {
   "cell_type": "code",
   "execution_count": 371,
   "id": "49b2c8f8-8463-4f07-bf9e-3591aa055ab7",
   "metadata": {},
   "outputs": [
    {
     "data": {
      "text/plain": [
       "<AxesSubplot:>"
      ]
     },
     "execution_count": 371,
     "metadata": {},
     "output_type": "execute_result"
    },
    {
     "data": {
      "image/png": "[encoded data removed]",
      "text/plain": [
       "<Figure size 432x288 with 1 Axes>"
      ]
     },
     "metadata": {
      "needs_background": "light"
     },
     "output_type": "display_data"
    }
   ],
   "source": [
    "df_user_representation[~(df_user_representation.radius==0.5)].radius.hist(bins=40)"
   ]
  },
  {
   "cell_type": "markdown",
   "id": "b7c1ede7-52e5-4dea-8b55-02a288867878",
   "metadata": {},
   "source": [
    "### measure user representation"
   ]
  },
  {
   "cell_type": "code",
   "execution_count": 372,
   "id": "0c247d31-1804-451b-bc5d-aa6b6de18a19",
   "metadata": {},
   "outputs": [],
   "source": [
    "impression = 'generate/user_impressions_1.csv'\n",
    "\n",
    "df_measure = measurement(impression,df_user_representation)"
   ]
  },
  {
   "cell_type": "code",
   "execution_count": 377,
   "id": "f8b71368-5509-4a52-9839-22598de13a31",
   "metadata": {},
   "outputs": [
    {
     "data": {
      "text/plain": [
       "<AxesSubplot:>"
      ]
     },
     "execution_count": 377,
     "metadata": {},
     "output_type": "execute_result"
    },
    {
     "data": {
      "image/png": "[encoded data removed]",
      "text/plain": [
       "<Figure size 432x288 with 1 Axes>"
      ]
     },
     "metadata": {
      "needs_background": "light"
     },
     "output_type": "display_data"
    }
   ],
   "source": [
    "df_measure.recall.hist(bins=10)"
   ]
  },
  {
   "cell_type": "code",
   "execution_count": 376,
   "id": "3ea24848-2418-40cd-ab28-971a47890b70",
   "metadata": {},
   "outputs": [
    {
     "data": {
      "text/plain": [
       "<AxesSubplot:>"
      ]
     },
     "execution_count": 376,
     "metadata": {},
     "output_type": "execute_result"
    },
    {
     "data": {
      "image/png": "[encoded data removed]",
      "text/plain": [
       "<Figure size 432x288 with 1 Axes>"
      ]
     },
     "metadata": {
      "needs_background": "light"
     },
     "output_type": "display_data"
    }
   ],
   "source": [
    "df_measure.percent_empty.hist(bins=5)"
   ]
  },
  {
   "cell_type": "code",
   "execution_count": null,
   "id": "c7cfbf43-b14f-460a-8abe-0c37e0a41584",
   "metadata": {},
   "outputs": [],
   "source": []
  }
 ],
 "metadata": {
  "kernelspec": {
   "display_name": "Python 3 (ipykernel)",
   "language": "python",
   "name": "python3"
  },
  "language_info": {
   "codemirror_mode": {
    "name": "ipython",
    "version": 3
   },
   "file_extension": ".py",
   "mimetype": "text/x-python",
   "name": "python",
   "nbconvert_exporter": "python",
   "pygments_lexer": "ipython3",
   "version": "3.8.1"
  }
 },
 "nbformat": 4,
 "nbformat_minor": 5
}
