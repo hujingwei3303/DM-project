{
 "cells": [
  {
   "cell_type": "markdown",
   "id": "34556c0c-be5a-4cbe-adf4-96c4b218651e",
   "metadata": {},
   "source": [
    "### Run once, to check environment"
   ]
  },
  {
   "cell_type": "code",
   "execution_count": 1,
   "id": "c56031dc-8641-47f6-a8a3-42104dc13613",
   "metadata": {},
   "outputs": [],
   "source": [
    "#!pip3 install -r requirements.txt"
   ]
  },
  {
   "cell_type": "markdown",
   "id": "ea8ede86-a368-4169-ade3-dfb91ff4e59c",
   "metadata": {},
   "source": [
    "### Download Data, put under root directory DM-project/\n",
    "\n",
    "https://msnews.github.io/behaviors"
   ]
  },
  {
   "cell_type": "markdown",
   "id": "b9a31064-6559-4603-b0bb-aca4a31c4c4a",
   "metadata": {},
   "source": [
    "### Scraper part, no need to run, just in case, can be adapted to other datasource\n",
    "   * Scraping publish time of news\n",
    "   * To run it, put 'MINDlarge_train' in the top level directory of the project, which is 'DM-project'\n",
    "   * don't submit MINDlarge_train, add it to gitignore\n",
    "   * Output filepath is 'DM-project/generate/newstimes.csv\n",
    "   * Don't forget to go back to the top level directory\n",
    "   "
   ]
  },
  {
   "cell_type": "code",
   "execution_count": 2,
   "id": "706d421a-3291-4d66-a77f-f8dc43c8fb7f",
   "metadata": {},
   "outputs": [],
   "source": [
    "#%cd scraper"
   ]
  },
  {
   "cell_type": "code",
   "execution_count": 4,
   "id": "d8d9bb16-c782-403f-954e-3185443d94d7",
   "metadata": {},
   "outputs": [],
   "source": [
    "#!scrapy crawl news"
   ]
  },
  {
   "cell_type": "code",
   "execution_count": 5,
   "id": "21ba47c4-a40e-44b9-8772-3d573f5572bb",
   "metadata": {},
   "outputs": [],
   "source": [
    "#%cd .."
   ]
  },
  {
   "cell_type": "code",
   "execution_count": 6,
   "id": "1b37462b-b9b1-4fdf-8fdc-f592c851c0a2",
   "metadata": {},
   "outputs": [],
   "source": [
    "#newsTimes = 'generate/newstimes.csv'"
   ]
  },
  {
   "cell_type": "markdown",
   "id": "1c49b89a-7e90-4275-bc65-fdb31916b79e",
   "metadata": {},
   "source": [
    "### Load Libraries"
   ]
  },
  {
   "cell_type": "code",
   "execution_count": 1,
   "id": "1bd98e02-dbeb-4a72-828a-b303d9e402fb",
   "metadata": {},
   "outputs": [],
   "source": [
    "import pandas as pd\n",
    "import numpy as np\n",
    "import matplotlib.pyplot as plt\n",
    "import sys\n",
    "import warnings\n",
    "\n",
    "if not sys.warnoptions:\n",
    "    warnings.simplefilter(\"ignore\")"
   ]
  },
  {
   "cell_type": "markdown",
   "id": "a81d754e-325f-4080-965f-69673fd1538f",
   "metadata": {},
   "source": [
    "### Preprocssing, run once"
   ]
  },
  {
   "cell_type": "code",
   "execution_count": 2,
   "id": "f6d722eb-e57b-4c47-9b51-a1e571c4a9cf",
   "metadata": {},
   "outputs": [],
   "source": [
    "#from preprocessing.preprocessing import createNews,createUsers,splitFiles,createCategoriyEmbeddingNLP"
   ]
  },
  {
   "cell_type": "code",
   "execution_count": 3,
   "id": "b23110a1-3801-4e02-a734-bbad91c6a26e",
   "metadata": {},
   "outputs": [],
   "source": [
    "#behaviors = 'MINDlarge_train/behaviors.tsv'\n",
    "news = 'MINDlarge_train/news.tsv'\n",
    "#entityEmbedding = 'MINDlarge_train/entity_embedding.vec'\n",
    "##generate news_embedding.csv, news_cleaned.csv\n",
    "#createNews(news,newsTimes,entityEmbedding)\n",
    "##generate user_history.csv, user_impression.csv\n",
    "#createUsers(behaviors)\n",
    "##split big files\n",
    "#splitFiles('generate/user_history.csv')\n",
    "#splitFiles('generate/user_impressions.csv')"
   ]
  },
  {
   "cell_type": "markdown",
   "id": "41e8e3e5-7db8-4dc8-9648-9f47bb8ce384",
   "metadata": {},
   "source": [
    "### No need to run, already generated, but in case you want to play around.\n",
    "  * generate/news_subcat_embedding_nlp.csv"
   ]
  },
  {
   "cell_type": "code",
   "execution_count": 4,
   "id": "5d1b8260-7326-41ce-ba52-191736ea920a",
   "metadata": {},
   "outputs": [],
   "source": [
    "#!pip3 install spacy"
   ]
  },
  {
   "cell_type": "code",
   "execution_count": 5,
   "id": "50bb92c7-0bec-45c0-8d90-6704f750f4eb",
   "metadata": {},
   "outputs": [],
   "source": [
    "#!python3 -m spacy download en_core_web_lg"
   ]
  },
  {
   "cell_type": "code",
   "execution_count": 6,
   "id": "af0ccbcc-e533-4a8f-8a84-14e356452779",
   "metadata": {},
   "outputs": [],
   "source": [
    "#subcategories = \"generate/news_subcategories.csv\"\n",
    "#createCategoriyEmbeddingNLP(subcategories)\""
   ]
  },
  {
   "cell_type": "code",
   "execution_count": 7,
   "id": "16a4fcae-cbae-46ef-b29b-48ea65946c5a",
   "metadata": {},
   "outputs": [],
   "source": [
    "from analysis.measurement import measurement,baselineTest,tuningParameters\n",
    "from analysis.clustering import clusteringBatch\n",
    "from analysis.recommendation import searchKNearestNeighbors"
   ]
  },
  {
   "cell_type": "code",
   "execution_count": 8,
   "id": "bc80264f-f1a7-412b-969e-41fb50a62a75",
   "metadata": {},
   "outputs": [],
   "source": [
    "t0 = 1575586800+1000\n",
    "lam = 0.01\n",
    "threshold = 0.85\n",
    "\n",
    "#distance bound by radius_scale*std of cluster \n",
    "default_radius = 0.3\n",
    "radius_scale = 1\n",
    "\n",
    "history = 'generate/user_history_1.csv'\n",
    "impression = 'generate/user_impressions_1.csv'"
   ]
  },
  {
   "cell_type": "markdown",
   "id": "c8cb1cc1-cccb-4258-a393-88fec756dfe4",
   "metadata": {},
   "source": [
    "### User representation\n",
    "* clusteringBatch \n",
    "     -  group user by UID\n",
    "     -  perform ward clustering on each user's reading history\n",
    "     -  sample 3 cluster according to the Importance Scores\n",
    "     -  calculate the medoid/centroid as one of representation of user's interest\n",
    "     -  calculate accepted boundary(radius) for each cluster"
   ]
  },
  {
   "cell_type": "code",
   "execution_count": 9,
   "id": "ffe45564-3a87-40b1-9ace-5d3c6a5e682e",
   "metadata": {},
   "outputs": [],
   "source": [
    "df_user_representation_medoid,df_user_representation_centroid = clusteringBatch(t0,history=history,threshold=threshold,lam=lam,default_radius=default_radius,radius_scale=radius_scale,with_centroid=True)\n",
    "\n"
   ]
  },
  {
   "cell_type": "code",
   "execution_count": 13,
   "id": "511f2953-6a5a-43da-8403-95dd93b3afc7",
   "metadata": {},
   "outputs": [
    {
     "data": {
      "text/plain": [
       "<AxesSubplot:>"
      ]
     },
     "execution_count": 13,
     "metadata": {},
     "output_type": "execute_result"
    },
    {
     "data": {
      "image/png": "[encoded data removed]",
      "text/plain": [
       "<Figure size 432x288 with 1 Axes>"
      ]
     },
     "metadata": {
      "needs_background": "light"
     },
     "output_type": "display_data"
    }
   ],
   "source": [
    "df_user_representation_centroid[~(df_user_representation_centroid.radius==default_radius)].radius.hist(bins=40)"
   ]
  },
  {
   "cell_type": "markdown",
   "id": "ece30011-3b3d-4872-8eee-4726df6d5562",
   "metadata": {},
   "source": [
    "* measurement\n",
    "  - compare user representation(n by 300) with user impression(m by 300) \n",
    "  - get n by m distance matrix\n",
    "  - mask distance matrix with accepted boundary\n",
    "  - count recall for each positive impression, divide by length of impressions\n",
    "  - count hits for each representation, consider empty hits percentage.\""
   ]
  },
  {
   "cell_type": "code",
   "execution_count": null,
   "id": "995a95aa-5899-41da-aa63-975c5f220e20",
   "metadata": {},
   "outputs": [],
   "source": [
    "df_measure_centroid = measurement(df_user_representation_centroid,impression=impression)"
   ]
  },
  {
   "cell_type": "code",
   "execution_count": 6,
   "id": "27bd4142-07e5-4668-b98e-258c162ad463",
   "metadata": {},
   "outputs": [
    {
     "name": "stdout",
     "output_type": "stream",
     "text": [
      "If use centroids as user representation, get recall 0.56, the percentage of empty recommendation is 0.56\n"
     ]
    }
   ],
   "source": [
    "mean_recall = df_measure_centroid.recall.mean()\n",
    "empty_percent = df_measure_centroid.percent_empty.mean()\n",
    "print(\"If use centroids as user representation, get recall %.2f, the percentage of empty recommendation is %.2f\"%(mean_recall,empty_percent))\n",
    "\n"
   ]
  },
  {
   "cell_type": "code",
   "execution_count": 7,
   "id": "c0740245-944d-4415-bb97-dce858ae7a15",
   "metadata": {},
   "outputs": [],
   "source": [
    "df_measure_medoid = measurement(df_user_representation_medoid,impression=impression)"
   ]
  },
  {
   "cell_type": "code",
   "execution_count": 8,
   "id": "ca73894c-5ed9-4b4a-9c13-cdaef666e9c9",
   "metadata": {},
   "outputs": [
    {
     "name": "stdout",
     "output_type": "stream",
     "text": [
      "If use medoids as user representation, get recall 0.50, the percentage of empty recommendation is 0.60\n"
     ]
    }
   ],
   "source": [
    "mean_recall = df_measure_medoid.recall.mean()\n",
    "empty_percent = df_measure_medoid.percent_empty.mean()\n",
    "print(\"If use medoids as user representation, get recall %.2f, the percentage of empty recommendation is %.2f\"%(mean_recall,empty_percent))\n",
    "      \n",
    "      "
   ]
  },
  {
   "cell_type": "markdown",
   "id": "55f3b9de-1b31-49ce-88e4-59dfca656ad2",
   "metadata": {},
   "source": [
    "### Baseline Test\n",
    "   * randomly draw 3 news from history\n",
    "   * pick the latest 3 news from history"
   ]
  },
  {
   "cell_type": "code",
   "execution_count": 9,
   "id": "48d6af6a-66e1-42d2-ad14-171c5b24fb96",
   "metadata": {},
   "outputs": [],
   "source": [
    "df_user_representation_random,df_user_representation_latest = baselineTest(history,default_radius=default_radius)\n",
    "\n"
   ]
  },
  {
   "cell_type": "code",
   "execution_count": 10,
   "id": "fa57986e-ffc1-47b8-b777-c9ac930bbdba",
   "metadata": {},
   "outputs": [],
   "source": [
    "df_measure_random = measurement(df_user_representation_random,impression=impression)"
   ]
  },
  {
   "cell_type": "code",
   "execution_count": 11,
   "id": "bfeac21f-60dd-4e47-b7e8-51942744e545",
   "metadata": {},
   "outputs": [
    {
     "name": "stdout",
     "output_type": "stream",
     "text": [
      "If randomly draw 3 samples, get recall 0.19, the percentage of empty recommendation is 0.84\n"
     ]
    }
   ],
   "source": [
    "mean_recall = df_measure_random.recall.mean()\n",
    "empty_percent = df_measure_random.percent_empty.mean()\n",
    "print(\"If randomly draw 3 samples, get recall %.2f, the percentage of empty recommendation is %.2f\"%(mean_recall,empty_percent))"
   ]
  },
  {
   "cell_type": "code",
   "execution_count": 12,
   "id": "ab959bb4-2e99-4e70-b9ec-acf23084aa0e",
   "metadata": {},
   "outputs": [],
   "source": [
    "df_measure_lastest = measurement(df_user_representation_latest,impression=impression)"
   ]
  },
  {
   "cell_type": "code",
   "execution_count": 13,
   "id": "6b437b1b-acc7-472c-a066-8ed889624e4b",
   "metadata": {},
   "outputs": [
    {
     "name": "stdout",
     "output_type": "stream",
     "text": [
      "If draw 3 latests samples, get recall 0.19, the percentage of empty recommendation is 0.83\n"
     ]
    }
   ],
   "source": [
    "mean_recall = df_measure_lastest.recall.mean()\n",
    "empty_percent = df_measure_lastest.percent_empty.mean()\n",
    "print(\"If draw 3 latests samples, get recall %.2f, the percentage of empty recommendation is %.2f\"%(mean_recall,empty_percent))"
   ]
  },
  {
   "cell_type": "markdown",
   "id": "05863415-578c-4f47-ab38-23ad3c84dbdf",
   "metadata": {},
   "source": [
    "### Parameter tuning\n",
    "* $\\lambda$ for importance score\n",
    "* threshold for ward clustering\n",
    "* measureed by recall and hits"
   ]
  },
  {
   "cell_type": "code",
   "execution_count": null,
   "id": "e91debb5-2079-4dcd-b6d6-cf0b8c6cfcdf",
   "metadata": {},
   "outputs": [],
   "source": [
    "lams = [0.01]\n",
    "thresholds = [0.5, 0.75, 1.0, 1.25, 1.50, 2.0, 3.0, 4.0, 5.0]\n",
    "df_tuning_result = tuningParameters(\"12\",lam=lams,threshold=thresholds)"
   ]
  },
  {
   "cell_type": "code",
   "execution_count": null,
   "id": "69a83154-5e05-48e7-8925-d41ff077ce5c",
   "metadata": {},
   "outputs": [],
   "source": [
    "df_tuning_result.head()"
   ]
  },
  {
   "cell_type": "code",
   "execution_count": null,
   "id": "1bf34045-dc57-4fd3-8df3-72476638b2c0",
   "metadata": {},
   "outputs": [],
   "source": [
    "df_tuning_result.to_csv(\"generate/threshold_tuning.csv\")"
   ]
  },
  {
   "cell_type": "markdown",
   "id": "5a5ce164-608a-4fa0-9d99-626f471d2616",
   "metadata": {},
   "source": [
    "### Recommendation System--Hierarchical Navigable Small World\n",
    "* 89222 elements in space, with 100 dimensions.\n",
    "* Search 4 nearest neighbor for each item of user representation"
   ]
  },
  {
   "cell_type": "code",
   "execution_count": 14,
   "id": "1988067a-708a-4ed1-a342-19c05c3cd2de",
   "metadata": {},
   "outputs": [
    {
     "name": "stdout",
     "output_type": "stream",
     "text": [
      "Time cost 29.314773647999914 s\n"
     ]
    }
   ],
   "source": [
    "import time\n",
    "\n",
    "t_before = time.perf_counter()\n",
    "df_recommendation = searchKNearestNeighbors(df_user_representation_centroid,k=4)\n",
    "print(f'Time cost {time.perf_counter()-t_before} s')"
   ]
  },
  {
   "cell_type": "code",
   "execution_count": 15,
   "id": "97449e70-1dae-4500-91da-41815042859f",
   "metadata": {},
   "outputs": [],
   "source": [
    "df_news_meta = pd.read_csv(news,sep='\\t',header=None)\n",
    "df_news_meta.rename(columns={0:'NID',1:'category',2:'subcategory',3:'title',4:'abstract',6:'title_entities',7:'abstract_entities'},inplace=True)\n",
    "df_news_meta = df_news_meta[['NID','category','subcategory','title','abstract','title_entities','abstract_entities']]\n",
    "  "
   ]
  },
  {
   "cell_type": "code",
   "execution_count": 16,
   "id": "6ec3738b-356a-49f1-b87a-39070b8707a2",
   "metadata": {},
   "outputs": [
    {
     "data": {
      "text/html": [
       "<div>\n",
       "<style scoped>\n",
       "    .dataframe tbody tr th:only-of-type {\n",
       "        vertical-align: middle;\n",
       "    }\n",
       "\n",
       "    .dataframe tbody tr th {\n",
       "        vertical-align: top;\n",
       "    }\n",
       "\n",
       "    .dataframe thead th {\n",
       "        text-align: right;\n",
       "    }\n",
       "</style>\n",
       "<table border=\"1\" class=\"dataframe\">\n",
       "  <thead>\n",
       "    <tr style=\"text-align: right;\">\n",
       "      <th></th>\n",
       "      <th>UID</th>\n",
       "      <th>NID</th>\n",
       "      <th>category</th>\n",
       "      <th>subcategory</th>\n",
       "      <th>title</th>\n",
       "      <th>abstract</th>\n",
       "      <th>title_entities</th>\n",
       "      <th>abstract_entities</th>\n",
       "    </tr>\n",
       "  </thead>\n",
       "  <tbody>\n",
       "    <tr>\n",
       "      <th>0</th>\n",
       "      <td>U378649</td>\n",
       "      <td>N11793</td>\n",
       "      <td>finance</td>\n",
       "      <td>finance-companies</td>\n",
       "      <td>The world's only $100 billion utility owes its...</td>\n",
       "      <td>Two decades ago, when coal ruled U.S. power ge...</td>\n",
       "      <td>[]</td>\n",
       "      <td>[{\"Label\": \"Florida\", \"Type\": \"G\", \"WikidataId...</td>\n",
       "    </tr>\n",
       "    <tr>\n",
       "      <th>1</th>\n",
       "      <td>U378649</td>\n",
       "      <td>N61505</td>\n",
       "      <td>weather</td>\n",
       "      <td>weathertopstories</td>\n",
       "      <td>In case you missed it: Winterlike storm trigge...</td>\n",
       "      <td>Snow hasn't gotten the memo that might be a li...</td>\n",
       "      <td>[{\"Label\": \"United States\", \"Type\": \"G\", \"Wiki...</td>\n",
       "      <td>[{\"Label\": \"California\", \"Type\": \"G\", \"Wikidat...</td>\n",
       "    </tr>\n",
       "    <tr>\n",
       "      <th>2</th>\n",
       "      <td>U378649</td>\n",
       "      <td>N59231</td>\n",
       "      <td>finance</td>\n",
       "      <td>markets</td>\n",
       "      <td>Migrants Find Different Fates at Texas, Arizon...</td>\n",
       "      <td>Across most of the southern U.S. border, hundr...</td>\n",
       "      <td>[{\"Label\": \"Arizona\", \"Type\": \"G\", \"WikidataId...</td>\n",
       "      <td>[{\"Label\": \"Arizona\", \"Type\": \"G\", \"WikidataId...</td>\n",
       "    </tr>\n",
       "    <tr>\n",
       "      <th>3</th>\n",
       "      <td>U378649</td>\n",
       "      <td>N8262</td>\n",
       "      <td>sports</td>\n",
       "      <td>more_sports</td>\n",
       "      <td>Manatee County Army Veteran soon to be inducte...</td>\n",
       "      <td>After years of serving America, then retiring ...</td>\n",
       "      <td>[{\"Label\": \"Florida\", \"Type\": \"G\", \"WikidataId...</td>\n",
       "      <td>[{\"Label\": \"Manatee County, Florida\", \"Type\": ...</td>\n",
       "    </tr>\n",
       "    <tr>\n",
       "      <th>4</th>\n",
       "      <td>U378649</td>\n",
       "      <td>N83203</td>\n",
       "      <td>news</td>\n",
       "      <td>newsworld</td>\n",
       "      <td>Lebanon Uber driver gets death sentence for mu...</td>\n",
       "      <td>A Lebanese court sentenced Uber driver Tariq H...</td>\n",
       "      <td>[]</td>\n",
       "      <td>[{\"Label\": \"News agency\", \"Type\": \"C\", \"Wikida...</td>\n",
       "    </tr>\n",
       "    <tr>\n",
       "      <th>5</th>\n",
       "      <td>U378649</td>\n",
       "      <td>N78589</td>\n",
       "      <td>finance</td>\n",
       "      <td>finance-savemoney</td>\n",
       "      <td>5 Ways to Trim the Growing Cost of Cutting the...</td>\n",
       "      <td>Streaming TV services can run you more than tr...</td>\n",
       "      <td>[]</td>\n",
       "      <td>[{\"Label\": \"Streaming television\", \"Type\": \"N\"...</td>\n",
       "    </tr>\n",
       "    <tr>\n",
       "      <th>6</th>\n",
       "      <td>U378649</td>\n",
       "      <td>N15594</td>\n",
       "      <td>news</td>\n",
       "      <td>newsscienceandtechnology</td>\n",
       "      <td>How to cut cable's cord and go streaming in 2019</td>\n",
       "      <td>Dropping cable TV and watching television and ...</td>\n",
       "      <td>[]</td>\n",
       "      <td>[{\"Label\": \"Streaming television\", \"Type\": \"N\"...</td>\n",
       "    </tr>\n",
       "    <tr>\n",
       "      <th>7</th>\n",
       "      <td>U378649</td>\n",
       "      <td>N129013</td>\n",
       "      <td>tv</td>\n",
       "      <td>tv-gallery</td>\n",
       "      <td>Streaming TV Scorecard: Renewals, Cancellation...</td>\n",
       "      <td>NaN</td>\n",
       "      <td>[{\"Label\": \"Streaming television\", \"Type\": \"N\"...</td>\n",
       "      <td>[]</td>\n",
       "    </tr>\n",
       "    <tr>\n",
       "      <th>8</th>\n",
       "      <td>U378649</td>\n",
       "      <td>N82792</td>\n",
       "      <td>sports</td>\n",
       "      <td>football_nfl</td>\n",
       "      <td>NFL Odds: How Likely Is Dez Bryant-Patriots Pa...</td>\n",
       "      <td>It sounds like Dez Bryant wants to play footba...</td>\n",
       "      <td>[{\"Label\": \"Dez Bryant\", \"Type\": \"P\", \"Wikidat...</td>\n",
       "      <td>[{\"Label\": \"Dez Bryant\", \"Type\": \"P\", \"Wikidat...</td>\n",
       "    </tr>\n",
       "    <tr>\n",
       "      <th>9</th>\n",
       "      <td>U378649</td>\n",
       "      <td>N4937</td>\n",
       "      <td>sports</td>\n",
       "      <td>football_nfl</td>\n",
       "      <td>Seahawks' Jadeveon Clowney named NFC Defensive...</td>\n",
       "      <td>Jadeveon Clowney's dominating performance was ...</td>\n",
       "      <td>[{\"Label\": \"Jadeveon Clowney\", \"Type\": \"P\", \"W...</td>\n",
       "      <td>[{\"Label\": \"Jadeveon Clowney\", \"Type\": \"P\", \"W...</td>\n",
       "    </tr>\n",
       "    <tr>\n",
       "      <th>10</th>\n",
       "      <td>U378649</td>\n",
       "      <td>N19900</td>\n",
       "      <td>sports</td>\n",
       "      <td>football_nfl</td>\n",
       "      <td>49ers vs. Panthers: Fantasy and betting advice...</td>\n",
       "      <td>SANTA CLARA -- The unbeaten 49ers return home ...</td>\n",
       "      <td>[{\"Label\": \"Carolina Panthers\", \"Type\": \"O\", \"...</td>\n",
       "      <td>[{\"Label\": \"San Francisco 49ers\", \"Type\": \"O\",...</td>\n",
       "    </tr>\n",
       "    <tr>\n",
       "      <th>11</th>\n",
       "      <td>U378649</td>\n",
       "      <td>N59080</td>\n",
       "      <td>sports</td>\n",
       "      <td>football_nfl</td>\n",
       "      <td>49ers analysis: What are Jimmy Garoppolo's str...</td>\n",
       "      <td>SANTA CLARA -- A funny think happened to Jimmy...</td>\n",
       "      <td>[{\"Label\": \"Jimmy Garoppolo\", \"Type\": \"P\", \"Wi...</td>\n",
       "      <td>[{\"Label\": \"Jimmy Garoppolo\", \"Type\": \"P\", \"Wi...</td>\n",
       "    </tr>\n",
       "  </tbody>\n",
       "</table>\n",
       "</div>"
      ],
      "text/plain": [
       "        UID      NID category               subcategory  \\\n",
       "0   U378649   N11793  finance         finance-companies   \n",
       "1   U378649   N61505  weather         weathertopstories   \n",
       "2   U378649   N59231  finance                   markets   \n",
       "3   U378649    N8262   sports               more_sports   \n",
       "4   U378649   N83203     news                 newsworld   \n",
       "5   U378649   N78589  finance         finance-savemoney   \n",
       "6   U378649   N15594     news  newsscienceandtechnology   \n",
       "7   U378649  N129013       tv                tv-gallery   \n",
       "8   U378649   N82792   sports              football_nfl   \n",
       "9   U378649    N4937   sports              football_nfl   \n",
       "10  U378649   N19900   sports              football_nfl   \n",
       "11  U378649   N59080   sports              football_nfl   \n",
       "\n",
       "                                                title  \\\n",
       "0   The world's only $100 billion utility owes its...   \n",
       "1   In case you missed it: Winterlike storm trigge...   \n",
       "2   Migrants Find Different Fates at Texas, Arizon...   \n",
       "3   Manatee County Army Veteran soon to be inducte...   \n",
       "4   Lebanon Uber driver gets death sentence for mu...   \n",
       "5   5 Ways to Trim the Growing Cost of Cutting the...   \n",
       "6    How to cut cable's cord and go streaming in 2019   \n",
       "7   Streaming TV Scorecard: Renewals, Cancellation...   \n",
       "8   NFL Odds: How Likely Is Dez Bryant-Patriots Pa...   \n",
       "9   Seahawks' Jadeveon Clowney named NFC Defensive...   \n",
       "10  49ers vs. Panthers: Fantasy and betting advice...   \n",
       "11  49ers analysis: What are Jimmy Garoppolo's str...   \n",
       "\n",
       "                                             abstract  \\\n",
       "0   Two decades ago, when coal ruled U.S. power ge...   \n",
       "1   Snow hasn't gotten the memo that might be a li...   \n",
       "2   Across most of the southern U.S. border, hundr...   \n",
       "3   After years of serving America, then retiring ...   \n",
       "4   A Lebanese court sentenced Uber driver Tariq H...   \n",
       "5   Streaming TV services can run you more than tr...   \n",
       "6   Dropping cable TV and watching television and ...   \n",
       "7                                                 NaN   \n",
       "8   It sounds like Dez Bryant wants to play footba...   \n",
       "9   Jadeveon Clowney's dominating performance was ...   \n",
       "10  SANTA CLARA -- The unbeaten 49ers return home ...   \n",
       "11  SANTA CLARA -- A funny think happened to Jimmy...   \n",
       "\n",
       "                                       title_entities  \\\n",
       "0                                                  []   \n",
       "1   [{\"Label\": \"United States\", \"Type\": \"G\", \"Wiki...   \n",
       "2   [{\"Label\": \"Arizona\", \"Type\": \"G\", \"WikidataId...   \n",
       "3   [{\"Label\": \"Florida\", \"Type\": \"G\", \"WikidataId...   \n",
       "4                                                  []   \n",
       "5                                                  []   \n",
       "6                                                  []   \n",
       "7   [{\"Label\": \"Streaming television\", \"Type\": \"N\"...   \n",
       "8   [{\"Label\": \"Dez Bryant\", \"Type\": \"P\", \"Wikidat...   \n",
       "9   [{\"Label\": \"Jadeveon Clowney\", \"Type\": \"P\", \"W...   \n",
       "10  [{\"Label\": \"Carolina Panthers\", \"Type\": \"O\", \"...   \n",
       "11  [{\"Label\": \"Jimmy Garoppolo\", \"Type\": \"P\", \"Wi...   \n",
       "\n",
       "                                    abstract_entities  \n",
       "0   [{\"Label\": \"Florida\", \"Type\": \"G\", \"WikidataId...  \n",
       "1   [{\"Label\": \"California\", \"Type\": \"G\", \"Wikidat...  \n",
       "2   [{\"Label\": \"Arizona\", \"Type\": \"G\", \"WikidataId...  \n",
       "3   [{\"Label\": \"Manatee County, Florida\", \"Type\": ...  \n",
       "4   [{\"Label\": \"News agency\", \"Type\": \"C\", \"Wikida...  \n",
       "5   [{\"Label\": \"Streaming television\", \"Type\": \"N\"...  \n",
       "6   [{\"Label\": \"Streaming television\", \"Type\": \"N\"...  \n",
       "7                                                  []  \n",
       "8   [{\"Label\": \"Dez Bryant\", \"Type\": \"P\", \"Wikidat...  \n",
       "9   [{\"Label\": \"Jadeveon Clowney\", \"Type\": \"P\", \"W...  \n",
       "10  [{\"Label\": \"San Francisco 49ers\", \"Type\": \"O\",...  \n",
       "11  [{\"Label\": \"Jimmy Garoppolo\", \"Type\": \"P\", \"Wi...  "
      ]
     },
     "execution_count": 16,
     "metadata": {},
     "output_type": "execute_result"
    }
   ],
   "source": [
    "UID = df_recommendation.sample().UID.values[0]\n",
    "\n",
    "df_recommendation[df_recommendation.UID==UID].merge(df_news_meta,on='NID')"
   ]
  },
  {
   "cell_type": "code",
   "execution_count": 17,
   "id": "f229db12-a03d-4a67-a0bc-263f3914a311",
   "metadata": {},
   "outputs": [
    {
     "data": {
      "text/html": [
       "<div>\n",
       "<style scoped>\n",
       "    .dataframe tbody tr th:only-of-type {\n",
       "        vertical-align: middle;\n",
       "    }\n",
       "\n",
       "    .dataframe tbody tr th {\n",
       "        vertical-align: top;\n",
       "    }\n",
       "\n",
       "    .dataframe thead th {\n",
       "        text-align: right;\n",
       "    }\n",
       "</style>\n",
       "<table border=\"1\" class=\"dataframe\">\n",
       "  <thead>\n",
       "    <tr style=\"text-align: right;\">\n",
       "      <th></th>\n",
       "      <th>UID</th>\n",
       "      <th>NID</th>\n",
       "      <th>category</th>\n",
       "      <th>subcategory</th>\n",
       "      <th>title</th>\n",
       "      <th>abstract</th>\n",
       "      <th>title_entities</th>\n",
       "      <th>abstract_entities</th>\n",
       "    </tr>\n",
       "  </thead>\n",
       "  <tbody>\n",
       "    <tr>\n",
       "      <th>0</th>\n",
       "      <td>U378649</td>\n",
       "      <td>N1396</td>\n",
       "      <td>news</td>\n",
       "      <td>newsopinion</td>\n",
       "      <td>The News In Cartoons</td>\n",
       "      <td>News as seen through the eyes of the nation's ...</td>\n",
       "      <td>[]</td>\n",
       "      <td>[]</td>\n",
       "    </tr>\n",
       "    <tr>\n",
       "      <th>1</th>\n",
       "      <td>U378649</td>\n",
       "      <td>N122729</td>\n",
       "      <td>movies</td>\n",
       "      <td>movies-celebrity</td>\n",
       "      <td>'Game of Thrones': 'Avengers' Elizabeth Olsen ...</td>\n",
       "      <td>Elizabeth Olsen said she auditioned for Khalee...</td>\n",
       "      <td>[{\"Label\": \"Elizabeth Olsen\", \"Type\": \"P\", \"Wi...</td>\n",
       "      <td>[{\"Label\": \"Elizabeth Olsen\", \"Type\": \"P\", \"Wi...</td>\n",
       "    </tr>\n",
       "    <tr>\n",
       "      <th>2</th>\n",
       "      <td>U378649</td>\n",
       "      <td>N124453</td>\n",
       "      <td>music</td>\n",
       "      <td>music-celebrity</td>\n",
       "      <td>Renowned DJ Zedd \"Permanently Banned\" From Chi...</td>\n",
       "      <td>The Comedy Central cartoon has been banned by ...</td>\n",
       "      <td>[{\"Label\": \"South Park\", \"Type\": \"W\", \"Wikidat...</td>\n",
       "      <td>[{\"Label\": \"Government of China\", \"Type\": \"O\",...</td>\n",
       "    </tr>\n",
       "    <tr>\n",
       "      <th>3</th>\n",
       "      <td>U378649</td>\n",
       "      <td>N63723</td>\n",
       "      <td>news</td>\n",
       "      <td>newsus</td>\n",
       "      <td>Texas police officer shoots woman to death ins...</td>\n",
       "      <td>A Fort Worth police officer checking out a res...</td>\n",
       "      <td>[{\"Label\": \"Texas\", \"Type\": \"G\", \"WikidataId\":...</td>\n",
       "      <td>[{\"Label\": \"Fort Worth Police Department\", \"Ty...</td>\n",
       "    </tr>\n",
       "    <tr>\n",
       "      <th>4</th>\n",
       "      <td>U378649</td>\n",
       "      <td>N116312</td>\n",
       "      <td>sports</td>\n",
       "      <td>more_sports</td>\n",
       "      <td>Patrick Day in coma after suffering brutal kno...</td>\n",
       "      <td>The junior middleweight underwent emergency br...</td>\n",
       "      <td>[]</td>\n",
       "      <td>[]</td>\n",
       "    </tr>\n",
       "    <tr>\n",
       "      <th>...</th>\n",
       "      <td>...</td>\n",
       "      <td>...</td>\n",
       "      <td>...</td>\n",
       "      <td>...</td>\n",
       "      <td>...</td>\n",
       "      <td>...</td>\n",
       "      <td>...</td>\n",
       "      <td>...</td>\n",
       "    </tr>\n",
       "    <tr>\n",
       "      <th>86</th>\n",
       "      <td>U378649</td>\n",
       "      <td>N59700</td>\n",
       "      <td>sports</td>\n",
       "      <td>football_nfl</td>\n",
       "      <td>Jimmy Garoppolo addresses Erin Andrews intervi...</td>\n",
       "      <td>NaN</td>\n",
       "      <td>[{\"Label\": \"Erin Andrews\", \"Type\": \"P\", \"Wikid...</td>\n",
       "      <td>[]</td>\n",
       "    </tr>\n",
       "    <tr>\n",
       "      <th>87</th>\n",
       "      <td>U378649</td>\n",
       "      <td>N85531</td>\n",
       "      <td>sports</td>\n",
       "      <td>football_nfl</td>\n",
       "      <td>After Thursday morning rant, Antonio Brown bac...</td>\n",
       "      <td>Brown took to social media Thursday morning wi...</td>\n",
       "      <td>[{\"Label\": \"Antonio Brown\", \"Type\": \"P\", \"Wiki...</td>\n",
       "      <td>[{\"Label\": \"Antonio Brown\", \"Type\": \"P\", \"Wiki...</td>\n",
       "    </tr>\n",
       "    <tr>\n",
       "      <th>88</th>\n",
       "      <td>U378649</td>\n",
       "      <td>N63367</td>\n",
       "      <td>sports</td>\n",
       "      <td>football_nfl</td>\n",
       "      <td>Jon Gruden falls to 0-for-7 on challenges with...</td>\n",
       "      <td>NaN</td>\n",
       "      <td>[{\"Label\": \"Jon Gruden\", \"Type\": \"P\", \"Wikidat...</td>\n",
       "      <td>[]</td>\n",
       "    </tr>\n",
       "    <tr>\n",
       "      <th>89</th>\n",
       "      <td>U378649</td>\n",
       "      <td>N66776</td>\n",
       "      <td>news</td>\n",
       "      <td>newsus</td>\n",
       "      <td>Officials responding to oil spill from cargo s...</td>\n",
       "      <td>The U.S. Coast Guard says a cargo ship has spi...</td>\n",
       "      <td>[{\"Label\": \"Hawaii\", \"Type\": \"G\", \"WikidataId\"...</td>\n",
       "      <td>[{\"Label\": \"Honolulu Harbor\", \"Type\": \"U\", \"Wi...</td>\n",
       "    </tr>\n",
       "    <tr>\n",
       "      <th>90</th>\n",
       "      <td>U378649</td>\n",
       "      <td>N123455</td>\n",
       "      <td>news</td>\n",
       "      <td>newsworld</td>\n",
       "      <td>After Mormon Family's Terror in Mexico, a Mess...</td>\n",
       "      <td>After Mormon Family's Terror in Mexico, a Mess...</td>\n",
       "      <td>[{\"Label\": \"In Mexico\", \"Type\": \"W\", \"Wikidata...</td>\n",
       "      <td>[{\"Label\": \"Mexico\", \"Type\": \"G\", \"WikidataId\"...</td>\n",
       "    </tr>\n",
       "  </tbody>\n",
       "</table>\n",
       "<p>91 rows × 8 columns</p>\n",
       "</div>"
      ],
      "text/plain": [
       "        UID      NID category       subcategory  \\\n",
       "0   U378649    N1396     news       newsopinion   \n",
       "1   U378649  N122729   movies  movies-celebrity   \n",
       "2   U378649  N124453    music   music-celebrity   \n",
       "3   U378649   N63723     news            newsus   \n",
       "4   U378649  N116312   sports       more_sports   \n",
       "..      ...      ...      ...               ...   \n",
       "86  U378649   N59700   sports      football_nfl   \n",
       "87  U378649   N85531   sports      football_nfl   \n",
       "88  U378649   N63367   sports      football_nfl   \n",
       "89  U378649   N66776     news            newsus   \n",
       "90  U378649  N123455     news         newsworld   \n",
       "\n",
       "                                                title  \\\n",
       "0                                The News In Cartoons   \n",
       "1   'Game of Thrones': 'Avengers' Elizabeth Olsen ...   \n",
       "2   Renowned DJ Zedd \"Permanently Banned\" From Chi...   \n",
       "3   Texas police officer shoots woman to death ins...   \n",
       "4   Patrick Day in coma after suffering brutal kno...   \n",
       "..                                                ...   \n",
       "86  Jimmy Garoppolo addresses Erin Andrews intervi...   \n",
       "87  After Thursday morning rant, Antonio Brown bac...   \n",
       "88  Jon Gruden falls to 0-for-7 on challenges with...   \n",
       "89  Officials responding to oil spill from cargo s...   \n",
       "90  After Mormon Family's Terror in Mexico, a Mess...   \n",
       "\n",
       "                                             abstract  \\\n",
       "0   News as seen through the eyes of the nation's ...   \n",
       "1   Elizabeth Olsen said she auditioned for Khalee...   \n",
       "2   The Comedy Central cartoon has been banned by ...   \n",
       "3   A Fort Worth police officer checking out a res...   \n",
       "4   The junior middleweight underwent emergency br...   \n",
       "..                                                ...   \n",
       "86                                                NaN   \n",
       "87  Brown took to social media Thursday morning wi...   \n",
       "88                                                NaN   \n",
       "89  The U.S. Coast Guard says a cargo ship has spi...   \n",
       "90  After Mormon Family's Terror in Mexico, a Mess...   \n",
       "\n",
       "                                       title_entities  \\\n",
       "0                                                  []   \n",
       "1   [{\"Label\": \"Elizabeth Olsen\", \"Type\": \"P\", \"Wi...   \n",
       "2   [{\"Label\": \"South Park\", \"Type\": \"W\", \"Wikidat...   \n",
       "3   [{\"Label\": \"Texas\", \"Type\": \"G\", \"WikidataId\":...   \n",
       "4                                                  []   \n",
       "..                                                ...   \n",
       "86  [{\"Label\": \"Erin Andrews\", \"Type\": \"P\", \"Wikid...   \n",
       "87  [{\"Label\": \"Antonio Brown\", \"Type\": \"P\", \"Wiki...   \n",
       "88  [{\"Label\": \"Jon Gruden\", \"Type\": \"P\", \"Wikidat...   \n",
       "89  [{\"Label\": \"Hawaii\", \"Type\": \"G\", \"WikidataId\"...   \n",
       "90  [{\"Label\": \"In Mexico\", \"Type\": \"W\", \"Wikidata...   \n",
       "\n",
       "                                    abstract_entities  \n",
       "0                                                  []  \n",
       "1   [{\"Label\": \"Elizabeth Olsen\", \"Type\": \"P\", \"Wi...  \n",
       "2   [{\"Label\": \"Government of China\", \"Type\": \"O\",...  \n",
       "3   [{\"Label\": \"Fort Worth Police Department\", \"Ty...  \n",
       "4                                                  []  \n",
       "..                                                ...  \n",
       "86                                                 []  \n",
       "87  [{\"Label\": \"Antonio Brown\", \"Type\": \"P\", \"Wiki...  \n",
       "88                                                 []  \n",
       "89  [{\"Label\": \"Honolulu Harbor\", \"Type\": \"U\", \"Wi...  \n",
       "90  [{\"Label\": \"Mexico\", \"Type\": \"G\", \"WikidataId\"...  \n",
       "\n",
       "[91 rows x 8 columns]"
      ]
     },
     "execution_count": 17,
     "metadata": {},
     "output_type": "execute_result"
    }
   ],
   "source": [
    "df_history = pd.read_csv(history)\n",
    "df_history = df_history[df_history.UID==UID].merge(df_news_meta,on='NID')\n",
    "df_history"
   ]
  },
  {
   "cell_type": "code",
   "execution_count": null,
   "id": "00826772-8ee1-4cbd-b6a4-08a4b5a1b7bd",
   "metadata": {},
   "outputs": [],
   "source": []
  }
 ],
 "metadata": {
  "kernelspec": {
   "display_name": "Python 3 (ipykernel)",
   "language": "python",
   "name": "python3"
  },
  "language_info": {
   "codemirror_mode": {
    "name": "ipython",
    "version": 3
   },
   "file_extension": ".py",
   "mimetype": "text/x-python",
   "name": "python",
   "nbconvert_exporter": "python",
   "pygments_lexer": "ipython3",
   "version": "3.8.1"
  }
 },
 "nbformat": 4,
 "nbformat_minor": 5
}
