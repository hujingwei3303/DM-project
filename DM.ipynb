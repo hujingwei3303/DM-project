{
 "cells": [
  {
   "cell_type": "markdown",
   "id": "34556c0c-be5a-4cbe-adf4-96c4b218651e",
   "metadata": {},
   "source": [
    "### Run once, to check environment"
   ]
  },
  {
   "cell_type": "code",
   "execution_count": 1,
   "id": "c56031dc-8641-47f6-a8a3-42104dc13613",
   "metadata": {},
   "outputs": [],
   "source": [
    "#!pip3 install -r requirements.txt"
   ]
  },
  {
   "cell_type": "markdown",
   "id": "ea8ede86-a368-4169-ade3-dfb91ff4e59c",
   "metadata": {},
   "source": [
    "### Download Data, put under root directory DM-project/\n",
    "\n",
    "https://msnews.github.io/behaviors"
   ]
  },
  {
   "cell_type": "markdown",
   "id": "b9a31064-6559-4603-b0bb-aca4a31c4c4a",
   "metadata": {},
   "source": [
    "### Scraper part, no need to run, just in case, can be adapted to other datasource\n",
    "   * Scraping publish time of news\n",
    "   * To run it, put 'MINDlarge_train' in the top level directory of the project, which is 'DM-project'\n",
    "   * don't submit MINDlarge_train, add it to gitignore\n",
    "   * Output filepath is 'DM-project/generate/newstimes.csv\n",
    "   * Don't forget to go back to the top level directory\n",
    "   "
   ]
  },
  {
   "cell_type": "code",
   "execution_count": 1,
   "id": "706d421a-3291-4d66-a77f-f8dc43c8fb7f",
   "metadata": {},
   "outputs": [],
   "source": [
    "#%cd scraper"
   ]
  },
  {
   "cell_type": "code",
   "execution_count": 2,
   "id": "d8d9bb16-c782-403f-954e-3185443d94d7",
   "metadata": {},
   "outputs": [],
   "source": [
    "#!scrapy crawl news"
   ]
  },
  {
   "cell_type": "code",
   "execution_count": 3,
   "id": "21ba47c4-a40e-44b9-8772-3d573f5572bb",
   "metadata": {},
   "outputs": [],
   "source": [
    "#%cd .."
   ]
  },
  {
   "cell_type": "code",
   "execution_count": 4,
   "id": "1b37462b-b9b1-4fdf-8fdc-f592c851c0a2",
   "metadata": {},
   "outputs": [],
   "source": [
    "#newsTimes = 'generate/newstimes.csv'"
   ]
  },
  {
   "cell_type": "markdown",
   "id": "1c49b89a-7e90-4275-bc65-fdb31916b79e",
   "metadata": {},
   "source": [
    "### Load Libraries"
   ]
  },
  {
   "cell_type": "code",
   "execution_count": 1,
   "id": "1bd98e02-dbeb-4a72-828a-b303d9e402fb",
   "metadata": {},
   "outputs": [],
   "source": [
    "import pandas as pd\n",
    "import numpy as np\n",
    "import matplotlib.pyplot as plt\n",
    "import sys\n",
    "import warnings\n",
    "\n",
    "if not sys.warnoptions:\n",
    "    warnings.simplefilter(\"ignore\")"
   ]
  },
  {
   "cell_type": "markdown",
   "id": "a81d754e-325f-4080-965f-69673fd1538f",
   "metadata": {},
   "source": [
    "### Preprocssing, run once"
   ]
  },
  {
   "cell_type": "code",
   "execution_count": 2,
   "id": "f6d722eb-e57b-4c47-9b51-a1e571c4a9cf",
   "metadata": {},
   "outputs": [],
   "source": [
    "#from preprocessing.preprocessing import createNews,createUsers,splitFiles,createCategoriyEmbeddingNLP"
   ]
  },
  {
   "cell_type": "code",
   "execution_count": 29,
   "id": "b23110a1-3801-4e02-a734-bbad91c6a26e",
   "metadata": {},
   "outputs": [],
   "source": [
    "#behaviors = 'MINDlarge_train/behaviors.tsv'\n",
    "news = 'MINDlarge_train/news.tsv'\n",
    "#entityEmbedding = 'MINDlarge_train/entity_embedding.vec'\n",
    "##generate news_embedding.csv, news_cleaned.csv\n",
    "#createNews(news,newsTimes,entityEmbedding)\n",
    "##generate user_history.csv, user_impression.csv\n",
    "#createUsers(behaviors)\n",
    "##split big files\n",
    "#splitFiles('generate/user_history.csv')\n",
    "#splitFiles('generate/user_impressions.csv')"
   ]
  },
  {
   "cell_type": "markdown",
   "id": "41e8e3e5-7db8-4dc8-9648-9f47bb8ce384",
   "metadata": {},
   "source": [
    "### No need to run, already generated, but in case you want to play around.\n",
    "  * generate/news_subcat_embedding_nlp.csv"
   ]
  },
  {
   "cell_type": "code",
   "execution_count": 4,
   "id": "5d1b8260-7326-41ce-ba52-191736ea920a",
   "metadata": {},
   "outputs": [],
   "source": [
    "#!pip3 install spacy"
   ]
  },
  {
   "cell_type": "code",
   "execution_count": 5,
   "id": "50bb92c7-0bec-45c0-8d90-6704f750f4eb",
   "metadata": {},
   "outputs": [],
   "source": [
    "#!python3 -m spacy download en_core_web_lg"
   ]
  },
  {
   "cell_type": "code",
   "execution_count": 6,
   "id": "af0ccbcc-e533-4a8f-8a84-14e356452779",
   "metadata": {},
   "outputs": [],
   "source": [
    "#subcategories = \"generate/news_subcategories.csv\"\n",
    "#createCategoriyEmbeddingNLP(subcategories)\""
   ]
  },
  {
   "cell_type": "code",
   "execution_count": 7,
   "id": "16a4fcae-cbae-46ef-b29b-48ea65946c5a",
   "metadata": {},
   "outputs": [],
   "source": [
    "from analysis.measurement import measurement,baselineTest,baselineTestAvg,tuningParameters\n",
    "from analysis.clustering import clusteringBatch\n",
    "from analysis.recommendation import searchKNearestNeighbors"
   ]
  },
  {
   "cell_type": "code",
   "execution_count": 19,
   "id": "bc80264f-f1a7-412b-969e-41fb50a62a75",
   "metadata": {},
   "outputs": [],
   "source": [
    "t0 = 1575586800+1000\n",
    "lam = 0.1\n",
    "threshold = 3  # Dendrogram cut level\n",
    "\n",
    "history = 'generate/user_history_mini.csv'\n",
    "impression = 'generate/user_impressions_mini.csv'"
   ]
  },
  {
   "cell_type": "markdown",
   "id": "c8cb1cc1-cccb-4258-a393-88fec756dfe4",
   "metadata": {},
   "source": [
    "### User representation\n",
    "* clusteringBatch \n",
    "     -  group user by UID\n",
    "     -  perform ward clustering on each user's reading history\n",
    "     -  sample 3 cluster according to the Importance Scores\n",
    "     -  calculate the medoid/centroid as one of representation of user's interest\n",
    "     -  calculate accepted boundary(radius) for each cluster"
   ]
  },
  {
   "cell_type": "code",
   "execution_count": 20,
   "id": "ffe45564-3a87-40b1-9ace-5d3c6a5e682e",
   "metadata": {},
   "outputs": [],
   "source": [
    "df_user_representation_medoid,df_user_representation_centroid = clusteringBatch(t0,history=history,threshold=threshold,lam=lam,with_centroid=True)"
   ]
  },
  {
   "cell_type": "markdown",
   "id": "46a3ce3c-1af1-42b0-8fbf-9b6e2e211aea",
   "metadata": {},
   "source": [
    "### Evaluation Method in the paper"
   ]
  },
  {
   "cell_type": "code",
   "execution_count": 21,
   "id": "e5237807-5b56-4189-86c2-522fe4a4a66d",
   "metadata": {},
   "outputs": [],
   "source": [
    "#evaluation relevance in paper\n",
    "#they draw in total 400 nearest sample among billons of pins, we draw k=50, in total 3*50 samples\n",
    "df_recommendation = searchKNearestNeighbors(df_user_representation_centroid,k=50) \n",
    "df_news_embeddings = pd.read_csv('generate/news_embedding.csv') \n",
    "df_recommendation = df_recommendation.merge(df_news_embeddings,on='NID')\n",
    "\n",
    "#they use 0.2 as similarity distance threshold, I use 0.3\n",
    "df_measure_recommendation = measurement(df_recommendation,impression=impression,similarity_threshold = 0.3)"
   ]
  },
  {
   "cell_type": "code",
   "execution_count": 22,
   "id": "275f75fb-1e78-4066-8866-85ca3496eee6",
   "metadata": {},
   "outputs": [
    {
     "name": "stdout",
     "output_type": "stream",
     "text": [
      "If use centroids as user representation, get relevance 0.46\n"
     ]
    }
   ],
   "source": [
    "mean_recall = df_measure_recommendation.recall.mean()\n",
    "print(\"If use centroids as user representation, get relevance %.2f\"%mean_recall)"
   ]
  },
  {
   "cell_type": "code",
   "execution_count": 23,
   "id": "bef76a96-ea6c-4913-b3e8-81b12376e53d",
   "metadata": {},
   "outputs": [],
   "source": [
    "df_recommendation = searchKNearestNeighbors(df_user_representation_medoid,k=50)\n",
    "df_news_embeddings = pd.read_csv('generate/news_embedding.csv') \n",
    "df_recommendation = df_recommendation.merge(df_news_embeddings,on='NID')\n",
    "df_measure_recommendation = measurement(df_recommendation,impression=impression,similarity_threshold = 0.3)"
   ]
  },
  {
   "cell_type": "code",
   "execution_count": 24,
   "id": "346b19ea-a48f-4445-876c-d9408163dbb0",
   "metadata": {},
   "outputs": [
    {
     "name": "stdout",
     "output_type": "stream",
     "text": [
      "If use medoids as user representation, get relevance 0.40\n"
     ]
    }
   ],
   "source": [
    "mean_recall = df_measure_recommendation.recall.mean()\n",
    "print(\"If use medoids as user representation, get relevance %.2f\"%mean_recall)"
   ]
  },
  {
   "cell_type": "code",
   "execution_count": 25,
   "id": "140c19a1",
   "metadata": {},
   "outputs": [],
   "source": [
    "df_user_representation_random,df_user_representation_latest = baselineTest(history)\n",
    "df_recommendation = searchKNearestNeighbors(df_user_representation_random,k=50)\n",
    "df_news_embeddings = pd.read_csv('generate/news_embedding.csv') \n",
    "df_recommendation = df_recommendation.merge(df_news_embeddings,on='NID')\n",
    "df_measure_recommendation = measurement(df_recommendation,impression=impression,similarity_threshold = 0.3)"
   ]
  },
  {
   "cell_type": "code",
   "execution_count": 26,
   "id": "d91e2b8c",
   "metadata": {},
   "outputs": [
    {
     "name": "stdout",
     "output_type": "stream",
     "text": [
      "If use randomly chosen articles from history list as user representation, get relevance 0.39\n"
     ]
    }
   ],
   "source": [
    "mean_recall = df_measure_recommendation.recall.mean()\n",
    "print(\"If use randomly chosen articles from history list as user representation, get relevance %.2f\"%mean_recall)"
   ]
  },
  {
   "cell_type": "markdown",
   "id": "ece30011-3b3d-4872-8eee-4726df6d5562",
   "metadata": {},
   "source": [
    "* measurement\n",
    "  - compare user representation(n by 100) with user impression(m by 100) \n",
    "  - get n by m distance matrix\n",
    "  - mask distance matrix with accepted boundary\n",
    "  - count recall for each positive impression, divide by length of impressions\n",
    "  - count hits for each representation, consider empty hits percentage.\""
   ]
  },
  {
   "cell_type": "code",
   "execution_count": 9,
   "id": "995a95aa-5899-41da-aa63-975c5f220e20",
   "metadata": {},
   "outputs": [],
   "source": [
    "df_measure_centroid = measurement(df_user_representation_centroid,impression=impression,similarity_threshold = 0.3)"
   ]
  },
  {
   "cell_type": "code",
   "execution_count": 10,
   "id": "27bd4142-07e5-4668-b98e-258c162ad463",
   "metadata": {},
   "outputs": [
    {
     "name": "stdout",
     "output_type": "stream",
     "text": [
      "If use centroids as user representation, get recall 0.24, the percentage of empty recommendation is 0.64\n"
     ]
    }
   ],
   "source": [
    "mean_recall = df_measure_centroid.recall.mean()\n",
    "empty_percent = df_measure_centroid.percent_empty.mean()\n",
    "print(\"If use centroids as user representation, get recall %.2f, the percentage of empty recommendation is %.2f\"%(mean_recall,empty_percent))"
   ]
  },
  {
   "cell_type": "code",
   "execution_count": 11,
   "id": "c0740245-944d-4415-bb97-dce858ae7a15",
   "metadata": {},
   "outputs": [],
   "source": [
    "df_measure_medoid = measurement(df_user_representation_medoid,impression=impression,similarity_threshold=0.3)"
   ]
  },
  {
   "cell_type": "code",
   "execution_count": 12,
   "id": "ca73894c-5ed9-4b4a-9c13-cdaef666e9c9",
   "metadata": {},
   "outputs": [
    {
     "name": "stdout",
     "output_type": "stream",
     "text": [
      "If use medoids as user representation, get recall 0.20, the percentage of empty recommendation is 0.69\n"
     ]
    }
   ],
   "source": [
    "mean_recall = df_measure_medoid.recall.mean()\n",
    "empty_percent = df_measure_medoid.percent_empty.mean()\n",
    "print(\"If use medoids as user representation, get recall %.2f, the percentage of empty recommendation is %.2f\"%(mean_recall,empty_percent))"
   ]
  },
  {
   "cell_type": "markdown",
   "id": "55f3b9de-1b31-49ce-88e4-59dfca656ad2",
   "metadata": {},
   "source": [
    "### Baseline Test\n",
    "   * randomly draw 3 news from history\n",
    "   * pick the latest 3 news from history"
   ]
  },
  {
   "cell_type": "code",
   "execution_count": 29,
   "id": "48d6af6a-66e1-42d2-ad14-171c5b24fb96",
   "metadata": {},
   "outputs": [],
   "source": [
    "df_user_representation_random,df_user_representation_latest = baselineTest(history)"
   ]
  },
  {
   "cell_type": "code",
   "execution_count": 30,
   "id": "fa57986e-ffc1-47b8-b777-c9ac930bbdba",
   "metadata": {},
   "outputs": [],
   "source": [
    "df_measure_random = measurement(df_user_representation_random,impression=impression,similarity_threshold=0.3)"
   ]
  },
  {
   "cell_type": "code",
   "execution_count": 31,
   "id": "bfeac21f-60dd-4e47-b7e8-51942744e545",
   "metadata": {},
   "outputs": [
    {
     "name": "stdout",
     "output_type": "stream",
     "text": [
      "If randomly draw 3 samples, get recall 0.19, the percentage of empty recommendation is 0.68\n"
     ]
    }
   ],
   "source": [
    "mean_recall = df_measure_random.recall.mean()\n",
    "empty_percent = df_measure_random.percent_empty.mean()\n",
    "print(\"If randomly draw 3 samples, get recall %.2f, the percentage of empty recommendation is %.2f\"%(mean_recall,empty_percent))"
   ]
  },
  {
   "cell_type": "code",
   "execution_count": 33,
   "id": "ab959bb4-2e99-4e70-b9ec-acf23084aa0e",
   "metadata": {},
   "outputs": [],
   "source": [
    "df_measure_lastest = measurement(df_user_representation_latest,impression=impression,similarity_threshold=0.3)"
   ]
  },
  {
   "cell_type": "code",
   "execution_count": 34,
   "id": "6b437b1b-acc7-472c-a066-8ed889624e4b",
   "metadata": {},
   "outputs": [
    {
     "name": "stdout",
     "output_type": "stream",
     "text": [
      "If draw 3 latests samples, get recall 0.10, the percentage of empty recommendation is 0.87\n"
     ]
    }
   ],
   "source": [
    "mean_recall = df_measure_lastest.recall.mean()\n",
    "empty_percent = df_measure_lastest.percent_empty.mean()\n",
    "print(\"If draw 3 latests samples, get recall %.2f, the percentage of empty recommendation is %.2f\"%(mean_recall,empty_percent))"
   ]
  },
  {
   "cell_type": "code",
   "execution_count": 34,
   "id": "ee41a34e-1a8d-4b53-a0dc-4ed6aaa062a2",
   "metadata": {},
   "outputs": [],
   "source": [
    "df_user_represent_avg = baselineTestAvg(history)"
   ]
  },
  {
   "cell_type": "code",
   "execution_count": 35,
   "id": "16cf9e4f-2f08-4f8f-94b2-2636033167d8",
   "metadata": {},
   "outputs": [],
   "source": [
    "df_measure_avg = measurement(df_user_represent_avg,impression=impression,similarity_threshold=0.3)"
   ]
  },
  {
   "cell_type": "code",
   "execution_count": 36,
   "id": "e9c2addb-1550-4158-bdc7-5efa1b2bbb4c",
   "metadata": {},
   "outputs": [
    {
     "name": "stdout",
     "output_type": "stream",
     "text": [
      "If use mean of user history as representation, get recall 0.29, the percentage of empty recommendation is 0.04\n"
     ]
    }
   ],
   "source": [
    "mean_recall = df_measure_avg.recall.mean()\n",
    "empty_percent = df_measure_avg.percent_empty.mean()\n",
    "print(\"If use mean of user history as representation, get recall %.2f, the percentage of empty recommendation is %.2f\"%(mean_recall,empty_percent))"
   ]
  },
  {
   "cell_type": "markdown",
   "id": "05863415-578c-4f47-ab38-23ad3c84dbdf",
   "metadata": {},
   "source": [
    "### Parameter tuning\n",
    "* $\\lambda$ for importance score\n",
    "* threshold for ward clustering\n",
    "* measureed by recall and hits"
   ]
  },
  {
   "cell_type": "code",
   "execution_count": null,
   "id": "e91debb5-2079-4dcd-b6d6-cf0b8c6cfcdf",
   "metadata": {},
   "outputs": [],
   "source": [
    "lams = [1e-5, 1e-4, 1e-3, 1e-2, 1e-1, 1]\n",
    "thresholds = [0.75] # [0.5, 0.75, 0.85, 1.0, 1.25, 1.50, 2.0, 3.0, 4.0, 5.0]\n",
    "similarity_thresholds = [0.3] # [0.1, 0.2, 0.3, 0.4, 0.5, 0.6, 0.7, 0.8, 0.9, 1.0]\n",
    "df_tuning_result = tuningParameters(\"1\",lams,thresholds,similarity_thresholds)"
   ]
  },
  {
   "cell_type": "code",
   "execution_count": 54,
   "id": "69a83154-5e05-48e7-8925-d41ff077ce5c",
   "metadata": {},
   "outputs": [
    {
     "data": {
      "text/html": [
       "<div>\n",
       "<style scoped>\n",
       "    .dataframe tbody tr th:only-of-type {\n",
       "        vertical-align: middle;\n",
       "    }\n",
       "\n",
       "    .dataframe tbody tr th {\n",
       "        vertical-align: top;\n",
       "    }\n",
       "\n",
       "    .dataframe thead th {\n",
       "        text-align: right;\n",
       "    }\n",
       "</style>\n",
       "<table border=\"1\" class=\"dataframe\">\n",
       "  <thead>\n",
       "    <tr style=\"text-align: right;\">\n",
       "      <th></th>\n",
       "      <th>Threshold</th>\n",
       "      <th>Lambda</th>\n",
       "      <th>Similarity</th>\n",
       "      <th>Medoid Recall</th>\n",
       "      <th>Empty medoids</th>\n",
       "      <th>Medoids per user</th>\n",
       "      <th>Centroid Recall</th>\n",
       "      <th>Empty centroids</th>\n",
       "      <th>Centroids per user</th>\n",
       "    </tr>\n",
       "  </thead>\n",
       "  <tbody>\n",
       "    <tr>\n",
       "      <th>0</th>\n",
       "      <td>0.75</td>\n",
       "      <td>0.00001</td>\n",
       "      <td>0.3</td>\n",
       "      <td>0.212942</td>\n",
       "      <td>0.647940</td>\n",
       "      <td>3.0</td>\n",
       "      <td>0.230337</td>\n",
       "      <td>0.629213</td>\n",
       "      <td>3.0</td>\n",
       "    </tr>\n",
       "    <tr>\n",
       "      <th>1</th>\n",
       "      <td>0.75</td>\n",
       "      <td>0.00010</td>\n",
       "      <td>0.3</td>\n",
       "      <td>0.206902</td>\n",
       "      <td>0.696629</td>\n",
       "      <td>3.0</td>\n",
       "      <td>0.213490</td>\n",
       "      <td>0.685393</td>\n",
       "      <td>3.0</td>\n",
       "    </tr>\n",
       "    <tr>\n",
       "      <th>2</th>\n",
       "      <td>0.75</td>\n",
       "      <td>0.00100</td>\n",
       "      <td>0.3</td>\n",
       "      <td>0.189407</td>\n",
       "      <td>0.674157</td>\n",
       "      <td>3.0</td>\n",
       "      <td>0.202158</td>\n",
       "      <td>0.666667</td>\n",
       "      <td>3.0</td>\n",
       "    </tr>\n",
       "    <tr>\n",
       "      <th>3</th>\n",
       "      <td>0.75</td>\n",
       "      <td>0.01000</td>\n",
       "      <td>0.3</td>\n",
       "      <td>0.176378</td>\n",
       "      <td>0.700375</td>\n",
       "      <td>3.0</td>\n",
       "      <td>0.186998</td>\n",
       "      <td>0.692884</td>\n",
       "      <td>3.0</td>\n",
       "    </tr>\n",
       "    <tr>\n",
       "      <th>4</th>\n",
       "      <td>0.75</td>\n",
       "      <td>0.10000</td>\n",
       "      <td>0.3</td>\n",
       "      <td>0.188257</td>\n",
       "      <td>0.722846</td>\n",
       "      <td>3.0</td>\n",
       "      <td>0.203780</td>\n",
       "      <td>0.700375</td>\n",
       "      <td>3.0</td>\n",
       "    </tr>\n",
       "    <tr>\n",
       "      <th>5</th>\n",
       "      <td>0.75</td>\n",
       "      <td>1.00000</td>\n",
       "      <td>0.3</td>\n",
       "      <td>0.209362</td>\n",
       "      <td>0.670412</td>\n",
       "      <td>3.0</td>\n",
       "      <td>0.232327</td>\n",
       "      <td>0.640449</td>\n",
       "      <td>3.0</td>\n",
       "    </tr>\n",
       "  </tbody>\n",
       "</table>\n",
       "</div>"
      ],
      "text/plain": [
       "   Threshold   Lambda  Similarity  Medoid Recall  Empty medoids  \\\n",
       "0       0.75  0.00001         0.3       0.212942       0.647940   \n",
       "1       0.75  0.00010         0.3       0.206902       0.696629   \n",
       "2       0.75  0.00100         0.3       0.189407       0.674157   \n",
       "3       0.75  0.01000         0.3       0.176378       0.700375   \n",
       "4       0.75  0.10000         0.3       0.188257       0.722846   \n",
       "5       0.75  1.00000         0.3       0.209362       0.670412   \n",
       "\n",
       "   Medoids per user  Centroid Recall  Empty centroids  Centroids per user  \n",
       "0               3.0         0.230337         0.629213                 3.0  \n",
       "1               3.0         0.213490         0.685393                 3.0  \n",
       "2               3.0         0.202158         0.666667                 3.0  \n",
       "3               3.0         0.186998         0.692884                 3.0  \n",
       "4               3.0         0.203780         0.700375                 3.0  \n",
       "5               3.0         0.232327         0.640449                 3.0  "
      ]
     },
     "execution_count": 54,
     "metadata": {},
     "output_type": "execute_result"
    }
   ],
   "source": [
    "df_tuning_result"
   ]
  },
  {
   "cell_type": "code",
   "execution_count": 56,
   "id": "1bf34045-dc57-4fd3-8df3-72476638b2c0",
   "metadata": {},
   "outputs": [],
   "source": [
    "df_tuning_result.to_csv(\"generate/lambda_tuning_1_th0.75_sim0.3.csv\",index=False)"
   ]
  },
  {
   "cell_type": "markdown",
   "id": "5a5ce164-608a-4fa0-9d99-626f471d2616",
   "metadata": {},
   "source": [
    "### Recommendation System--Hierarchical Navigable Small World\n",
    "* 89222 elements in space, with 100 dimensions.\n",
    "* Search 4 nearest neighbor for each item of user representation"
   ]
  },
  {
   "cell_type": "code",
   "execution_count": 27,
   "id": "1988067a-708a-4ed1-a342-19c05c3cd2de",
   "metadata": {},
   "outputs": [
    {
     "name": "stdout",
     "output_type": "stream",
     "text": [
      "Time cost 0.40071307099992737 s\n"
     ]
    }
   ],
   "source": [
    "import time\n",
    "\n",
    "t_before = time.perf_counter()\n",
    "df_recommendation = searchKNearestNeighbors(df_user_representation_centroid,k=50)\n",
    "print(f'Time cost {time.perf_counter()-t_before} s')"
   ]
  },
  {
   "cell_type": "code",
   "execution_count": 30,
   "id": "97449e70-1dae-4500-91da-41815042859f",
   "metadata": {},
   "outputs": [],
   "source": [
    "df_news_meta = pd.read_csv(news,sep='\\t',header=None)\n",
    "df_news_meta.rename(columns={0:'NID',1:'category',2:'subcategory',3:'title',4:'abstract',6:'title_entities',7:'abstract_entities'},inplace=True)\n",
    "df_news_meta = df_news_meta[['NID','category','subcategory','title','abstract','title_entities','abstract_entities']]\n",
    "  "
   ]
  },
  {
   "cell_type": "code",
   "execution_count": 32,
   "id": "6ec3738b-356a-49f1-b87a-39070b8707a2",
   "metadata": {},
   "outputs": [
    {
     "name": "stdout",
     "output_type": "stream",
     "text": [
      "Recommendation!\n"
     ]
    },
    {
     "data": {
      "text/html": [
       "<div>\n",
       "<style scoped>\n",
       "    .dataframe tbody tr th:only-of-type {\n",
       "        vertical-align: middle;\n",
       "    }\n",
       "\n",
       "    .dataframe tbody tr th {\n",
       "        vertical-align: top;\n",
       "    }\n",
       "\n",
       "    .dataframe thead th {\n",
       "        text-align: right;\n",
       "    }\n",
       "</style>\n",
       "<table border=\"1\" class=\"dataframe\">\n",
       "  <thead>\n",
       "    <tr style=\"text-align: right;\">\n",
       "      <th></th>\n",
       "      <th>UID</th>\n",
       "      <th>NID</th>\n",
       "      <th>category</th>\n",
       "      <th>subcategory</th>\n",
       "      <th>title</th>\n",
       "      <th>abstract</th>\n",
       "      <th>title_entities</th>\n",
       "      <th>abstract_entities</th>\n",
       "    </tr>\n",
       "  </thead>\n",
       "  <tbody>\n",
       "    <tr>\n",
       "      <th>0</th>\n",
       "      <td>U672445</td>\n",
       "      <td>N58030</td>\n",
       "      <td>news</td>\n",
       "      <td>newspolitics</td>\n",
       "      <td>Bay Briefing: Why do presidential candidates s...</td>\n",
       "      <td>Good morning, Bay Area. It's Thursday, Nov. 14...</td>\n",
       "      <td>[{\"Label\": \"California\", \"Type\": \"G\", \"Wikidat...</td>\n",
       "      <td>[{\"Label\": \"1978 California Proposition 13\", \"...</td>\n",
       "    </tr>\n",
       "    <tr>\n",
       "      <th>1</th>\n",
       "      <td>U672445</td>\n",
       "      <td>N7898</td>\n",
       "      <td>news</td>\n",
       "      <td>newscrime</td>\n",
       "      <td>FBI hopes sketch will help ID New Orleans vict...</td>\n",
       "      <td>New details have been released about a woman w...</td>\n",
       "      <td>[{\"Label\": \"Federal Bureau of Investigation\", ...</td>\n",
       "      <td>[{\"Label\": \"Federal Bureau of Investigation\", ...</td>\n",
       "    </tr>\n",
       "    <tr>\n",
       "      <th>2</th>\n",
       "      <td>U672445</td>\n",
       "      <td>N118762</td>\n",
       "      <td>finance</td>\n",
       "      <td>finance-real-estate</td>\n",
       "      <td>America's cheapest cities where everyone wants...</td>\n",
       "      <td>Cities like New York, San Francisco, and Washi...</td>\n",
       "      <td>[{\"Label\": \"United States\", \"Type\": \"G\", \"Wiki...</td>\n",
       "      <td>[{\"Label\": \"Washington, D.C.\", \"Type\": \"G\", \"W...</td>\n",
       "    </tr>\n",
       "    <tr>\n",
       "      <th>3</th>\n",
       "      <td>U672445</td>\n",
       "      <td>N95981</td>\n",
       "      <td>weather</td>\n",
       "      <td>weathertopstories</td>\n",
       "      <td>Snow powders U.S. as temperatures plunge and w...</td>\n",
       "      <td>Winter returned with a vengeance across the U....</td>\n",
       "      <td>[{\"Label\": \"United States\", \"Type\": \"G\", \"Wiki...</td>\n",
       "      <td>[{\"Label\": \"Chicago\", \"Type\": \"G\", \"WikidataId...</td>\n",
       "    </tr>\n",
       "    <tr>\n",
       "      <th>4</th>\n",
       "      <td>U672445</td>\n",
       "      <td>N117353</td>\n",
       "      <td>news</td>\n",
       "      <td>newsworld</td>\n",
       "      <td>Family thinks relative may be victim of serial...</td>\n",
       "      <td>The most prolific serial killer in U.S. histor...</td>\n",
       "      <td>[]</td>\n",
       "      <td>[{\"Label\": \"New Orleans\", \"Type\": \"G\", \"Wikida...</td>\n",
       "    </tr>\n",
       "    <tr>\n",
       "      <th>...</th>\n",
       "      <td>...</td>\n",
       "      <td>...</td>\n",
       "      <td>...</td>\n",
       "      <td>...</td>\n",
       "      <td>...</td>\n",
       "      <td>...</td>\n",
       "      <td>...</td>\n",
       "      <td>...</td>\n",
       "    </tr>\n",
       "    <tr>\n",
       "      <th>95</th>\n",
       "      <td>U672445</td>\n",
       "      <td>N29741</td>\n",
       "      <td>sports</td>\n",
       "      <td>baseball_mlb</td>\n",
       "      <td>MLB rumors: Who's competing with Yankees, Phil...</td>\n",
       "      <td>The MLB GM Meetings begin Monday in Scottsdale...</td>\n",
       "      <td>[{\"Label\": \"Gerrit Cole\", \"Type\": \"P\", \"Wikida...</td>\n",
       "      <td>[{\"Label\": \"Gerrit Cole\", \"Type\": \"P\", \"Wikida...</td>\n",
       "    </tr>\n",
       "    <tr>\n",
       "      <th>96</th>\n",
       "      <td>U672445</td>\n",
       "      <td>N64749</td>\n",
       "      <td>sports</td>\n",
       "      <td>baseball_mlb</td>\n",
       "      <td>Tigers' local TV ratings decline again in 2019</td>\n",
       "      <td>The Detroit Tigers' local television ratings, ...</td>\n",
       "      <td>[{\"Label\": \"Detroit Tigers\", \"Type\": \"O\", \"Wik...</td>\n",
       "      <td>[{\"Label\": \"Detroit Tigers\", \"Type\": \"O\", \"Wik...</td>\n",
       "    </tr>\n",
       "    <tr>\n",
       "      <th>97</th>\n",
       "      <td>U672445</td>\n",
       "      <td>N17907</td>\n",
       "      <td>sports</td>\n",
       "      <td>baseball_mlb</td>\n",
       "      <td>Odorizzi, Abreu accept $17.8M offers to stay w...</td>\n",
       "      <td>SCOTTSDALE, Ariz. (AP)   Pitcher Jake Odorizzi...</td>\n",
       "      <td>[{\"Label\": \"Jake Odorizzi\", \"Type\": \"P\", \"Wiki...</td>\n",
       "      <td>[{\"Label\": \"Jake Odorizzi\", \"Type\": \"P\", \"Wiki...</td>\n",
       "    </tr>\n",
       "    <tr>\n",
       "      <th>98</th>\n",
       "      <td>U672445</td>\n",
       "      <td>N83488</td>\n",
       "      <td>news</td>\n",
       "      <td>newspolitics</td>\n",
       "      <td>President Trump to speak at international poli...</td>\n",
       "      <td>President Donald Trump, who will be in Chicago...</td>\n",
       "      <td>[{\"Label\": \"Chicago\", \"Type\": \"G\", \"WikidataId...</td>\n",
       "      <td>[{\"Label\": \"International Association of Chief...</td>\n",
       "    </tr>\n",
       "    <tr>\n",
       "      <th>99</th>\n",
       "      <td>U672445</td>\n",
       "      <td>N130312</td>\n",
       "      <td>news</td>\n",
       "      <td>newspolitics</td>\n",
       "      <td>Trump's sports kick is about politics, but fan...</td>\n",
       "      <td>President Donald Trump welcomed the Washington...</td>\n",
       "      <td>[{\"Label\": \"Donald Trump\", \"Type\": \"P\", \"Wikid...</td>\n",
       "      <td>[{\"Label\": \"South Lawn (White House)\", \"Type\":...</td>\n",
       "    </tr>\n",
       "  </tbody>\n",
       "</table>\n",
       "<p>100 rows × 8 columns</p>\n",
       "</div>"
      ],
      "text/plain": [
       "        UID      NID category          subcategory  \\\n",
       "0   U672445   N58030     news         newspolitics   \n",
       "1   U672445    N7898     news            newscrime   \n",
       "2   U672445  N118762  finance  finance-real-estate   \n",
       "3   U672445   N95981  weather    weathertopstories   \n",
       "4   U672445  N117353     news            newsworld   \n",
       "..      ...      ...      ...                  ...   \n",
       "95  U672445   N29741   sports         baseball_mlb   \n",
       "96  U672445   N64749   sports         baseball_mlb   \n",
       "97  U672445   N17907   sports         baseball_mlb   \n",
       "98  U672445   N83488     news         newspolitics   \n",
       "99  U672445  N130312     news         newspolitics   \n",
       "\n",
       "                                                title  \\\n",
       "0   Bay Briefing: Why do presidential candidates s...   \n",
       "1   FBI hopes sketch will help ID New Orleans vict...   \n",
       "2   America's cheapest cities where everyone wants...   \n",
       "3   Snow powders U.S. as temperatures plunge and w...   \n",
       "4   Family thinks relative may be victim of serial...   \n",
       "..                                                ...   \n",
       "95  MLB rumors: Who's competing with Yankees, Phil...   \n",
       "96     Tigers' local TV ratings decline again in 2019   \n",
       "97  Odorizzi, Abreu accept $17.8M offers to stay w...   \n",
       "98  President Trump to speak at international poli...   \n",
       "99  Trump's sports kick is about politics, but fan...   \n",
       "\n",
       "                                             abstract  \\\n",
       "0   Good morning, Bay Area. It's Thursday, Nov. 14...   \n",
       "1   New details have been released about a woman w...   \n",
       "2   Cities like New York, San Francisco, and Washi...   \n",
       "3   Winter returned with a vengeance across the U....   \n",
       "4   The most prolific serial killer in U.S. histor...   \n",
       "..                                                ...   \n",
       "95  The MLB GM Meetings begin Monday in Scottsdale...   \n",
       "96  The Detroit Tigers' local television ratings, ...   \n",
       "97  SCOTTSDALE, Ariz. (AP)   Pitcher Jake Odorizzi...   \n",
       "98  President Donald Trump, who will be in Chicago...   \n",
       "99  President Donald Trump welcomed the Washington...   \n",
       "\n",
       "                                       title_entities  \\\n",
       "0   [{\"Label\": \"California\", \"Type\": \"G\", \"Wikidat...   \n",
       "1   [{\"Label\": \"Federal Bureau of Investigation\", ...   \n",
       "2   [{\"Label\": \"United States\", \"Type\": \"G\", \"Wiki...   \n",
       "3   [{\"Label\": \"United States\", \"Type\": \"G\", \"Wiki...   \n",
       "4                                                  []   \n",
       "..                                                ...   \n",
       "95  [{\"Label\": \"Gerrit Cole\", \"Type\": \"P\", \"Wikida...   \n",
       "96  [{\"Label\": \"Detroit Tigers\", \"Type\": \"O\", \"Wik...   \n",
       "97  [{\"Label\": \"Jake Odorizzi\", \"Type\": \"P\", \"Wiki...   \n",
       "98  [{\"Label\": \"Chicago\", \"Type\": \"G\", \"WikidataId...   \n",
       "99  [{\"Label\": \"Donald Trump\", \"Type\": \"P\", \"Wikid...   \n",
       "\n",
       "                                    abstract_entities  \n",
       "0   [{\"Label\": \"1978 California Proposition 13\", \"...  \n",
       "1   [{\"Label\": \"Federal Bureau of Investigation\", ...  \n",
       "2   [{\"Label\": \"Washington, D.C.\", \"Type\": \"G\", \"W...  \n",
       "3   [{\"Label\": \"Chicago\", \"Type\": \"G\", \"WikidataId...  \n",
       "4   [{\"Label\": \"New Orleans\", \"Type\": \"G\", \"Wikida...  \n",
       "..                                                ...  \n",
       "95  [{\"Label\": \"Gerrit Cole\", \"Type\": \"P\", \"Wikida...  \n",
       "96  [{\"Label\": \"Detroit Tigers\", \"Type\": \"O\", \"Wik...  \n",
       "97  [{\"Label\": \"Jake Odorizzi\", \"Type\": \"P\", \"Wiki...  \n",
       "98  [{\"Label\": \"International Association of Chief...  \n",
       "99  [{\"Label\": \"South Lawn (White House)\", \"Type\":...  \n",
       "\n",
       "[100 rows x 8 columns]"
      ]
     },
     "execution_count": 32,
     "metadata": {},
     "output_type": "execute_result"
    }
   ],
   "source": [
    "UID = df_recommendation.sample().UID.values[0]\n",
    "print('Recommendation!')\n",
    "df_recommendation[df_recommendation.UID==UID].merge(df_news_meta,on='NID')"
   ]
  },
  {
   "cell_type": "code",
   "execution_count": 33,
   "id": "f229db12-a03d-4a67-a0bc-263f3914a311",
   "metadata": {},
   "outputs": [
    {
     "name": "stdout",
     "output_type": "stream",
     "text": [
      "History!\n"
     ]
    },
    {
     "data": {
      "text/html": [
       "<div>\n",
       "<style scoped>\n",
       "    .dataframe tbody tr th:only-of-type {\n",
       "        vertical-align: middle;\n",
       "    }\n",
       "\n",
       "    .dataframe tbody tr th {\n",
       "        vertical-align: top;\n",
       "    }\n",
       "\n",
       "    .dataframe thead th {\n",
       "        text-align: right;\n",
       "    }\n",
       "</style>\n",
       "<table border=\"1\" class=\"dataframe\">\n",
       "  <thead>\n",
       "    <tr style=\"text-align: right;\">\n",
       "      <th></th>\n",
       "      <th>UID</th>\n",
       "      <th>NID</th>\n",
       "      <th>category</th>\n",
       "      <th>subcategory</th>\n",
       "      <th>title</th>\n",
       "      <th>abstract</th>\n",
       "      <th>title_entities</th>\n",
       "      <th>abstract_entities</th>\n",
       "    </tr>\n",
       "  </thead>\n",
       "  <tbody>\n",
       "    <tr>\n",
       "      <th>0</th>\n",
       "      <td>U672445</td>\n",
       "      <td>N61252</td>\n",
       "      <td>news</td>\n",
       "      <td>newspolitics</td>\n",
       "      <td>Klobuchar, Booker rule out recusing themselves...</td>\n",
       "      <td>Senate Dems who are running for the party's 20...</td>\n",
       "      <td>[{\"Label\": \"Amy Klobuchar\", \"Type\": \"P\", \"Wiki...</td>\n",
       "      <td>[{\"Label\": \"Donald Trump\", \"Type\": \"P\", \"Wikid...</td>\n",
       "    </tr>\n",
       "    <tr>\n",
       "      <th>1</th>\n",
       "      <td>U672445</td>\n",
       "      <td>N107254</td>\n",
       "      <td>sports</td>\n",
       "      <td>baseball_mlb</td>\n",
       "      <td>ALCS preview: Astros vs. Yankees is the marque...</td>\n",
       "      <td>This is the series America has been waiting fo...</td>\n",
       "      <td>[{\"Label\": \"Houston Astros\", \"Type\": \"O\", \"Wik...</td>\n",
       "      <td>[{\"Label\": \"Houston Astros\", \"Type\": \"O\", \"Wik...</td>\n",
       "    </tr>\n",
       "    <tr>\n",
       "      <th>2</th>\n",
       "      <td>U672445</td>\n",
       "      <td>N7769</td>\n",
       "      <td>news</td>\n",
       "      <td>newsworld</td>\n",
       "      <td>ISIS Rears Its Head, Adding to Chaos as Turkey...</td>\n",
       "      <td>The Turkish invasion of Kurdish-held territory...</td>\n",
       "      <td>[]</td>\n",
       "      <td>[{\"Label\": \"Rojava\", \"Type\": \"N\", \"WikidataId\"...</td>\n",
       "    </tr>\n",
       "    <tr>\n",
       "      <th>3</th>\n",
       "      <td>U672445</td>\n",
       "      <td>N84419</td>\n",
       "      <td>news</td>\n",
       "      <td>newspolitics</td>\n",
       "      <td>Trump says he's replacing McAleenan as acting ...</td>\n",
       "      <td>McAleenan had been frustrated with a cadre of ...</td>\n",
       "      <td>[{\"Label\": \"Kevin McAleenan\", \"Type\": \"P\", \"Wi...</td>\n",
       "      <td>[{\"Label\": \"Kevin McAleenan\", \"Type\": \"P\", \"Wi...</td>\n",
       "    </tr>\n",
       "    <tr>\n",
       "      <th>4</th>\n",
       "      <td>U672445</td>\n",
       "      <td>N27258</td>\n",
       "      <td>news</td>\n",
       "      <td>newspolitics</td>\n",
       "      <td>Kamala Harris to Trump Jr: 'You wouldn't know ...</td>\n",
       "      <td>The 2020 democratic hopeful was responding to ...</td>\n",
       "      <td>[{\"Label\": \"Kamala Harris\", \"Type\": \"P\", \"Wiki...</td>\n",
       "      <td>[{\"Label\": \"Hillary Clinton\", \"Type\": \"P\", \"Wi...</td>\n",
       "    </tr>\n",
       "    <tr>\n",
       "      <th>...</th>\n",
       "      <td>...</td>\n",
       "      <td>...</td>\n",
       "      <td>...</td>\n",
       "      <td>...</td>\n",
       "      <td>...</td>\n",
       "      <td>...</td>\n",
       "      <td>...</td>\n",
       "      <td>...</td>\n",
       "    </tr>\n",
       "    <tr>\n",
       "      <th>220</th>\n",
       "      <td>U672445</td>\n",
       "      <td>N20241</td>\n",
       "      <td>sports</td>\n",
       "      <td>baseball_mlb</td>\n",
       "      <td>Why the Phillies are in for another busy hot s...</td>\n",
       "      <td>The Phillies have a new manager, now they need...</td>\n",
       "      <td>[{\"Label\": \"Philadelphia Phillies\", \"Type\": \"O...</td>\n",
       "      <td>[{\"Label\": \"Philadelphia Phillies\", \"Type\": \"O...</td>\n",
       "    </tr>\n",
       "    <tr>\n",
       "      <th>221</th>\n",
       "      <td>U672445</td>\n",
       "      <td>N78696</td>\n",
       "      <td>news</td>\n",
       "      <td>newsus</td>\n",
       "      <td>Judge strikes down new Trump rule on religious...</td>\n",
       "      <td>NEW YORK (AP)   A federal judge on Wednesday s...</td>\n",
       "      <td>[{\"Label\": \"Donald Trump\", \"Type\": \"P\", \"Wikid...</td>\n",
       "      <td>[{\"Label\": \"United States Department of Health...</td>\n",
       "    </tr>\n",
       "    <tr>\n",
       "      <th>222</th>\n",
       "      <td>U672445</td>\n",
       "      <td>N16492</td>\n",
       "      <td>foodanddrink</td>\n",
       "      <td>newstrends</td>\n",
       "      <td>New York City Has One of America's Best All-Yo...</td>\n",
       "      <td>If you feel the indulgence of an all-you-can-e...</td>\n",
       "      <td>[{\"Label\": \"New York City\", \"Type\": \"G\", \"Wiki...</td>\n",
       "      <td>[{\"Label\": \"Churrascaria\", \"Type\": \"C\", \"Wikid...</td>\n",
       "    </tr>\n",
       "    <tr>\n",
       "      <th>223</th>\n",
       "      <td>U672445</td>\n",
       "      <td>N73329</td>\n",
       "      <td>news</td>\n",
       "      <td>newsus</td>\n",
       "      <td>Mayor De Blasio Defends Giving Freed Prison In...</td>\n",
       "      <td>The incentive program would give accused crimi...</td>\n",
       "      <td>[{\"Label\": \"Bill de Blasio\", \"Type\": \"P\", \"Wik...</td>\n",
       "      <td>[{\"Label\": \"New York Mets\", \"Type\": \"O\", \"Wiki...</td>\n",
       "    </tr>\n",
       "    <tr>\n",
       "      <th>224</th>\n",
       "      <td>U672445</td>\n",
       "      <td>N125086</td>\n",
       "      <td>sports</td>\n",
       "      <td>baseball_mlb</td>\n",
       "      <td>Report: MLBPA investigating comment made by Al...</td>\n",
       "      <td>The MLBPA released a statement on Wednesday sa...</td>\n",
       "      <td>[{\"Label\": \"Alex Anthopoulos\", \"Type\": \"P\", \"W...</td>\n",
       "      <td>[{\"Label\": \"Alex Anthopoulos\", \"Type\": \"P\", \"W...</td>\n",
       "    </tr>\n",
       "  </tbody>\n",
       "</table>\n",
       "<p>225 rows × 8 columns</p>\n",
       "</div>"
      ],
      "text/plain": [
       "         UID      NID      category   subcategory  \\\n",
       "0    U672445   N61252          news  newspolitics   \n",
       "1    U672445  N107254        sports  baseball_mlb   \n",
       "2    U672445    N7769          news     newsworld   \n",
       "3    U672445   N84419          news  newspolitics   \n",
       "4    U672445   N27258          news  newspolitics   \n",
       "..       ...      ...           ...           ...   \n",
       "220  U672445   N20241        sports  baseball_mlb   \n",
       "221  U672445   N78696          news        newsus   \n",
       "222  U672445   N16492  foodanddrink    newstrends   \n",
       "223  U672445   N73329          news        newsus   \n",
       "224  U672445  N125086        sports  baseball_mlb   \n",
       "\n",
       "                                                 title  \\\n",
       "0    Klobuchar, Booker rule out recusing themselves...   \n",
       "1    ALCS preview: Astros vs. Yankees is the marque...   \n",
       "2    ISIS Rears Its Head, Adding to Chaos as Turkey...   \n",
       "3    Trump says he's replacing McAleenan as acting ...   \n",
       "4    Kamala Harris to Trump Jr: 'You wouldn't know ...   \n",
       "..                                                 ...   \n",
       "220  Why the Phillies are in for another busy hot s...   \n",
       "221  Judge strikes down new Trump rule on religious...   \n",
       "222  New York City Has One of America's Best All-Yo...   \n",
       "223  Mayor De Blasio Defends Giving Freed Prison In...   \n",
       "224  Report: MLBPA investigating comment made by Al...   \n",
       "\n",
       "                                              abstract  \\\n",
       "0    Senate Dems who are running for the party's 20...   \n",
       "1    This is the series America has been waiting fo...   \n",
       "2    The Turkish invasion of Kurdish-held territory...   \n",
       "3    McAleenan had been frustrated with a cadre of ...   \n",
       "4    The 2020 democratic hopeful was responding to ...   \n",
       "..                                                 ...   \n",
       "220  The Phillies have a new manager, now they need...   \n",
       "221  NEW YORK (AP)   A federal judge on Wednesday s...   \n",
       "222  If you feel the indulgence of an all-you-can-e...   \n",
       "223  The incentive program would give accused crimi...   \n",
       "224  The MLBPA released a statement on Wednesday sa...   \n",
       "\n",
       "                                        title_entities  \\\n",
       "0    [{\"Label\": \"Amy Klobuchar\", \"Type\": \"P\", \"Wiki...   \n",
       "1    [{\"Label\": \"Houston Astros\", \"Type\": \"O\", \"Wik...   \n",
       "2                                                   []   \n",
       "3    [{\"Label\": \"Kevin McAleenan\", \"Type\": \"P\", \"Wi...   \n",
       "4    [{\"Label\": \"Kamala Harris\", \"Type\": \"P\", \"Wiki...   \n",
       "..                                                 ...   \n",
       "220  [{\"Label\": \"Philadelphia Phillies\", \"Type\": \"O...   \n",
       "221  [{\"Label\": \"Donald Trump\", \"Type\": \"P\", \"Wikid...   \n",
       "222  [{\"Label\": \"New York City\", \"Type\": \"G\", \"Wiki...   \n",
       "223  [{\"Label\": \"Bill de Blasio\", \"Type\": \"P\", \"Wik...   \n",
       "224  [{\"Label\": \"Alex Anthopoulos\", \"Type\": \"P\", \"W...   \n",
       "\n",
       "                                     abstract_entities  \n",
       "0    [{\"Label\": \"Donald Trump\", \"Type\": \"P\", \"Wikid...  \n",
       "1    [{\"Label\": \"Houston Astros\", \"Type\": \"O\", \"Wik...  \n",
       "2    [{\"Label\": \"Rojava\", \"Type\": \"N\", \"WikidataId\"...  \n",
       "3    [{\"Label\": \"Kevin McAleenan\", \"Type\": \"P\", \"Wi...  \n",
       "4    [{\"Label\": \"Hillary Clinton\", \"Type\": \"P\", \"Wi...  \n",
       "..                                                 ...  \n",
       "220  [{\"Label\": \"Philadelphia Phillies\", \"Type\": \"O...  \n",
       "221  [{\"Label\": \"United States Department of Health...  \n",
       "222  [{\"Label\": \"Churrascaria\", \"Type\": \"C\", \"Wikid...  \n",
       "223  [{\"Label\": \"New York Mets\", \"Type\": \"O\", \"Wiki...  \n",
       "224  [{\"Label\": \"Alex Anthopoulos\", \"Type\": \"P\", \"W...  \n",
       "\n",
       "[225 rows x 8 columns]"
      ]
     },
     "execution_count": 33,
     "metadata": {},
     "output_type": "execute_result"
    }
   ],
   "source": [
    "df_history = pd.read_csv(history)\n",
    "df_history = df_history[df_history.UID==UID].merge(df_news_meta,on='NID')\n",
    "print('History!')\n",
    "df_history"
   ]
  },
  {
   "cell_type": "code",
   "execution_count": null,
   "id": "2bab4750-486b-4973-929c-88e5d8b2ad94",
   "metadata": {},
   "outputs": [],
   "source": []
  }
 ],
 "metadata": {
  "kernelspec": {
   "display_name": "Python 3 (ipykernel)",
   "language": "python",
   "name": "python3"
  },
  "language_info": {
   "codemirror_mode": {
    "name": "ipython",
    "version": 3
   },
   "file_extension": ".py",
   "mimetype": "text/x-python",
   "name": "python",
   "nbconvert_exporter": "python",
   "pygments_lexer": "ipython3",
   "version": "3.8.1"
  }
 },
 "nbformat": 4,
 "nbformat_minor": 5
}
