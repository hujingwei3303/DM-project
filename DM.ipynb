{
 "cells": [
  {
   "cell_type": "markdown",
   "id": "ed254487-be56-4850-9322-68b36e3923b6",
   "metadata": {},
   "source": [
    "### Run onece, to check environment"
   ]
  },
  {
   "cell_type": "code",
   "execution_count": 1,
   "id": "49aac7dc-f192-4294-bf52-ffa5efe4576b",
   "metadata": {},
   "outputs": [],
   "source": [
    "#!pip3 install -r requirements.txt"
   ]
  },
  {
   "cell_type": "markdown",
   "id": "f542f5f9-5cf1-4ecb-b125-f278aec541f3",
   "metadata": {},
   "source": [
    "### Scraper part, no need to run, just in case, can be adapted to other datasource\n",
    "* Fit Erik's code into Scrapy(20 minutes now). Scraping publish time of news.\n",
    "\n",
    "* To run it, put 'MINDlarge_train' in the top level directory of the project, which is 'DM-project'\n",
    "  * don't submit MINDlarge_train, add it to gitignore\n",
    "\n",
    "* Output filepath is 'DM-project/generate/newstimes.csv'\n",
    "\n",
    "* Don't forget to go back to the top level directory"
   ]
  },
  {
   "cell_type": "code",
   "execution_count": 2,
   "id": "8d89a97a-7cc1-41e7-8621-7d754dfb4d2c",
   "metadata": {},
   "outputs": [],
   "source": [
    "#%cd scraper"
   ]
  },
  {
   "cell_type": "code",
   "execution_count": 3,
   "id": "aa8c778f-7b8c-43f0-9d95-ba50159c4e44",
   "metadata": {},
   "outputs": [],
   "source": [
    "#!scrapy crawl news"
   ]
  },
  {
   "cell_type": "code",
   "execution_count": 4,
   "id": "3a5a131b-4311-4a19-9208-570d3d52939e",
   "metadata": {},
   "outputs": [],
   "source": [
    "#%cd .."
   ]
  },
  {
   "cell_type": "code",
   "execution_count": null,
   "id": "5d6a6f8c-93cb-4f4a-98e3-82a2e43e1ab3",
   "metadata": {},
   "outputs": [],
   "source": [
    "#newsTimes = 'generate/newstimes.csv'"
   ]
  },
  {
   "cell_type": "markdown",
   "id": "46bdda46-f5f0-44a9-98ce-933003153080",
   "metadata": {},
   "source": [
    "### Load Libraries"
   ]
  },
  {
   "cell_type": "code",
   "execution_count": 378,
   "id": "e53ad5d6-c82a-4d47-821e-288019030040",
   "metadata": {},
   "outputs": [],
   "source": [
    "import pandas as pd\n",
    "import numpy as np\n",
    "import matplotlib.pyplot as plt\n",
    "from scipy import spatial\n",
    "import sys\n",
    "import warnings\n",
    "\n",
    "if not sys.warnoptions:\n",
    "    warnings.simplefilter(\"ignore\")"
   ]
  },
  {
   "cell_type": "code",
   "execution_count": 379,
   "id": "42e70e77-a5c4-4bac-a3fa-9145cd1d4650",
   "metadata": {},
   "outputs": [],
   "source": [
    "behaviors = 'MINDlarge_train/behaviors.tsv'\n",
    "news = 'MINDlarge_train/news.tsv'\n",
    "entityEmbedding = 'MINDlarge_train/entity_embedding.vec'"
   ]
  },
  {
   "cell_type": "markdown",
   "id": "692732a6-7c5e-413a-ab05-2a0075b73e3f",
   "metadata": {},
   "source": [
    "### Preprocssing, run once"
   ]
  },
  {
   "cell_type": "code",
   "execution_count": 8,
   "id": "22dcb5a2-fea3-4d9e-a2ef-bddfdeaa91ad",
   "metadata": {},
   "outputs": [],
   "source": [
    "#import preprocessing.preprocessing as pre"
   ]
  },
  {
   "cell_type": "code",
   "execution_count": 9,
   "id": "acf4f14e-f599-472a-9fd8-ab51453d12fa",
   "metadata": {},
   "outputs": [],
   "source": [
    "#generate news_embedding.csv, news_cleaned.csv\n",
    "#pre.createNews(news,newsTimes,entityEmbedding)\n",
    "\n",
    "#generate user_history.csv, user_impression.csv\n",
    "#pre.createUsers(behaviors)\n",
    "\n",
    "#split big files\n",
    "#pre.splitFiles('generate/user_history.csv')\n",
    "#pre.splitFiles('generate/user_impressions.csv')"
   ]
  },
  {
   "cell_type": "markdown",
   "id": "dffa1cb0-b406-42bb-9b4d-54cdbd50aa36",
   "metadata": {},
   "source": [
    "### Categorical Embedding capture trending"
   ]
  },
  {
   "cell_type": "code",
   "execution_count": null,
   "id": "964758d6-f7d6-4e31-b0ed-3b113cdfe464",
   "metadata": {},
   "outputs": [],
   "source": [
    "df_news = pd.read_csv('generate/news_cleaned.csv')\n",
    "df_embeddings = pd.read_csv('generate/news_embedding.csv')"
   ]
  },
  {
   "cell_type": "markdown",
   "id": "622152df-3f82-4747-af15-86c5aa34e8e6",
   "metadata": {},
   "source": [
    "### Category embedding - solution 2\n",
    "\n",
    "Use nlp embedding, tokenize subcategories\n",
    "* i.e \n",
    "  * lifestylecelebrity-->lifestyle celebrity\n",
    "  * finance-investing-->finance investing\n",
    "  * football_fifa_wwc-->football fifa wwc\n",
    "* I made it by hand,because only 284 of them. In real world messy data, we can applying hidden markov model to maximize likelihood of possibility chain.(idea from Chinese NLP segmentation)\n",
    "\n",
    "* Pros:\n",
    "  * Capture relations in context that is the relation across categories while one-hot encoding doesn't.\n",
    "  * PinSage did so. They joint two embeddings ,vision embedding(picture) from CNN, context embedding(description, labels) from word2vec.\n",
    "\n",
    "* Cons: \n",
    "  * Still 300 dimensions in a embedding vector. (spacy, here), if we do one-hot, 284 only.\n",
    "       * PCA！ "
   ]
  },
  {
   "cell_type": "markdown",
   "id": "3355fed9-1bd5-40ce-a15b-372a92b0114e",
   "metadata": {},
   "source": [
    "### No need to run, already generated, but in case you want to play around.\n",
    "* generate/news_subcat_embedding_nlp.csv"
   ]
  },
  {
   "cell_type": "code",
   "execution_count": 22,
   "id": "6583c937-e974-41ba-8bd9-183126d74961",
   "metadata": {},
   "outputs": [],
   "source": [
    "#!pip3 install spacy"
   ]
  },
  {
   "cell_type": "code",
   "execution_count": 28,
   "id": "361ab8af-fe5a-4b92-b84c-132ca57fdf89",
   "metadata": {},
   "outputs": [],
   "source": [
    "#!python3 -m spacy download en_core_web_lg"
   ]
  },
  {
   "cell_type": "code",
   "execution_count": 207,
   "id": "84c7c34b-052c-49fc-bdbd-ed953b5d05d3",
   "metadata": {},
   "outputs": [],
   "source": [
    "#subcategories = \"generate/news_subcategories.csv\"\n",
    "#pre.createCategoriyEmbeddingNLP(subcategories)"
   ]
  },
  {
   "cell_type": "markdown",
   "id": "451d8c9b-df5f-443c-b3e3-fa4a9bc302c1",
   "metadata": {},
   "source": [
    "fcluster### Clustering!"
   ]
  },
  {
   "cell_type": "code",
   "execution_count": 559,
   "id": "ae91b7f3-3c5f-4ea4-bdea-2e9d4e3bd039",
   "metadata": {},
   "outputs": [],
   "source": [
    "from scipy.cluster.hierarchy import ward, fcluster\n",
    "from scipy.spatial.distance import pdist,cosine,cdist,squareform\n",
    "import numpy.ma as ma\n",
    "\n",
    "def clustering(X,vectorColumns,threshold,lam,withCentroid=False):\n",
    "    ''' X \n",
    "            [dataframe] group of user history\n",
    "        vectorColumns \n",
    "            [array like] embedding columns V1,V2....V300\n",
    "        threshold\n",
    "            [number] threshold for ward clustering\n",
    "        lam \n",
    "            [number] paramter for importance sampling\n",
    "       '''\n",
    "    m,n = X.shape\n",
    "    #print(X)\n",
    "    if m>1:\n",
    "        pairwise_distance = pdist(X[vectorColumns], metric='cosine')\n",
    "        \n",
    "        labels = fcluster(ward(pairwise_distance), t=threshold, criterion='distance')\n",
    "        #print(labels)\n",
    "        num_clusters = labels.max()\n",
    "        \n",
    "        scores = {}\n",
    "        for i in range(num_clusters):\n",
    "            c = i+1 #choose cluster\n",
    "            #if we use sum, both consider number of item and time importance\n",
    "            importance_score = X.loc[labels==c].importance.sum()\n",
    "            scores[c] = importance_score\n",
    "        \n",
    "        if num_clusters>3:\n",
    "            p = np.array(list(scores.values()))\n",
    "            sum_score = p.sum()\n",
    "            p /= sum_score\n",
    "            chosed = np.random.choice(list(scores.keys()),p=p,size=3,replace=False)\n",
    "        else:\n",
    "            chosed = np.array(list(scores.keys()))\n",
    "            \n",
    "        \n",
    "        medoids = []\n",
    "        distance_upper_bound = []\n",
    "        \n",
    "        pairwise = squareform(pairwise_distance) \n",
    "        \n",
    "        if withCentroid:\n",
    "            centroids = []\n",
    "           \n",
    "            \n",
    "        for c in chosed:\n",
    "            idx = np.argwhere(labels==c).flatten()\n",
    "            len_idx = len(idx)\n",
    "        \n",
    "            \n",
    "            mask = np.ones(pairwise.shape,dtype=int)\n",
    "            \n",
    "            for j in idx:\n",
    "                mask[j,idx]=0\n",
    "            masked_pairwise = ma.array(pairwise, mask = mask)\n",
    "            \n",
    "            if withCentroid:\n",
    "                mean_vector = X.loc[X.index[idx]][vectorColumns].mean().values\n",
    "            \n",
    "            if len_idx<3:\n",
    "                distance_upper_bound.append(0.5)   \n",
    "                medoids.append(X.loc[X.index[idx[0]]][vectorColumns].values)\n",
    "                if withCentroid:\n",
    "                    centroids.append(mean_vector) \n",
    "                continue\n",
    "            min_distance_i = masked_pairwise.sum(axis=1).argmin()\n",
    "            distances_i = masked_pairwise.compressed().reshape((len_idx,len_idx))[0]\n",
    "            distances_i = distances_i[~(distances_i==0)]\n",
    "            \n",
    "            #68%-95%-99.8% for 1,2,3 std\n",
    "            #!!!!!however\n",
    "            #according to the result, larger cluster has lower std.\n",
    "            \n",
    "            distance_upper_bound.append(distances_i.mean()+2*distances_i.std())   \n",
    "            medoids.append(X.loc[X.index[min_distance_i]][vectorColumns].values)\n",
    "            \n",
    "            if withCentroid:\n",
    "                centroids.append(mean_vector)\n",
    "            \n",
    "        if withCentroid:\n",
    "            return medoids,centroids,distance_upper_bound\n",
    "        else:\n",
    "            return medoids,distance_upper_bound\n",
    "    else:\n",
    "        if withCentroid:\n",
    "            return X[vectorColumns].values,X[vectorColumns].values,0.5*np.ones(X.shape[0])\n",
    "        else:\n",
    "            return X[vectorColumns].values,0.5*np.ones(X.shape[0])\n",
    "\n",
    "def clusteringBatch(history,t0,threshold=0.7,lam=0.01,withCentroid=False):\n",
    "    df_news_embedding = pd.read_csv('generate/news_embedding.csv')\n",
    "    df_news_meta = pd.read_csv('generate/news_cleaned.csv')\n",
    "    \n",
    "    df_history = pd.read_csv(history)\n",
    "    \n",
    "    \n",
    "    #df_history = df_history[df_history.UID=='U1']\n",
    " \n",
    "    df_history = df_history.merge(df_news_embedding,on='NID')\n",
    "    df_history = df_history.merge(df_news_meta,on='NID')\n",
    "\n",
    "\n",
    "    df_history['importance'] = np.exp(-lam*(t0-df_history.publishDate)/100000)\n",
    "\n",
    "    vectorColumns = [c for c in df_history.columns if c.startswith('V')]\n",
    "\n",
    "    if withCentroid:\n",
    "        records_medoid = []\n",
    "        records_centroid = []\n",
    "        \n",
    "        for UID,g in df_history.groupby('UID'):\n",
    "            medoid,centroid,radius = clustering(g,vectorColumns,threshold,lam,withCentroid)\n",
    "        \n",
    "            len_centroid = len(centroid)\n",
    "        \n",
    "            for c in range(len_centroid):\n",
    "                record = []\n",
    "                record.append(UID)\n",
    "                record+=centroid[c].tolist()\n",
    "                record.append(radius[c])\n",
    "                records_centroid.append(record)\n",
    "                \n",
    "                record = []\n",
    "                record.append(UID)\n",
    "                record+=medoid[c].tolist()\n",
    "                record.append(radius[c])\n",
    "                records_medoid.append(record)\n",
    "        \n",
    "        df_centroid = pd.DataFrame.from_records(records_centroid,columns=['UID']+vectorColumns+['radius'])\n",
    "        df_medoid = pd.DataFrame.from_records(records_medoid,columns=['UID']+vectorColumns+['radius'])\n",
    "        return df_medoid,df_centroid\n",
    "    else:\n",
    "        medoid,radius = clustering(g,vectorColumns,threshold,lam,withCentroid)\n",
    "        \n",
    "        len_medoid = len(medoid)\n",
    "        \n",
    "        for c in range(len_centroid):\n",
    "            record = []\n",
    "            record.append(UID)\n",
    "            record+=centroid[c].tolist()\n",
    "            record.append(radius[c])\n",
    "            records_medoid.append(record)\n",
    "                \n",
    "        \n",
    "        df_medoid = pd.DataFrame.from_records(records_medoid,columns=['UID']+vectorColumns+['radius'])\n",
    "        return df_medoid"
   ]
  },
  {
   "cell_type": "markdown",
   "id": "14b94f06-3cbe-416e-9175-43c16c865bb2",
   "metadata": {},
   "source": [
    "### what if use centroid of clustering as user representation"
   ]
  },
  {
   "cell_type": "code",
   "execution_count": 592,
   "id": "6d451fe2-52e1-4a49-9f4d-0f3e78fd6bab",
   "metadata": {},
   "outputs": [],
   "source": [
    "def measurement(impression,df_user_representation):\n",
    "    df_impression = pd.read_csv(impression)\n",
    "    df_impression = df_impression[df_impression.attitude==1]\n",
    "    \n",
    "    #df_impression = df_impression[df_impression.UID=='U1']\n",
    "    \n",
    "    df_news_embedding = pd.read_csv('generate/news_embedding.csv')\n",
    "    df_impression = df_impression.merge(df_news_embedding,on='NID')\n",
    "    \n",
    "    vectorColumns = [c for c in df_impression.columns if c.startswith('V')]\n",
    "        \n",
    "    measure = []\n",
    "    for UID,g in df_impression.groupby('UID'):\n",
    "        \n",
    "        user = df_user_representation[df_user_representation.UID==UID]\n",
    "        \n",
    "        if len(user)==0:\n",
    "            continue\n",
    "        \n",
    "        user_radius = user.radius.values\n",
    "        user = user[vectorColumns].values\n",
    "        \n",
    "        positive = g[vectorColumns]\n",
    "        \n",
    "        d = cdist(positive,user, metric='cosine')\n",
    "       \n",
    "        #at least one distance in radius\n",
    "        hits = (d<user_radius).sum(axis=1)>0\n",
    "        recall = hits.mean()\n",
    "        \n",
    "        hits_d = d[hits]\n",
    "        where_clusters = hits_d.argmin(axis=1)\n",
    "        \n",
    "        hit = 1 - len(np.unique(where_clusters))/len(user)\n",
    "       \n",
    "        measure.append((UID,recall,hit))\n",
    "        \n",
    "    return pd.DataFrame.from_records(measure,columns=['UID','recall','percent_empty'])"
   ]
  },
  {
   "cell_type": "markdown",
   "id": "078d9263-8e9c-4858-8cf4-b917cdc6cbfb",
   "metadata": {},
   "source": [
    "### Medoid vs. Centroid"
   ]
  },
  {
   "cell_type": "code",
   "execution_count": 562,
   "id": "4964fd10-7ef8-421b-9fd8-e9fe2a5d31c6",
   "metadata": {},
   "outputs": [],
   "source": [
    "t0 = 1575586800+1000\n",
    "lam = 0.01\n",
    "threshold = 0.85\n",
    "\n",
    "history = 'generate/user_history_1.csv'\n",
    "impression = 'generate/user_impressions_1.csv'\n",
    "\n",
    "df_user_representation_medoid,df_user_representation_centroid = clusteringBatch(history,t0,threshold=threshold,lam=lam,withCentroid=True)"
   ]
  },
  {
   "cell_type": "code",
   "execution_count": 593,
   "id": "7d100833-82bf-4df6-a3d8-14bbf83e1ea6",
   "metadata": {},
   "outputs": [
    {
     "data": {
      "text/plain": [
       "0.703871600186037"
      ]
     },
     "execution_count": 593,
     "metadata": {},
     "output_type": "execute_result"
    }
   ],
   "source": [
    "df_measure_centroid = measurement(impression,df_user_representation_centroid)\n",
    "df_measure_centroid.recall.mean()"
   ]
  },
  {
   "cell_type": "code",
   "execution_count": 594,
   "id": "33d2352b-8783-468a-8032-a30fd8651e79",
   "metadata": {},
   "outputs": [
    {
     "data": {
      "text/plain": [
       "0.6462028412568553"
      ]
     },
     "execution_count": 594,
     "metadata": {},
     "output_type": "execute_result"
    }
   ],
   "source": [
    "df_measure_medoid = measurement(impression,df_user_representation_medoid)\n",
    "df_measure_medoid.recall.mean()"
   ]
  },
  {
   "cell_type": "code",
   "execution_count": 371,
   "id": "49b2c8f8-8463-4f07-bf9e-3591aa055ab7",
   "metadata": {},
   "outputs": [
    {
     "data": {
      "text/plain": [
       "<AxesSubplot:>"
      ]
     },
     "execution_count": 371,
     "metadata": {},
     "output_type": "execute_result"
    },
    {
     "data": {
      "image/png": "[encoded data removed]",
      "text/plain": [
       "<Figure size 432x288 with 1 Axes>"
      ]
     },
     "metadata": {
      "needs_background": "light"
     },
     "output_type": "display_data"
    }
   ],
   "source": [
    "df_user_representation[~(df_user_representation.radius==0.5)].radius.hist(bins=40)"
   ]
  },
  {
   "cell_type": "code",
   "execution_count": null,
   "id": "b00c6230-7d16-4bd6-a4e6-383615b857d4",
   "metadata": {},
   "outputs": [],
   "source": []
  }
 ],
 "metadata": {
  "kernelspec": {
   "display_name": "Python 3 (ipykernel)",
   "language": "python",
   "name": "python3"
  },
  "language_info": {
   "codemirror_mode": {
    "name": "ipython",
    "version": 3
   },
   "file_extension": ".py",
   "mimetype": "text/x-python",
   "name": "python",
   "nbconvert_exporter": "python",
   "pygments_lexer": "ipython3",
   "version": "3.8.1"
  }
 },
 "nbformat": 4,
 "nbformat_minor": 5
}
